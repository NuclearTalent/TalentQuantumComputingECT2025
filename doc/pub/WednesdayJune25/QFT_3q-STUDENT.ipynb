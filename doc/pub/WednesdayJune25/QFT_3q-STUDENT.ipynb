{
 "cells": [
  {
   "cell_type": "markdown",
   "id": "increasing-wallace",
   "metadata": {},
   "source": [
    "# ECT Talent school\n",
    "\n",
    "## Quantum Fourier Transform on 3 qubits -- Qiskit.org implementation with modifications"
   ]
  },
  {
   "cell_type": "markdown",
   "id": "wireless-baltimore",
   "metadata": {},
   "source": [
    "This notebook is assembled from the code blocks of Qiskit v.0 with some changes that make it work with Qiskit v.2.\n",
    "\n",
    "Literature:\n",
    "\n",
    "- Nielsen, Chuang, \"Quantum Computation and Quantum Information\", chapter 4,\n",
    "-  Benenti, Casati, Rossini, Strini, \"Principles of Quantum Computation and Information: A Comprehensive Textbook\", chapter 5,\n",
    "-  Zygelman, \"A First Introduction to Quantum Computing and Information\", chapter 4.\n"
   ]
  },
  {
   "cell_type": "code",
   "execution_count": null,
   "id": "removed-financing",
   "metadata": {},
   "outputs": [],
   "source": [
    "# initialization\n",
    "import numpy as np\n",
    "from numpy import pi\n",
    "\n",
    "# importing qiskit\n",
    "from qiskit import *\n",
    "from qiskit.visualization import plot_histogram\n",
    "\n",
    "# backend\n",
    "import qiskit_aer\n"
   ]
  },
  {
   "cell_type": "markdown",
   "id": "desirable-beginning",
   "metadata": {},
   "source": [
    "**Note: Qiskit labeling of the bits is the opposite to Nielsen, Chuang, therefore all circuits here are mirrored with respect to the horizonatl axis.**"
   ]
  },
  {
   "cell_type": "markdown",
   "id": "focused-ticket",
   "metadata": {},
   "source": [
    "Next, create the input state as $|110\\rangle$ (the least significant bit $q_0$ is the last one).\n",
    "\n",
    "Then add the quantum Fourier transform circuit."
   ]
  },
  {
   "cell_type": "code",
   "execution_count": null,
   "id": "bright-professor",
   "metadata": {},
   "outputs": [],
   "source": [
    "qc = QuantumCircuit(3)\n",
    "\n",
    "# create input 110\n",
    "qc.x(1)\n",
    "qc.x(2)\n",
    "\n",
    "qc.barrier()\n",
    "\n",
    "# assemble the Fourier transform\n",
    "qc.h(2)\n",
    "qc.cp(pi/2, 1, 2) # CROT from qubit 1 to qubit 2\n",
    "qc.cp(pi/4, 0, 2) # CROT from qubit 2 to qubit 0\n",
    "qc.h(1)\n",
    "qc.cp(pi/2, 0, 1) # CROT from qubit 0 to qubit 1\n",
    "qc.h(0)\n",
    "qc.swap(0,2)\n",
    "qc.draw( 'mpl', scale=1.5 )"
   ]
  },
  {
   "cell_type": "markdown",
   "id": "legitimate-costa",
   "metadata": {},
   "source": [
    "**Task 1.** Calculate analytically what state vector you expect after the Fourier transform.\n",
    "Use `statevector_simulator` backend functionality to read the state vector at the end of the circuit. Print the amplitudes of all basis vectors in a loop and compare them to your analytical calculation."
   ]
  },
  {
   "cell_type": "markdown",
   "id": "communist-bunny",
   "metadata": {},
   "source": [
    "You can organize the output e.g. like this:\n",
    "\n",
    "```\n",
    "|000> amplitude: (...+...j)\n",
    "|001> amplitude: (...+...j)\n",
    "....\n",
    "```\n"
   ]
  },
  {
   "cell_type": "markdown",
   "id": "genetic-brown",
   "metadata": {},
   "source": [
    "**Extra:** Experiment with changing the input state."
   ]
  },
  {
   "cell_type": "code",
   "execution_count": null,
   "id": "honey-overview",
   "metadata": {
    "jupyter": {
     "source_hidden": true
    }
   },
   "outputs": [],
   "source": [
    "# put your code here\n"
   ]
  },
  {
   "cell_type": "markdown",
   "id": "6168ac38-1d23-4ce4-9e0b-3dd7e03337e6",
   "metadata": {},
   "source": [
    "**Task 2.** Construct a 4-qubit circuit. Repeat the previous task with different initial states. Check against analytic calculations."
   ]
  },
  {
   "cell_type": "code",
   "execution_count": null,
   "id": "53838819-780a-4fc7-bbd5-27189bffe825",
   "metadata": {
    "jupyter": {
     "source_hidden": true
    }
   },
   "outputs": [],
   "source": [
    "# put your code here\n"
   ]
  },
  {
   "cell_type": "markdown",
   "id": "d00d6c2e-6a25-4df6-b7ef-d26285eb4005",
   "metadata": {},
   "source": [
    " "
   ]
  }
 ],
 "metadata": {
  "kernelspec": {
   "display_name": "Python 3 (ipykernel)",
   "language": "python",
   "name": "python3"
  },
  "language_info": {
   "codemirror_mode": {
    "name": "ipython",
    "version": 3
   },
   "file_extension": ".py",
   "mimetype": "text/x-python",
   "name": "python",
   "nbconvert_exporter": "python",
   "pygments_lexer": "ipython3",
   "version": "3.12.2"
  }
 },
 "nbformat": 4,
 "nbformat_minor": 5
}
