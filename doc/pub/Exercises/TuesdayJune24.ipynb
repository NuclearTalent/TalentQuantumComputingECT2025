{
  "cells": [
    {
      "cell_type": "markdown",
      "id": "1ca14ff5",
      "metadata": {
        "id": "1ca14ff5"
      },
      "source": [
        "## Overview"
      ]
    },
    {
      "cell_type": "markdown",
      "id": "9b8c8a9a",
      "metadata": {
        "id": "9b8c8a9a"
      },
      "source": [
        "**Time evolution** refers to (computationally) solving for the dynamics of a quantum system given an initial state and Hamiltonian. From the Schrodinger equation ($\\hbar = 1$) $ \\dot{\\psi} = - i H \\psi ,$ we can immediately write down the solution $ \\psi(t) = \\psi(0) \\exp(-i H t)$ (for time-independent $H$). But how do you actually evaluate $\\exp(-i H t)$? As this is a central question many techniques and approximations have been developed. You will implement one important and widely applicable approximation known as Trotterization (or the Trotter formula) to do this."
      ]
    },
    {
      "cell_type": "markdown",
      "id": "4bdd5302",
      "metadata": {
        "id": "4bdd5302"
      },
      "source": [
        "<h3><center><a href=\"https://indico.ectstar.eu/event/250/\">ECT* DTP-TALENT 2025: Quantum Computing For Nuclear Physics</a></center></h3>\n",
        "\n",
        "<h1><center>Time evolution via Trotter</center></h1>"
      ]
    },
    {
      "cell_type": "markdown",
      "id": "3d191129",
      "metadata": {
        "id": "3d191129"
      },
      "source": [
        "## Setup"
      ]
    },
    {
      "cell_type": "markdown",
      "id": "42e3e610",
      "metadata": {
        "id": "42e3e610"
      },
      "source": [
        "Install packages here. You are free to use any quantum information software package like [Cirq](https://quantumai.google/cirq), [Qiskit](https://qiskit.org/), or [QuTiP](https://qutip.org/). For the exact numerics, use NumPy and SciPy."
      ]
    },
    {
      "cell_type": "code",
      "execution_count": null,
      "id": "7a8fa0ed",
      "metadata": {
        "id": "7a8fa0ed"
      },
      "outputs": [],
      "source": [
        "!pip install cirq-core qiskit qiskit_aer --quiet"
      ]
    },
    {
      "cell_type": "code",
      "execution_count": null,
      "id": "dcf08e73",
      "metadata": {
        "id": "dcf08e73"
      },
      "outputs": [],
      "source": [
        "import itertools\n",
        "import functools\n",
        "\n",
        "import matplotlib.pyplot as plt\n",
        "import networkx as nx\n",
        "import numpy as np\n",
        "import scipy\n",
        "import tqdm\n",
        "\n",
        "# If you want to use good software.\n",
        "import cirq\n",
        "\n",
        "# If you want to use a cloud quantum computer (or want to use bad software and/or like misery).\n",
        "import qiskit\n",
        "import qiskit_aer"
      ]
    },
    {
      "cell_type": "code",
      "execution_count": null,
      "id": "-BdfKER5IX1j",
      "metadata": {
        "id": "-BdfKER5IX1j"
      },
      "outputs": [],
      "source": [
        "\"\"\"[Unimportant] Set notebook options.\"\"\"\n",
        "import warnings\n",
        "warnings.filterwarnings(\"ignore\", category=tqdm.TqdmDeprecationWarning)\n",
        "\n",
        "plt.rcParams.update({\"font.family\": \"serif\", \"font.size\": 16})\n",
        "plot_options = {\"cmap\": \"bwr\", \"vmin\": -1.0, \"vmax\": 1.0, \"shading\": \"nearest\"}"
      ]
    },
    {
      "cell_type": "markdown",
      "source": [
        "## (1) Quantum simulation"
      ],
      "metadata": {
        "id": "8iG1r3NeLAVt"
      },
      "id": "8iG1r3NeLAVt"
    },
    {
      "cell_type": "markdown",
      "source": [
        "We will consider the one-dimensional transverse-field Ising model (TFIM) on $n$ sites (qubits) with periodic boundary conditions\n",
        "\n",
        "$$ H = J \\sum_{i = 1}^{n} Z_i Z_{i + 1} - \\Gamma \\sum_{i = 1}^{n} X_i .$$\n",
        "\n",
        "Here $X$ and $Z$ are Pauli operators which in the computational basis have matrices\n",
        "\n",
        "$$ X = \\left[ \\begin{matrix} 0 & 1 \\\\ 1 & 0 \\end{matrix} \\right], \\qquad Z = \\left[ \\begin{matrix} 1 & 0 \\\\ 0 & -1 \\end{matrix} \\right] . $$\n",
        "\n",
        "Subscripts refer to the sites (qubits) the Pauli acts on, and products are tensor products. So, for example, $Z_1 Z_2 \\equiv Z_1 \\otimes Z_2 \\equiv Z \\otimes Z \\otimes I$ with $n = 3$."
      ],
      "metadata": {
        "id": "aiHDdlZ8LDY4"
      },
      "id": "aiHDdlZ8LDY4"
    },
    {
      "cell_type": "markdown",
      "id": "aa04c0ac",
      "metadata": {
        "id": "aa04c0ac"
      },
      "source": [
        "### Exact calculations"
      ]
    },
    {
      "cell_type": "markdown",
      "id": "f0d8de83",
      "metadata": {
        "id": "f0d8de83"
      },
      "source": [
        "Before we start with approximations, let's do some classical brute-force, exact (unscalable) calculations."
      ]
    },
    {
      "cell_type": "markdown",
      "id": "yjwHAM-h-1AU",
      "metadata": {
        "id": "yjwHAM-h-1AU"
      },
      "source": [
        "#### (1.1) A function for the TFIM Hamiltonian"
      ]
    },
    {
      "cell_type": "markdown",
      "id": "tTJXLDfeNm6g",
      "metadata": {
        "id": "tTJXLDfeNm6g"
      },
      "source": [
        "> Write a function to return the TFIM Hamiltonian $H$ as a NumPy array for a given $n$, $J$, and $\\Gamma$."
      ]
    },
    {
      "cell_type": "code",
      "execution_count": null,
      "id": "ea31dd4d",
      "metadata": {
        "id": "ea31dd4d"
      },
      "outputs": [],
      "source": [
        "def get_tfim_hamiltonian(\n",
        "    nqubits: int,\n",
        "    coupling: float = 1,\n",
        "    gamma: float = 0.25,\n",
        ") -> np.ndarray:\n",
        "    qubits = cirq.LineQubit.range(nqubits)\n",
        "\n",
        "    pauli_sum = coupling * sum(\n",
        "        cirq.Z.on(qubits[i]) * cirq.Z.on(qubits[(i + 1) % nqubits]) for i in range(nqubits)\n",
        "    ) - gamma * sum(cirq.X.on(qubits[i]) for i in range(nqubits))\n",
        "\n",
        "    return pauli_sum.matrix()"
      ]
    },
    {
      "cell_type": "code",
      "source": [
        "get_tfim_hamiltonian(nqubits=3).real"
      ],
      "metadata": {
        "colab": {
          "base_uri": "https://localhost:8080/"
        },
        "id": "CQ1qt2uX86Zq",
        "outputId": "34053264-dcd8-46eb-891e-5d19b4a58e1e"
      },
      "id": "CQ1qt2uX86Zq",
      "execution_count": null,
      "outputs": [
        {
          "output_type": "execute_result",
          "data": {
            "text/plain": [
              "array([[ 3.  , -0.25, -0.25,  0.  , -0.25,  0.  ,  0.  ,  0.  ],\n",
              "       [-0.25, -1.  ,  0.  , -0.25,  0.  , -0.25,  0.  ,  0.  ],\n",
              "       [-0.25,  0.  , -1.  , -0.25,  0.  ,  0.  , -0.25,  0.  ],\n",
              "       [ 0.  , -0.25, -0.25, -1.  ,  0.  ,  0.  ,  0.  , -0.25],\n",
              "       [-0.25,  0.  ,  0.  ,  0.  , -1.  , -0.25, -0.25,  0.  ],\n",
              "       [ 0.  , -0.25,  0.  ,  0.  , -0.25, -1.  ,  0.  , -0.25],\n",
              "       [ 0.  ,  0.  , -0.25,  0.  , -0.25,  0.  , -1.  , -0.25],\n",
              "       [ 0.  ,  0.  ,  0.  , -0.25,  0.  , -0.25, -0.25,  3.  ]])"
            ]
          },
          "metadata": {},
          "execution_count": 5
        }
      ]
    },
    {
      "cell_type": "markdown",
      "id": "Fnq1ZvMpNyg3",
      "metadata": {
        "id": "Fnq1ZvMpNyg3"
      },
      "source": [
        "*Note: The Hamiltonian is sparse and can be more compactly represented with objects in [`scipy.sparse`](https://docs.scipy.org/doc/scipy/reference/sparse.html). Here we just use (dense) NumPy arrays for simplicity with the small ($n = 10$) problem size.*"
      ]
    },
    {
      "cell_type": "markdown",
      "id": "YOXFBLf6Ovrz",
      "metadata": {
        "id": "YOXFBLf6Ovrz"
      },
      "source": [
        "> For the remaining problems, use the TFIM Hamiltonian $H$ with $n = 10$, $J = 1$, and $\\Gamma = 0.25$.\n"
      ]
    },
    {
      "cell_type": "markdown",
      "id": "-I86NSdU-44X",
      "metadata": {
        "id": "-I86NSdU-44X"
      },
      "source": [
        "#### (1.2) Exact time evolution to compute magnetization"
      ]
    },
    {
      "cell_type": "markdown",
      "id": "nAJveAHgN-Kk",
      "metadata": {
        "id": "nAJveAHgN-Kk"
      },
      "source": [
        "> Compute and plot the magnetization $\\langle Z_j \\rangle (t) =  \\langle \\psi(t) | Z_j | \\psi(t) \\rangle$ for each site (qubit) $j = 1, ..., 10$ and each time $t$ in `np.linspace(0, 50, 100)`.\n",
        ">\n",
        "> - Here, $|\\psi(t)\\rangle = \\exp(-i H t) |\\psi(0)\\rangle$\n",
        "> - Use $|\\psi(0)\\rangle = |0000100000\\rangle$ for the initial state. (All spins down except for one spin up in the middle.)\n",
        ">\n",
        "> For plotting, use [`matplotlib.pyplot.imshow`](https://matplotlib.org/stable/api/_as_gen/matplotlib.pyplot.imshow.html) or [`matplotlib.pyplot.pcolormesh`](https://matplotlib.org/stable/api/_as_gen/matplotlib.pyplot.pcolormesh.html) or similar."
      ]
    },
    {
      "cell_type": "code",
      "execution_count": null,
      "id": "593915af",
      "metadata": {
        "id": "593915af"
      },
      "outputs": [],
      "source": [
        "\"\"\"Set parameters for Hamiltonian.\"\"\"\n",
        "nqubits = 8\n",
        "coupling = 1.0\n",
        "gamma = 0.25\n",
        "\n",
        "ham = get_tfim_hamiltonian(nqubits=nqubits, coupling=coupling, gamma=gamma)"
      ]
    },
    {
      "cell_type": "code",
      "execution_count": null,
      "id": "iN2NYMe4ejvk",
      "metadata": {
        "id": "iN2NYMe4ejvk"
      },
      "outputs": [],
      "source": [
        "\"\"\"Set parameters for initial state.\"\"\"\n",
        "qubits = cirq.LineQubit.range(nqubits)\n",
        "upqubit = nqubits // 2 - 1"
      ]
    },
    {
      "cell_type": "code",
      "execution_count": null,
      "id": "6gj2uDm2H5JK",
      "metadata": {
        "id": "6gj2uDm2H5JK"
      },
      "outputs": [],
      "source": [
        "\"\"\"Set parameters for time evolution.\"\"\"\n",
        "tmin = 0.0\n",
        "tmax = 50.0\n",
        "tsteps = 100\n",
        "\n",
        "times = np.linspace(tmin, tmax, tsteps)"
      ]
    },
    {
      "cell_type": "code",
      "execution_count": null,
      "id": "650dfd6a",
      "metadata": {
        "colab": {
          "base_uri": "https://localhost:8080/",
          "height": 49,
          "referenced_widgets": [
            "e805767dd5504fb6b34721c3a0e6e736",
            "9f951ac7daf84b178560798ed1e9568b",
            "d4c7358e9bec445e82cb7ba7696d44ed",
            "a4742ffda44143fdb724b221fc8f6ac0",
            "8fda83e551cd486687e459d243315b43",
            "0510e6ed4e664340933b185f91a362b3",
            "635ab34a375c4a779d05c7548c30e98b",
            "d7d8b1c444a044858d208f235f68d404",
            "c4b27d80218d46e0a638f0c77df8ab3f",
            "8e38953d5c2b4744abf3c3317bb5fdb3",
            "1ade7273a1e74318b1e2d2e4fa7c19da"
          ]
        },
        "id": "650dfd6a",
        "outputId": "289a6d54-52f6-4ff9-f14f-e28b2b655b5b"
      },
      "outputs": [
        {
          "output_type": "display_data",
          "data": {
            "text/plain": [
              "  0%|          | 0/100 [00:00<?, ?it/s]"
            ],
            "application/vnd.jupyter.widget-view+json": {
              "version_major": 2,
              "version_minor": 0,
              "model_id": "e805767dd5504fb6b34721c3a0e6e736"
            }
          },
          "metadata": {}
        }
      ],
      "source": [
        "\"\"\"Compute magnetizations via exact time evolution.\"\"\"\n",
        "# Allocate array to store the magnetizations.\n",
        "magnetizations = np.empty(shape=(tsteps, nqubits))\n",
        "\n",
        "# Set the initial state.\n",
        "istates = [cirq.KET_ZERO.state_vector()] * nqubits\n",
        "istates[upqubit] = cirq.KET_ONE.state_vector()\n",
        "istate = functools.reduce(np.kron, istates)\n",
        "\n",
        "# Do the time evolution.\n",
        "for t in tqdm.tqdm_notebook(range(tsteps)):\n",
        "    # Compute the time-evolved state. This is what we'll use Trotterization for in the next problem!\n",
        "    psi = scipy.linalg.expm(-1j * ham * times[t]) @ istate\n",
        "\n",
        "    # Compute the magnetization per site.\n",
        "    for j in range(nqubits):\n",
        "        observable = cirq.Z.on(qubits[j]).matrix(qubits)\n",
        "        magnetization = np.real_if_close(psi.conj().T @ observable @ psi)\n",
        "        magnetizations[t, j] = magnetization"
      ]
    },
    {
      "cell_type": "code",
      "execution_count": null,
      "id": "1d56cfbc",
      "metadata": {
        "id": "1d56cfbc",
        "colab": {
          "base_uri": "https://localhost:8080/",
          "height": 312
        },
        "outputId": "ec8ca082-60eb-44fb-fcc3-a607a1d9592f"
      },
      "outputs": [
        {
          "output_type": "display_data",
          "data": {
            "text/plain": [
              "<Figure size 2000x500 with 2 Axes>"
            ],
            "image/png": "[encoded data removed]"
          },
          "metadata": {}
        }
      ],
      "source": [
        "\"\"\"Plot magnetizations.\"\"\"\n",
        "plt.figure(figsize=(20, 5))\n",
        "\n",
        "plt.pcolormesh(times, range(nqubits), magnetizations.T, **plot_options)\n",
        "\n",
        "plt.xlabel(r\"Time ($t$)\")\n",
        "plt.ylabel(r\"Qubit ($j$)\")\n",
        "plt.title(r\"$\\langle Z_j \\rangle (t)$\")\n",
        "\n",
        "plt.colorbar()\n",
        "plt.tight_layout();"
      ]
    },
    {
      "cell_type": "markdown",
      "id": "9a0ffe4b",
      "metadata": {
        "id": "9a0ffe4b"
      },
      "source": [
        "### Trotterized time evolution"
      ]
    },
    {
      "cell_type": "markdown",
      "id": "e42f7c6f",
      "metadata": {
        "id": "e42f7c6f"
      },
      "source": [
        "Consider a Hamiltonian $H = H_A + H_B$. If $[H_A, H_B] = 0$ (square brackets denote commutation), exponentiation is very simple: $\\exp(-i H t) = \\exp(-i H_A t) \\exp(-i H_B t)$.\n",
        "\n",
        "Of course $[H_A, H_B] \\neq 0$ in general. The [first order (Lie-) Trotter (-Suzuki) formula](https://simons.berkeley.edu/sites/default/files/docs/15639/trottererrortheorysimons.pdf) says that, if $||H_A||, ||H_B|| \\le 1$,\n",
        "\n",
        "$$ \\exp (- i (H_A + H_B) t) = \\exp(-i H_A t) \\exp(-i H_B t) + O(|| [H_A, H_B] || t^2) .$$\n",
        "\n",
        "For the TFIM we can split our Hamiltonian into two mutually commuting groups, namely $H_Z := J \\sum_{i = 1}^{n} Z_i Z_{i + 1}$ and $H_X := - \\Gamma \\sum_{i = 1}^{n} X_i$, and apply this formula with $H = H_Z + H_X$.\n",
        "\n"
      ]
    },
    {
      "cell_type": "markdown",
      "id": "v_PM-eSDHGSd",
      "metadata": {
        "id": "v_PM-eSDHGSd"
      },
      "source": [
        "#### (1.3) A function for 1st order Trotter"
      ]
    },
    {
      "cell_type": "markdown",
      "id": "2ji27zA2Pa5X",
      "metadata": {
        "id": "2ji27zA2Pa5X"
      },
      "source": [
        "> Write a function to input time $t$ and return the (quantum circuit) operations for the first-order Trotter formula with the TFIM. Use the same $n$, $J$, and $\\Gamma$ as above."
      ]
    },
    {
      "cell_type": "markdown",
      "source": [
        "##### Using Cirq"
      ],
      "metadata": {
        "id": "BXMWXPz4aC25"
      },
      "id": "BXMWXPz4aC25"
    },
    {
      "cell_type": "code",
      "source": [
        "# TODO: Complete either the _unitary_ or the _decompose_ method in the custom gate below,\n",
        "#  then complete the trotter_step function.\n",
        "class ExpZZ(cirq.Gate):\n",
        "    def __init__(self, theta):\n",
        "        super(ExpZZ, self)\n",
        "        self.theta = theta\n",
        "\n",
        "    def _num_qubits_(self):\n",
        "        return 2\n",
        "\n",
        "    # Use the unitary...\n",
        "    def _unitary_(self):\n",
        "        pass  # TODO: Your code here.\n",
        "\n",
        "    # ...or use a decomposition.\n",
        "    # def _decompose_(self, qubits):\n",
        "    #     a, b = qubits\n",
        "    #     yield cirq.CNOT(a, b)\n",
        "    #     yield ...\n",
        "\n",
        "    def _circuit_diagram_info_(self, args):\n",
        "        return f\"ExpZZ({self.theta})\"\n",
        "\n",
        "\n",
        "def trotter_step(time: float) -> cirq.OP_TREE:\n",
        "    pass # Your code here."
      ],
      "metadata": {
        "id": "aqEraEMTkQ61"
      },
      "id": "aqEraEMTkQ61",
      "execution_count": null,
      "outputs": []
    },
    {
      "cell_type": "markdown",
      "source": [
        "##### Using Qiskit"
      ],
      "metadata": {
        "id": "GTbpVvonaIZJ"
      },
      "id": "GTbpVvonaIZJ"
    },
    {
      "cell_type": "code",
      "execution_count": null,
      "id": "4DM6d0cMJoZX",
      "metadata": {
        "id": "4DM6d0cMJoZX"
      },
      "outputs": [],
      "source": [
        "# If you're using Qiskit, write a function to do this task here. An optional template is provided.\n",
        "def trotter_step_qiskit(\n",
        "    circuit_qiskit: qiskit.QuantumCircuit,\n",
        "    qreg: qiskit.QuantumRegister,\n",
        "    time: float,\n",
        "    add_barriers: bool = True,\n",
        ") -> None:\n",
        "    pass  # Your code here."
      ]
    },
    {
      "cell_type": "markdown",
      "id": "aNmIZPJ1huiV",
      "metadata": {
        "id": "aNmIZPJ1huiV"
      },
      "source": [
        "#### (1.4) Simulation to compute the magnetization per qubit"
      ]
    },
    {
      "cell_type": "markdown",
      "id": "RFuWAr63PhWA",
      "metadata": {
        "id": "RFuWAr63PhWA"
      },
      "source": [
        "> Simulate your circuit using $10^4$ shots (samples) to compute the magnetization per qubit using the same parameters as above, and plot the result."
      ]
    },
    {
      "cell_type": "code",
      "source": [
        "# Set parameters. Note: `ntrotter` introduced in problem (1.5).\n",
        "nshots = 10_000\n",
        "ntrotter = 1"
      ],
      "metadata": {
        "id": "H-LXAPwucbnx"
      },
      "id": "H-LXAPwucbnx",
      "execution_count": null,
      "outputs": []
    },
    {
      "cell_type": "markdown",
      "source": [
        "##### Using Cirq"
      ],
      "metadata": {
        "id": "Bu0s4hCrcRMd"
      },
      "id": "Bu0s4hCrcRMd"
    },
    {
      "cell_type": "markdown",
      "source": [
        "*Note:* This cell assumes some variables, e.g. that you kept the name `trotter_step` from the template function. Update as needed."
      ],
      "metadata": {
        "id": "nRW1Yti9NPKX"
      },
      "id": "nRW1Yti9NPKX"
    },
    {
      "cell_type": "code",
      "execution_count": null,
      "id": "llqQVgXeI_Kn",
      "metadata": {
        "id": "llqQVgXeI_Kn"
      },
      "outputs": [],
      "source": [
        "# Allocate array to store magnetizations.\n",
        "magnetizations_trotter = np.empty(shape=(tsteps, nqubits))\n",
        "\n",
        "for t in tqdm.tqdm_notebook(range(tsteps)):\n",
        "    # Get the circuit to do 1st order Trotter.\n",
        "    circuit = cirq.Circuit(\n",
        "        # Initial state.\n",
        "        cirq.Moment(cirq.X.on(qubits[upqubit])),\n",
        "        # Trotter step(s).\n",
        "        [trotter_step(times[t] / ntrotter) for _ in range(ntrotter)],\n",
        "        # Measurements.\n",
        "        cirq.Moment(cirq.measure(qubits[i], key=str(i)) for i in range(nqubits)),\n",
        "    )\n",
        "\n",
        "    # Sample from the circuit.\n",
        "    result = cirq.Simulator().run(circuit, repetitions=nshots)\n",
        "\n",
        "    # Compute and store magnetiziations.\n",
        "    for j in range(nqubits):\n",
        "        measurements = result.histogram(key=str(j))\n",
        "        magnetization = (measurements.get(0, 0.0) - measurements.get(1, 0.0)) / nshots\n",
        "        magnetizations_trotter[t, j] = magnetization"
      ]
    },
    {
      "cell_type": "code",
      "execution_count": null,
      "id": "KUG0-eQqUzBv",
      "metadata": {
        "id": "KUG0-eQqUzBv"
      },
      "outputs": [],
      "source": [
        "\"\"\"Plot the magnetizations.\"\"\"\n",
        "plt.figure(figsize=(20, 5))\n",
        "\n",
        "plt.pcolormesh(times, range(nqubits), magnetizations_trotter.T, **plot_options)\n",
        "\n",
        "plt.xlabel(r\"Time ($t$)\")\n",
        "plt.ylabel(r\"Qubit ($j$)\")\n",
        "plt.title(rf\"$\\langle Z_j \\rangle (t)$ via {ntrotter} 1st order Trotter step(s)\")\n",
        "\n",
        "plt.colorbar()\n",
        "plt.tight_layout();"
      ]
    },
    {
      "cell_type": "markdown",
      "source": [
        "##### Using Qiskit"
      ],
      "metadata": {
        "id": "pVEbyJJFcVRT"
      },
      "id": "pVEbyJJFcVRT"
    },
    {
      "cell_type": "code",
      "source": [
        "# Your code here."
      ],
      "metadata": {
        "id": "5uS0CKcTcW23"
      },
      "id": "5uS0CKcTcW23",
      "execution_count": null,
      "outputs": []
    },
    {
      "cell_type": "markdown",
      "id": "IkVkC8idjPKC",
      "metadata": {
        "id": "IkVkC8idjPKC"
      },
      "source": [
        "#### (1.5) Increasing the number of Trotter steps"
      ]
    },
    {
      "cell_type": "markdown",
      "id": "8eqodvtziMeU",
      "metadata": {
        "id": "8eqodvtziMeU"
      },
      "source": [
        "You should see that the previous result is poor! (Decent for the first few time steps, but very innacurate after.) This can be improved by implementing a number $r$ of Trotter steps, essentially repeating the above circuit $r$ times where each Trotter step is done for time $t / r$. Specifically, the first-order Trotter formula with $r$ steps says that\n",
        "\n",
        "$$ \\exp (- i (H_A + H_B) t) = [\\exp(-i H_A t / r) \\exp(-i H_B t / r)]^r + O\\left( \\frac{|| [H_A, H_B] || t^2}{r}\\right) .$$\n",
        "\n",
        "This is now nice because the error goes to zero as $r \\rightarrow \\infty$, and we can decrease the error by using more steps. The cost, of course, is more gates in the circuit.\n",
        "\n",
        "> Do the same simulation as (1.4) but now using $r = 10, 20,$ and $40$ Trotter steps. Plot the results and compare to the exact solution."
      ]
    },
    {
      "cell_type": "code",
      "execution_count": null,
      "id": "Gp4vAB6SjVk7",
      "metadata": {
        "id": "Gp4vAB6SjVk7"
      },
      "outputs": [],
      "source": [
        "# Set parameters.\n",
        "nshots = 10_000\n",
        "ntrotter = 40\n",
        "\n",
        "# Allocate array to store magnetizations.\n",
        "magnetizations_trotter = np.empty(shape=(tsteps, nqubits))\n",
        "\n",
        "for t in tqdm.notebook.tqdm(range(tsteps)):\n",
        "    # Get the circuit to do 1st order Trotter.\n",
        "    circuit = cirq.Circuit(\n",
        "        # Initial state.\n",
        "        cirq.Moment(cirq.X.on(qubits[upqubit])),\n",
        "        # Trotter step(s).\n",
        "        [trotter_step(times[t] / ntrotter) for _ in range(ntrotter)],\n",
        "        # Measurements.\n",
        "        cirq.Moment(cirq.measure(qubits[i], key=str(i)) for i in range(nqubits)),\n",
        "    )\n",
        "\n",
        "    # Sample from the circuit.\n",
        "    result = cirq.Simulator().run(circuit, repetitions=nshots)\n",
        "\n",
        "    # Compute and store magnetiziations.\n",
        "    for j in range(nqubits):\n",
        "        measurements = result.histogram(key=str(j))\n",
        "        magnetization = (measurements.get(0, 0.0) - measurements.get(1, 0.0)) / nshots\n",
        "        magnetizations_trotter[t, j] = magnetization"
      ]
    },
    {
      "cell_type": "code",
      "execution_count": null,
      "id": "oi4r1gbyM3KW",
      "metadata": {
        "id": "oi4r1gbyM3KW"
      },
      "outputs": [],
      "source": [
        "\"\"\"Plot the magnetizations.\"\"\"\n",
        "plt.figure(figsize=(20, 5))\n",
        "\n",
        "plt.pcolormesh(times, range(nqubits), magnetizations_trotter.T, **plot_options)\n",
        "\n",
        "plt.xlabel(r\"Time ($t$)\")\n",
        "plt.ylabel(r\"Qubit ($j$)\")\n",
        "plt.title(rf\"$\\langle Z_j \\rangle (t)$ via {ntrotter} 1st order Trotter step(s)\")\n",
        "\n",
        "plt.colorbar()\n",
        "plt.tight_layout();"
      ]
    },
    {
      "cell_type": "markdown",
      "id": "ade52d9a",
      "metadata": {
        "id": "ade52d9a"
      },
      "source": [
        "### Further reading and exercises"
      ]
    },
    {
      "cell_type": "markdown",
      "id": "e_42o5aS7jm2",
      "metadata": {
        "id": "e_42o5aS7jm2"
      },
      "source": [
        "- Re-implement this exercise with another Hamiltonian, e.g. the Lipkin model.\n",
        "- Compute expectation values from the final time-evolved state, e.g. the energy $\\langle \\psi(t) | H | \\psi(t) \\rangle$.\n",
        "- We looked at the first-order Trotter formula, but there are higher orders: Read more, e.g., [here](https://simons.berkeley.edu/sites/default/files/docs/15639/trottererrortheorysimons.pdf) and in the [Theory of Trotter error](https://journals.aps.org/prx/abstract/10.1103/PhysRevX.11.011020).\n",
        "- You may be interested in [imaginary time evolution](https://www.nature.com/articles/s41534-021-00409-y), another technique to find the ground state of a time-independent Hamiltonian.\n",
        "- Want to simulate a time-dependent Hamiltonian? You may want to know about the [quantum adiabatic theorem](http://www.cs.umd.edu/~amchilds/teaching/w08/l18.pdf)."
      ]
    }
  ],
  "metadata": {
    "colab": {
      "provenance": [],
      "toc_visible": true
    },
    "kernelspec": {
      "display_name": "quantum400",
      "language": "python",
      "name": "quantum400"
    },
    "language_info": {
      "codemirror_mode": {
        "name": "ipython",
        "version": 3
      },
      "file_extension": ".py",
      "mimetype": "text/x-python",
      "name": "python",
      "nbconvert_exporter": "python",
      "pygments_lexer": "ipython3",
      "version": "3.7.8"
    },
    "widgets": {
      "application/vnd.jupyter.widget-state+json": {
        "e805767dd5504fb6b34721c3a0e6e736": {
          "model_module": "@jupyter-widgets/controls",
          "model_name": "HBoxModel",
          "model_module_version": "1.5.0",
          "state": {
            "_dom_classes": [],
            "_model_module": "@jupyter-widgets/controls",
            "_model_module_version": "1.5.0",
            "_model_name": "HBoxModel",
            "_view_count": null,
            "_view_module": "@jupyter-widgets/controls",
            "_view_module_version": "1.5.0",
            "_view_name": "HBoxView",
            "box_style": "",
            "children": [
              "IPY_MODEL_9f951ac7daf84b178560798ed1e9568b",
              "IPY_MODEL_d4c7358e9bec445e82cb7ba7696d44ed",
              "IPY_MODEL_a4742ffda44143fdb724b221fc8f6ac0"
            ],
            "layout": "IPY_MODEL_8fda83e551cd486687e459d243315b43"
          }
        },
        "9f951ac7daf84b178560798ed1e9568b": {
          "model_module": "@jupyter-widgets/controls",
          "model_name": "HTMLModel",
          "model_module_version": "1.5.0",
          "state": {
            "_dom_classes": [],
            "_model_module": "@jupyter-widgets/controls",
            "_model_module_version": "1.5.0",
            "_model_name": "HTMLModel",
            "_view_count": null,
            "_view_module": "@jupyter-widgets/controls",
            "_view_module_version": "1.5.0",
            "_view_name": "HTMLView",
            "description": "",
            "description_tooltip": null,
            "layout": "IPY_MODEL_0510e6ed4e664340933b185f91a362b3",
            "placeholder": "​",
            "style": "IPY_MODEL_635ab34a375c4a779d05c7548c30e98b",
            "value": "100%"
          }
        },
        "d4c7358e9bec445e82cb7ba7696d44ed": {
          "model_module": "@jupyter-widgets/controls",
          "model_name": "FloatProgressModel",
          "model_module_version": "1.5.0",
          "state": {
            "_dom_classes": [],
            "_model_module": "@jupyter-widgets/controls",
            "_model_module_version": "1.5.0",
            "_model_name": "FloatProgressModel",
            "_view_count": null,
            "_view_module": "@jupyter-widgets/controls",
            "_view_module_version": "1.5.0",
            "_view_name": "ProgressView",
            "bar_style": "success",
            "description": "",
            "description_tooltip": null,
            "layout": "IPY_MODEL_d7d8b1c444a044858d208f235f68d404",
            "max": 100,
            "min": 0,
            "orientation": "horizontal",
            "style": "IPY_MODEL_c4b27d80218d46e0a638f0c77df8ab3f",
            "value": 100
          }
        },
        "a4742ffda44143fdb724b221fc8f6ac0": {
          "model_module": "@jupyter-widgets/controls",
          "model_name": "HTMLModel",
          "model_module_version": "1.5.0",
          "state": {
            "_dom_classes": [],
            "_model_module": "@jupyter-widgets/controls",
            "_model_module_version": "1.5.0",
            "_model_name": "HTMLModel",
            "_view_count": null,
            "_view_module": "@jupyter-widgets/controls",
            "_view_module_version": "1.5.0",
            "_view_name": "HTMLView",
            "description": "",
            "description_tooltip": null,
            "layout": "IPY_MODEL_8e38953d5c2b4744abf3c3317bb5fdb3",
            "placeholder": "​",
            "style": "IPY_MODEL_1ade7273a1e74318b1e2d2e4fa7c19da",
            "value": " 100/100 [00:42&lt;00:00,  3.16it/s]"
          }
        },
        "8fda83e551cd486687e459d243315b43": {
          "model_module": "@jupyter-widgets/base",
          "model_name": "LayoutModel",
          "model_module_version": "1.2.0",
          "state": {
            "_model_module": "@jupyter-widgets/base",
            "_model_module_version": "1.2.0",
            "_model_name": "LayoutModel",
            "_view_count": null,
            "_view_module": "@jupyter-widgets/base",
            "_view_module_version": "1.2.0",
            "_view_name": "LayoutView",
            "align_content": null,
            "align_items": null,
            "align_self": null,
            "border": null,
            "bottom": null,
            "display": null,
            "flex": null,
            "flex_flow": null,
            "grid_area": null,
            "grid_auto_columns": null,
            "grid_auto_flow": null,
            "grid_auto_rows": null,
            "grid_column": null,
            "grid_gap": null,
            "grid_row": null,
            "grid_template_areas": null,
            "grid_template_columns": null,
            "grid_template_rows": null,
            "height": null,
            "justify_content": null,
            "justify_items": null,
            "left": null,
            "margin": null,
            "max_height": null,
            "max_width": null,
            "min_height": null,
            "min_width": null,
            "object_fit": null,
            "object_position": null,
            "order": null,
            "overflow": null,
            "overflow_x": null,
            "overflow_y": null,
            "padding": null,
            "right": null,
            "top": null,
            "visibility": null,
            "width": null
          }
        },
        "0510e6ed4e664340933b185f91a362b3": {
          "model_module": "@jupyter-widgets/base",
          "model_name": "LayoutModel",
          "model_module_version": "1.2.0",
          "state": {
            "_model_module": "@jupyter-widgets/base",
            "_model_module_version": "1.2.0",
            "_model_name": "LayoutModel",
            "_view_count": null,
            "_view_module": "@jupyter-widgets/base",
            "_view_module_version": "1.2.0",
            "_view_name": "LayoutView",
            "align_content": null,
            "align_items": null,
            "align_self": null,
            "border": null,
            "bottom": null,
            "display": null,
            "flex": null,
            "flex_flow": null,
            "grid_area": null,
            "grid_auto_columns": null,
            "grid_auto_flow": null,
            "grid_auto_rows": null,
            "grid_column": null,
            "grid_gap": null,
            "grid_row": null,
            "grid_template_areas": null,
            "grid_template_columns": null,
            "grid_template_rows": null,
            "height": null,
            "justify_content": null,
            "justify_items": null,
            "left": null,
            "margin": null,
            "max_height": null,
            "max_width": null,
            "min_height": null,
            "min_width": null,
            "object_fit": null,
            "object_position": null,
            "order": null,
            "overflow": null,
            "overflow_x": null,
            "overflow_y": null,
            "padding": null,
            "right": null,
            "top": null,
            "visibility": null,
            "width": null
          }
        },
        "635ab34a375c4a779d05c7548c30e98b": {
          "model_module": "@jupyter-widgets/controls",
          "model_name": "DescriptionStyleModel",
          "model_module_version": "1.5.0",
          "state": {
            "_model_module": "@jupyter-widgets/controls",
            "_model_module_version": "1.5.0",
            "_model_name": "DescriptionStyleModel",
            "_view_count": null,
            "_view_module": "@jupyter-widgets/base",
            "_view_module_version": "1.2.0",
            "_view_name": "StyleView",
            "description_width": ""
          }
        },
        "d7d8b1c444a044858d208f235f68d404": {
          "model_module": "@jupyter-widgets/base",
          "model_name": "LayoutModel",
          "model_module_version": "1.2.0",
          "state": {
            "_model_module": "@jupyter-widgets/base",
            "_model_module_version": "1.2.0",
            "_model_name": "LayoutModel",
            "_view_count": null,
            "_view_module": "@jupyter-widgets/base",
            "_view_module_version": "1.2.0",
            "_view_name": "LayoutView",
            "align_content": null,
            "align_items": null,
            "align_self": null,
            "border": null,
            "bottom": null,
            "display": null,
            "flex": null,
            "flex_flow": null,
            "grid_area": null,
            "grid_auto_columns": null,
            "grid_auto_flow": null,
            "grid_auto_rows": null,
            "grid_column": null,
            "grid_gap": null,
            "grid_row": null,
            "grid_template_areas": null,
            "grid_template_columns": null,
            "grid_template_rows": null,
            "height": null,
            "justify_content": null,
            "justify_items": null,
            "left": null,
            "margin": null,
            "max_height": null,
            "max_width": null,
            "min_height": null,
            "min_width": null,
            "object_fit": null,
            "object_position": null,
            "order": null,
            "overflow": null,
            "overflow_x": null,
            "overflow_y": null,
            "padding": null,
            "right": null,
            "top": null,
            "visibility": null,
            "width": null
          }
        },
        "c4b27d80218d46e0a638f0c77df8ab3f": {
          "model_module": "@jupyter-widgets/controls",
          "model_name": "ProgressStyleModel",
          "model_module_version": "1.5.0",
          "state": {
            "_model_module": "@jupyter-widgets/controls",
            "_model_module_version": "1.5.0",
            "_model_name": "ProgressStyleModel",
            "_view_count": null,
            "_view_module": "@jupyter-widgets/base",
            "_view_module_version": "1.2.0",
            "_view_name": "StyleView",
            "bar_color": null,
            "description_width": ""
          }
        },
        "8e38953d5c2b4744abf3c3317bb5fdb3": {
          "model_module": "@jupyter-widgets/base",
          "model_name": "LayoutModel",
          "model_module_version": "1.2.0",
          "state": {
            "_model_module": "@jupyter-widgets/base",
            "_model_module_version": "1.2.0",
            "_model_name": "LayoutModel",
            "_view_count": null,
            "_view_module": "@jupyter-widgets/base",
            "_view_module_version": "1.2.0",
            "_view_name": "LayoutView",
            "align_content": null,
            "align_items": null,
            "align_self": null,
            "border": null,
            "bottom": null,
            "display": null,
            "flex": null,
            "flex_flow": null,
            "grid_area": null,
            "grid_auto_columns": null,
            "grid_auto_flow": null,
            "grid_auto_rows": null,
            "grid_column": null,
            "grid_gap": null,
            "grid_row": null,
            "grid_template_areas": null,
            "grid_template_columns": null,
            "grid_template_rows": null,
            "height": null,
            "justify_content": null,
            "justify_items": null,
            "left": null,
            "margin": null,
            "max_height": null,
            "max_width": null,
            "min_height": null,
            "min_width": null,
            "object_fit": null,
            "object_position": null,
            "order": null,
            "overflow": null,
            "overflow_x": null,
            "overflow_y": null,
            "padding": null,
            "right": null,
            "top": null,
            "visibility": null,
            "width": null
          }
        },
        "1ade7273a1e74318b1e2d2e4fa7c19da": {
          "model_module": "@jupyter-widgets/controls",
          "model_name": "DescriptionStyleModel",
          "model_module_version": "1.5.0",
          "state": {
            "_model_module": "@jupyter-widgets/controls",
            "_model_module_version": "1.5.0",
            "_model_name": "DescriptionStyleModel",
            "_view_count": null,
            "_view_module": "@jupyter-widgets/base",
            "_view_module_version": "1.2.0",
            "_view_name": "StyleView",
            "description_width": ""
          }
        }
      }
    }
  },
  "nbformat": 4,
  "nbformat_minor": 5
}