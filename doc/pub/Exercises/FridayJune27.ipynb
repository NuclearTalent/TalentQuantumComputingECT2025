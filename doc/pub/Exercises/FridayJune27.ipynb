{
  "cells": [
    {
      "cell_type": "markdown",
      "id": "iZUiaVGM4CAQ",
      "metadata": {
        "id": "iZUiaVGM4CAQ"
      },
      "source": [
        "<h3><center><a href=\"https://indico.ectstar.eu/event/250/\">ECT* DTP-TALENT 2025: Quantum Computing For Nuclear Physics</a></center></h3>\n",
        "\n",
        "<h1><center>Quantum error mitigation</center></h1>"
      ]
    },
    {
      "cell_type": "markdown",
      "id": "ImZL74fI7Rrm",
      "metadata": {
        "id": "ImZL74fI7Rrm"
      },
      "source": [
        "## Goal"
      ]
    },
    {
      "cell_type": "markdown",
      "id": "pesSGVi77UfP",
      "metadata": {
        "id": "pesSGVi77UfP"
      },
      "source": [
        "The goal of this notebook is to implement [zero-noise extrapolation (ZNE)](https://mitiq.readthedocs.io/en/stable/guide/zne.html ([arXiv](https://arxiv.org/abs/1612.02058)), a particular [quantum error mitigation](https://mitiq.readthedocs.io/en/stable/guide/error-mitigation.html) technique, and use it to improve the performance of a simple quantum computation. By doing so, you will be able to implement ZNE in your own computations, both \"from scratch\" and by using existing software."
      ]
    },
    {
      "cell_type": "markdown",
      "id": "nj9XIQiK4wx7",
      "metadata": {
        "id": "nj9XIQiK4wx7"
      },
      "source": [
        "## Setup"
      ]
    },
    {
      "cell_type": "code",
      "execution_count": null,
      "id": "Rbz9dc9C4zdW",
      "metadata": {
        "id": "Rbz9dc9C4zdW"
      },
      "outputs": [],
      "source": [
        "!pip install qiskit qiskit-aer qiskit-ibm-runtime pylatexenc --quiet"
      ]
    },
    {
      "cell_type": "code",
      "execution_count": null,
      "id": "NCNvvlKH4t09",
      "metadata": {
        "id": "NCNvvlKH4t09"
      },
      "outputs": [],
      "source": [
        "import matplotlib.pyplot as plt\n",
        "import numpy as np\n",
        "\n",
        "import qiskit\n",
        "import qiskit_aer\n",
        "import qiskit_ibm_runtime"
      ]
    },
    {
      "cell_type": "markdown",
      "id": "ebr-TAtu7P93",
      "metadata": {
        "id": "ebr-TAtu7P93"
      },
      "source": [
        "## The quantum computation"
      ]
    },
    {
      "cell_type": "markdown",
      "id": "YPg2ZFWVHzL6",
      "metadata": {
        "id": "YPg2ZFWVHzL6"
      },
      "source": [
        "Let us evaluate the probability of the ground state in a circuit which logically compiles to identity. Throughout, let us call the circuit $|\\psi\\rangle$ and use $\\Pi := |0\\rangle \\langle 0|$ so that the probability of the ground state is $\\langle \\psi | \\Pi | \\psi \\rangle$."
      ]
    },
    {
      "cell_type": "markdown",
      "id": "1PC3gz8JItri",
      "metadata": {
        "id": "1PC3gz8JItri"
      },
      "source": [
        "In the cell below, write a function which returns a single-qubit quantum circuit with a specified number of `X` gates."
      ]
    },
    {
      "cell_type": "code",
      "execution_count": null,
      "id": "jg8-LQf-Izgc",
      "metadata": {
        "id": "jg8-LQf-Izgc"
      },
      "outputs": [],
      "source": [
        "\"\"\"Set up the quantum computation to use with ZNE.\"\"\"\n",
        "def get_circuit(depth: int = 50) -> qiskit.QuantumCircuit:\n",
        "    \"\"\"Returns a single-qubit circuit of `depth` X gates.\n",
        "\n",
        "    Args:\n",
        "        depth: Number of X gates in the circuit.\n",
        "    \"\"\"\n",
        "    # -->  Your code here."
      ]
    },
    {
      "cell_type": "markdown",
      "id": "Iatv7TJGJVAS",
      "metadata": {
        "id": "Iatv7TJGJVAS"
      },
      "source": [
        "We'll use an even number of `X` gates so the final state of the circuit without any noise is $|0\\rangle$. Let's visualize the circuit."
      ]
    },
    {
      "cell_type": "code",
      "execution_count": null,
      "id": "republican-chemical",
      "metadata": {
        "id": "republican-chemical"
      },
      "outputs": [],
      "source": [
        "\"\"\"Visualize the circuit.\"\"\"\n",
        "circuit = get_circuit(depth=50)\n",
        "circuit.draw()"
      ]
    },
    {
      "cell_type": "markdown",
      "id": "fohCq9t3-7d8",
      "metadata": {
        "id": "fohCq9t3-7d8"
      },
      "source": [
        "## The noisy result"
      ]
    },
    {
      "cell_type": "markdown",
      "id": "UZFeIvY8-9f8",
      "metadata": {
        "id": "UZFeIvY8-9f8"
      },
      "source": [
        "It's possible to run this notebook on real devices if you have access to them, but that would take a while due to the fair-share queue. As an alternative below, you can use \"fake backends\" which model the noise characteristics of various devices. The next few cells show an example of how to use this."
      ]
    },
    {
      "cell_type": "code",
      "execution_count": null,
      "id": "DmfNHkRiNIwc",
      "metadata": {
        "id": "DmfNHkRiNIwc"
      },
      "outputs": [],
      "source": [
        "\"\"\"Getting a noisy device via qiskit.test.mock.\"\"\"\n",
        "# Get a noisy backend.\n",
        "noisy_backend = qiskit_ibm_runtime.fake_provider.FakeSherbrooke()\n",
        "\n",
        "# You can see some of its properties as follows.\n",
        "print(\"Basis gates:\", noisy_backend.configuration().basis_gates)\n",
        "print(\"Number of qubits:\", noisy_backend.configuration().num_qubits)"
      ]
    },
    {
      "cell_type": "markdown",
      "id": "esdHKKeUlQP6",
      "metadata": {
        "id": "esdHKKeUlQP6"
      },
      "source": [
        "If you'd like, you can see \"lower-level\" properties with `noisy_backend.configuration().hamiltonian`. To run on this device, we do the following."
      ]
    },
    {
      "cell_type": "code",
      "execution_count": null,
      "id": "IZ6PeM4-lnCO",
      "metadata": {
        "id": "IZ6PeM4-lnCO"
      },
      "outputs": [],
      "source": [
        "\"\"\"Running on a noisy device via qiskit.test.mock.\"\"\"\n",
        "job = noisy_backend.run(circuit, shots=10_000)"
      ]
    },
    {
      "cell_type": "markdown",
      "id": "Odjey5U3lzBY",
      "metadata": {
        "id": "Odjey5U3lzBY"
      },
      "source": [
        "Notes:\n",
        "- If you're following along as intended, the circuit run in that cell doesn't have any measurements, so you'll get an error if you try to access them."
      ]
    },
    {
      "cell_type": "markdown",
      "id": "qNdgk1HPmafB",
      "metadata": {
        "id": "qNdgk1HPmafB"
      },
      "source": [
        "With ZNE, we need to run multiple circuits, so it's convenient to have a function for this. Complete the body of the function in the cell below by:\n",
        "\n",
        "1. Measuring the qubit in the circuit if `measure` is `True`. You'll want to make a copy of the circuit so that you don't modify the input circuit.\n",
        "2. Executing the circuit. **Be sure that all gates in the circuit are executed exactly as specified (i.e., that the compiler doesn't remove any gates).**\n",
        "  - This is important because the circuits we want to run in ZNE have structures like $G G^\\dagger G$. A compiler may recognize this and simplify to $G$. But in ZNE we want all gates to be implemented on the device to scale the noise.\n",
        "3. Returning the ratio of `0`s measured to the total number of shots (i.e., the expectation value of our observable)."
      ]
    },
    {
      "cell_type": "code",
      "execution_count": null,
      "id": "0wpKIqprJjww",
      "metadata": {
        "id": "0wpKIqprJjww"
      },
      "outputs": [],
      "source": [
        "def execute(\n",
        "    circuit: qiskit.QuantumCircuit,\n",
        "    backend: \"qiskit.Sampler\" = qiskit_ibm_runtime.fake_provider.FakeSherbrooke(),\n",
        "    shots: int = 10_000,\n",
        "    measure: bool = True,\n",
        ") -> float:\n",
        "    \"\"\"Returns the ground state probability of the circuit run on the backend.\n",
        "\n",
        "    Args:\n",
        "        circuit: Single-qubit circuit to estimate the ground state probability of.\n",
        "        backend: Backend to run the circuit on.\n",
        "        shots: Number of times to sample from the circuit.\n",
        "        measure: If True, measure all qubits in the circuit, else do nothing.\n",
        "    \"\"\"\n",
        "    # -->  Your code here."
      ]
    },
    {
      "cell_type": "markdown",
      "id": "2hnXVCaWJ9ZL",
      "metadata": {
        "id": "2hnXVCaWJ9ZL"
      },
      "source": [
        "Using this function, we can run the quantum computation and see our result."
      ]
    },
    {
      "cell_type": "code",
      "execution_count": null,
      "id": "0q3bbGwQA7K1",
      "metadata": {
        "id": "0q3bbGwQA7K1"
      },
      "outputs": [],
      "source": [
        "noisy_value = execute(circuit)\n",
        "print(\"Noisy: \\t⟨𝜓|Π|𝜓⟩ =\", noisy_value)"
      ]
    },
    {
      "cell_type": "markdown",
      "id": "7XY5pIvVGj30",
      "metadata": {
        "id": "7XY5pIvVGj30"
      },
      "source": [
        "## The true (noiseless) result"
      ]
    },
    {
      "cell_type": "markdown",
      "id": "Y6TiEKJTKBeK",
      "metadata": {
        "id": "Y6TiEKJTKBeK"
      },
      "source": [
        "For testing how well ZNE works, it's convenient to know what the \"true\" or noiseless expectation value is. We already know the true result for our simple example, but we can do this in general for simple cases by using our function with a noiseless simulator as below."
      ]
    },
    {
      "cell_type": "code",
      "execution_count": null,
      "id": "T1VsvjEZGTu9",
      "metadata": {
        "id": "T1VsvjEZGTu9"
      },
      "outputs": [],
      "source": [
        "\"\"\"Determine the true (noiseless) value by running on a noiseless backend.\"\"\"\n",
        "true_value = execute(circuit, qiskit_aer.AerSimulator())\n",
        "print(\"True: \\t⟨𝜓|Π|𝜓⟩ =\", true_value)"
      ]
    },
    {
      "cell_type": "markdown",
      "id": "960PKFJFKg9g",
      "metadata": {
        "id": "960PKFJFKg9g"
      },
      "source": [
        "## Implementing zero noise extrapolation"
      ]
    },
    {
      "cell_type": "markdown",
      "id": "_aNNs8hZn4cr",
      "metadata": {
        "id": "_aNNs8hZn4cr"
      },
      "source": [
        "Now we implement ZNE in three steps."
      ]
    },
    {
      "cell_type": "markdown",
      "id": "29Zo70jSizPL",
      "metadata": {
        "id": "29Zo70jSizPL"
      },
      "source": [
        "### Step 1 / 3: Scale the noise in the computation"
      ]
    },
    {
      "cell_type": "markdown",
      "id": "hSWKN660n8A_",
      "metadata": {
        "id": "hSWKN660n8A_"
      },
      "source": [
        "First we need to scale the noise in the computation. As described in lecture, there are various ways to do this. We will use the simplest gate-level method to scale noise. Letting $U$ denote the complete circuit (without measurements), map $U$ to $U U^\\dagger U$. The next cell shows how to do this in Qiskit."
      ]
    },
    {
      "cell_type": "code",
      "execution_count": null,
      "id": "I3Qc_SpYBRJg",
      "metadata": {
        "id": "I3Qc_SpYBRJg"
      },
      "outputs": [],
      "source": [
        "\"\"\"Map U to U U^dag U.\"\"\"\n",
        "inverse = circuit.inverse()\n",
        "scaled_circuit = circuit.compose(inverse).compose(circuit)"
      ]
    },
    {
      "cell_type": "markdown",
      "id": "l0CIao34pMo1",
      "metadata": {
        "id": "l0CIao34pMo1"
      },
      "source": [
        "You may wish to print / inspect this circuit."
      ]
    },
    {
      "cell_type": "markdown",
      "id": "9R4Qx_c9jbLV",
      "metadata": {
        "id": "9R4Qx_c9jbLV"
      },
      "source": [
        "For ZNE, we want to run at several noise levels. This corresponds to the mapping $U \\mapsto U (U^\\dagger U)^k$ for $k = 1, 2, 3, ...$. In the next cell, you are asked to complete the body of a function to do this."
      ]
    },
    {
      "cell_type": "code",
      "execution_count": null,
      "id": "cbeRzU-0Kwj3",
      "metadata": {
        "id": "cbeRzU-0Kwj3"
      },
      "outputs": [],
      "source": [
        "def scale_circuit(circuit: qiskit.QuantumCircuit, scale_factor: int) -> qiskit.QuantumCircuit:\n",
        "    \"\"\"Returns U (U^dag U)^k where U is the input circuit and k is the scale_factor.\n",
        "\n",
        "    Args:\n",
        "        circuit: Circuit to scale. Should not have measurements.\n",
        "        scale_factor: The integer k in the above formula (how many times to add U^dag U).\n",
        "    \"\"\"\n",
        "    # -->  Your code here."
      ]
    },
    {
      "cell_type": "markdown",
      "id": "aDStl5QWpUnN",
      "metadata": {
        "id": "aDStl5QWpUnN"
      },
      "source": [
        "One step down, and that's the hardest one!"
      ]
    },
    {
      "cell_type": "markdown",
      "id": "DdFVuCMSENGl",
      "metadata": {
        "id": "DdFVuCMSENGl"
      },
      "source": [
        "### Step 2 / 3: Execute the noise-scaled computations"
      ]
    },
    {
      "cell_type": "markdown",
      "id": "KLQGPjw0pYfP",
      "metadata": {
        "id": "KLQGPjw0pYfP"
      },
      "source": [
        "For this next step, we need to run our noise-scaled circuits. Because we defined an `execute` function above to compute our expectation value of interest, this is as easy as calling `execute` on each scaled circuit, as shown in the next cell."
      ]
    },
    {
      "cell_type": "code",
      "execution_count": null,
      "id": "T4nFGUN5EQWA",
      "metadata": {
        "id": "T4nFGUN5EQWA"
      },
      "outputs": [],
      "source": [
        "\"\"\"Pick scale factors and execute the computation at different noise levels.\"\"\"\n",
        "# Pick scale factors.\n",
        "scale_factors = [1, 2, 3]\n",
        "\n",
        "# Scale the circuits at each scale factor.\n",
        "scaled_circuits = [scale_circuit(circuit, scale_factor) for scale_factor in scale_factors]\n",
        "\n",
        "# Run the noise-scaled circuits.\n",
        "expectation_values = [execute(scaled_circuit) for scaled_circuit in scaled_circuits]"
      ]
    },
    {
      "cell_type": "code",
      "execution_count": null,
      "id": "yNmQn4SwEfjt",
      "metadata": {
        "id": "yNmQn4SwEfjt"
      },
      "outputs": [],
      "source": [
        "\"\"\"Plot the expectation value vs. scale factor data.\"\"\"\n",
        "# -->  Your code here."
      ]
    },
    {
      "cell_type": "markdown",
      "id": "pThkXeOdEsOU",
      "metadata": {
        "id": "pThkXeOdEsOU"
      },
      "source": [
        "### Step 3 / 3: Fit a model to the noise-scaled expectation values"
      ]
    },
    {
      "cell_type": "markdown",
      "id": "WYx4lP63qM-X",
      "metadata": {
        "id": "WYx4lP63qM-X"
      },
      "source": [
        "If you kept the intended `depth` and `scale_factors`, the above trend line should look linear. So, let's fit a line $E(\\lambda) = a + b \\lambda$ to the data. We can do this very easily with `np.polyfit` as shown below."
      ]
    },
    {
      "cell_type": "code",
      "execution_count": null,
      "id": "PAo3CrNmExe0",
      "metadata": {
        "id": "PAo3CrNmExe0"
      },
      "outputs": [],
      "source": [
        "\"\"\"Fit a model to the data.\"\"\"\n",
        "best_fit_coeffs = np.polyfit(scale_factors, expectation_values, deg=1)"
      ]
    },
    {
      "cell_type": "markdown",
      "id": "iAQikELBqwc2",
      "metadata": {
        "id": "iAQikELBqwc2"
      },
      "source": [
        "Now we have best-fit coefficients $E(\\lambda) = a^* + b^* \\lambda$. Use this to get the zero-noise $(\\lambda = 0)$ value in the cell below."
      ]
    },
    {
      "cell_type": "code",
      "execution_count": null,
      "id": "DiuPZrK5rHji",
      "metadata": {
        "id": "DiuPZrK5rHji"
      },
      "outputs": [],
      "source": [
        "\"\"\"Get the `zne_value` from the best-fit coefficients found above.\"\"\"\n",
        "zne_value = 0.0  # <--  Your code here."
      ]
    },
    {
      "cell_type": "markdown",
      "id": "peS5SepGrbb_",
      "metadata": {
        "id": "peS5SepGrbb_"
      },
      "source": [
        "Congrats! you just implemented zero-noise extrapolation."
      ]
    },
    {
      "cell_type": "markdown",
      "id": "6KlIcVd4rY0T",
      "metadata": {
        "id": "6KlIcVd4rY0T"
      },
      "source": [
        "### Compare the results"
      ]
    },
    {
      "cell_type": "markdown",
      "id": "bf-CaPd0rhGz",
      "metadata": {
        "id": "bf-CaPd0rhGz"
      },
      "source": [
        "Let's see how ZNE performed."
      ]
    },
    {
      "cell_type": "code",
      "execution_count": null,
      "id": "FOPvPPRvqdX6",
      "metadata": {
        "id": "FOPvPPRvqdX6"
      },
      "outputs": [],
      "source": [
        "\"\"\"Display the results.\"\"\"\n",
        "print(f\"True: \\t⟨𝜓|Π|𝜓⟩ = {true_value:.3f}\")\n",
        "print(f\"Noisy \\t⟨𝜓|Π|𝜓⟩ = {noisy_value:.3f}\")\n",
        "print(f\"ZNE: \\t⟨𝜓|Π|𝜓⟩ = {zne_value:.3f}\")\n",
        "\n",
        "# Compute the \"quantum error mitigation (QEM) factor.\n",
        "error_mitigation_factor = (true_value - noisy_value) / (true_value - zne_value)\n",
        "print(f\"\\nQEM improvement factor: {error_mitigation_factor:.3f}\")"
      ]
    },
    {
      "cell_type": "markdown",
      "id": "CdZLO9U3ipNA",
      "metadata": {
        "id": "CdZLO9U3ipNA"
      },
      "source": [
        "### To consider"
      ]
    },
    {
      "cell_type": "markdown",
      "id": "-TwhaFeOirZY",
      "metadata": {
        "id": "-TwhaFeOirZY"
      },
      "source": [
        "- How do your results change if you fit a different degree polynomial?\n",
        "- How do your results change if you use more / different `scale_factors`?\n",
        "- How do your results change if you use a lower / higher depth circuit?\n",
        "- Try fitting the data with an expononential or similar function using [SciPy curve fit](https://docs.scipy.org/doc/scipy/reference/generated/scipy.optimize.curve_fit.html).\n",
        "- The fit you \"should\" use ideally comes from some knowledge of how the computation should look at different scale factors, based on both the details of the circuit, expectation value, and noise model of the device."
      ]
    },
    {
      "cell_type": "markdown",
      "id": "jIw2yBdzHL2L",
      "metadata": {
        "id": "jIw2yBdzHL2L"
      },
      "source": [
        "## Software for error mitigation"
      ]
    },
    {
      "cell_type": "markdown",
      "id": "Cc5nZTE4HOxD",
      "metadata": {
        "id": "Cc5nZTE4HOxD"
      },
      "source": [
        "As we've (hopefully) seen, implementing zero-noise extrapolation isn't terribly difficult. But we just skimmed the surface - there's different ways to scale noise (including fractionally), choose scale factors (including adaptively), and fit models to the data. Error mitigation software packages like [Mitiq](https://mitiq.readthedocs.io/en/stable/) and [Qermit](https://cqcl.github.io/Qermit/) handle these details, as well as implement other error mitigation techniques. You may wish to use them for your own experiments instead of implementing everything \"from scratch\"."
      ]
    },
    {
      "cell_type": "markdown",
      "id": "twJLcmB58iSk",
      "metadata": {
        "id": "twJLcmB58iSk"
      },
      "source": [
        "## Challenge"
      ]
    },
    {
      "cell_type": "markdown",
      "id": "CBBq5TOh8lZv",
      "metadata": {
        "id": "CBBq5TOh8lZv"
      },
      "source": [
        "Done early?\n",
        "\n",
        "- Try to implement zero-noise extrapolation for a quantum computation in one of the hands-on sessions at this school.\n",
        "- Reproduce a zero-noise extrapolation experiment in literature, for example [this one increasing effective quantum volume](https://github.com/unitaryfund/mitiq-qv/blob/master/main.ipynb) or this one arguing the [evidence of utility of quantum computing before fault tolerance](https://www.nature.com/articles/s41586-023-06096-3).\n",
        "- Check out the other error mitigation methods, such as probabilistic error cancellation, in [Mitiq](https://mitiq.readthedocs.io/en/stable/) and/or [Qermit](https://cqcl.github.io/Qermit/)."
      ]
    }
  ],
  "metadata": {
    "colab": {
      "provenance": []
    },
    "kernelspec": {
      "display_name": "Python 3 (ipykernel)",
      "language": "python",
      "name": "python3"
    },
    "language_info": {
      "codemirror_mode": {
        "name": "ipython",
        "version": 3
      },
      "file_extension": ".py",
      "mimetype": "text/x-python",
      "name": "python",
      "nbconvert_exporter": "python",
      "pygments_lexer": "ipython3",
      "version": "3.8.13"
    }
  },
  "nbformat": 4,
  "nbformat_minor": 5
}