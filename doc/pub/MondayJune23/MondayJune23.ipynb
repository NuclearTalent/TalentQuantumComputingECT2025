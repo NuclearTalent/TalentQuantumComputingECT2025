{
 "cells": [
  {
   "cell_type": "markdown",
   "id": "34fc4508",
   "metadata": {
    "editable": true
   },
   "source": [
    "<!-- HTML file automatically generated from DocOnce source (https://github.com/doconce/doconce/)\n",
    "doconce format html MondayJune23.do.txt --no_mako -->\n",
    "<!-- dom:TITLE: Basic elements of quantum computing -->"
   ]
  },
  {
   "cell_type": "markdown",
   "id": "e1c01a8c",
   "metadata": {
    "editable": true
   },
   "source": [
    "# Basic elements of quantum computing\n",
    "**Nuclear TALENT course on quantum computing**\n",
    "\n",
    "Date: **Monday June 23, 2025**"
   ]
  },
  {
   "cell_type": "markdown",
   "id": "2840cbfa",
   "metadata": {
    "editable": true
   },
   "source": [
    "## Overview of Monday June 23 and plans for the second week\n",
    "\n",
    "1. Simple Hamiltonian matrices, one and two-qubit examples\n",
    "\n",
    "2. Introducing the Variational Quantum Eigensolver algorithm\n",
    "\n",
    "3. Parametrized quantum circuits\n",
    "\n",
    "4. Introducing the Lipkin model (nuclear structure classic)\n",
    "\n",
    "5. Tuesday to Friday we plan to discuss more realistic nuclear physics Hamiltonians, the  Jordan-Wigner transformation, time evolution, Quantum Fourier transforms, Quantum Phase estimation, quantum state preparation, quantum error propagation and more"
   ]
  },
  {
   "cell_type": "markdown",
   "id": "81131b28",
   "metadata": {
    "editable": true
   },
   "source": [
    "## Hamiltonians, one-qubit example\n",
    "\n",
    "As an initial test, we consider a simply $2\\times 2$ real\n",
    "Hamiltonian consistend of a diagonal part $H_0$ and off-diagonal part\n",
    "$H_I$, playing the roles of a non-interactive one-body and interactive\n",
    "two-body part respectively. Defined through their matrix elements, we\n",
    "express them in the Pauli basis $\\vert 0\\rangle$ and $\\vert 1 \\rangle$"
   ]
  },
  {
   "cell_type": "markdown",
   "id": "608561e7",
   "metadata": {
    "editable": true
   },
   "source": [
    "$$\n",
    "\\begin{align*}\n",
    "    \\begin{split} \n",
    "        H &= H_0 + H_I \\\\\n",
    "        H_0 = \\begin{bmatrix}\n",
    "            E_1 & 0 \\\\\n",
    "            0 & E_2\n",
    "        \\end{bmatrix}&, \\hspace{20px}\n",
    "        H_I = \\lambda \\begin{bmatrix}\n",
    "            V_{11} & V_{12} \\\\\n",
    "            V_{21} & V_{22}\n",
    "        \\end{bmatrix}\n",
    "    \\end{split}\n",
    "\\end{align*}\n",
    "$$"
   ]
  },
  {
   "cell_type": "markdown",
   "id": "96f3deb0",
   "metadata": {
    "editable": true
   },
   "source": [
    "Where $\\lambda \\in [0,1]$ is a coupling constant parameterizing the strength of the interaction."
   ]
  },
  {
   "cell_type": "markdown",
   "id": "a1b95ab6",
   "metadata": {
    "editable": true
   },
   "source": [
    "## Rewriting in terms of Pauli matrices\n",
    "\n",
    "Defining"
   ]
  },
  {
   "cell_type": "markdown",
   "id": "1e4fa5ce",
   "metadata": {
    "editable": true
   },
   "source": [
    "$$\n",
    "E_+ = \\frac{E_1 + E_2}{2},\\hspace{20px} E_- = \\frac{E_1 - E_2}{2}\n",
    "$$"
   ]
  },
  {
   "cell_type": "markdown",
   "id": "3430e0b1",
   "metadata": {
    "editable": true
   },
   "source": [
    "we see that by combining the identity and $Z$ Pauli matrix, this can be expressed as"
   ]
  },
  {
   "cell_type": "markdown",
   "id": "972c47cb",
   "metadata": {
    "editable": true
   },
   "source": [
    "$$\n",
    "H_0 = E_+ I + E_- Z\n",
    "$$"
   ]
  },
  {
   "cell_type": "markdown",
   "id": "647463eb",
   "metadata": {
    "editable": true
   },
   "source": [
    "For $H_1$ we use the same trick to fill the diagonal, defining $V_+ = (V_{11} + V_{22})/2, V_- = (V_{11} - V_{22})/2$. From the hermiticity requirements of $H$, we note that $V_{12} = V_{21} \\equiv V_o$, which simplifies the problem to a simple $X$. This gives"
   ]
  },
  {
   "cell_type": "markdown",
   "id": "49cde3c3",
   "metadata": {
    "editable": true
   },
   "source": [
    "$$\n",
    "H_I = V_+ I + V_- Z + V_o X\n",
    "$$"
   ]
  },
  {
   "cell_type": "markdown",
   "id": "6ca4fa92",
   "metadata": {
    "editable": true
   },
   "source": [
    "## Measurement basis\n",
    "\n",
    "For this system we note that the Pauli $X$ matrix can be rewritten in terms of the Hadamard matrices and the Pauli $Z$ matrix (exercises from Monday-Tuesday of week 1), that is"
   ]
  },
  {
   "cell_type": "markdown",
   "id": "b9374c94",
   "metadata": {
    "editable": true
   },
   "source": [
    "$$\n",
    "X=HZH.\n",
    "$$"
   ]
  },
  {
   "cell_type": "markdown",
   "id": "20eaa831",
   "metadata": {
    "editable": true
   },
   "source": [
    "## Second Hamiltonian matrix problems, two-qubit case\n",
    "\n",
    "The second case is defined as a $4 \\times 4$ real Hamiltonian.\n",
    "This can be viewed as two  composite systems where each system is represented by a two-level system. In the product basis $\\vert 00\\rangle$, $\\vert 01\\rangle$, $\\vert 10\\rangle$ and $\\vert 11\\rangle$ (our computational basis)\n",
    "we define the one-body part as"
   ]
  },
  {
   "cell_type": "markdown",
   "id": "fbec7e9c",
   "metadata": {
    "editable": true
   },
   "source": [
    "$$\n",
    "H_0 \\vert ij \\rangle = \\epsilon_{ij}\\vert ij\\rangle,\n",
    "$$"
   ]
  },
  {
   "cell_type": "markdown",
   "id": "23f91c58",
   "metadata": {
    "editable": true
   },
   "source": [
    "with a two-body interaction defined as"
   ]
  },
  {
   "cell_type": "markdown",
   "id": "27512374",
   "metadata": {
    "editable": true
   },
   "source": [
    "$$\n",
    "\\begin{align*}\n",
    "    \\begin{split} \n",
    "        H_I &= H_x X \\otimes X + H_z Z \\otimes Z \\\\\n",
    "        &= \\begin{bmatrix}\n",
    "            H_z & 0 & 0 & H_z \\\\\n",
    "            0 & - H_z & H_x & 0 \\\\\n",
    "            0 & H_x & - H_z & 0 \\\\\n",
    "            H_x & 0 & 0 & H_z\n",
    "        \\end{bmatrix}.\n",
    "    \\end{split}\n",
    "\\end{align*}\n",
    "$$"
   ]
  },
  {
   "cell_type": "markdown",
   "id": "7307721e",
   "metadata": {
    "editable": true
   },
   "source": [
    "Here $H_x$ and $H_z$ are coupling constants."
   ]
  },
  {
   "cell_type": "markdown",
   "id": "17328ae5",
   "metadata": {
    "editable": true
   },
   "source": [
    "## Rewriting\n",
    "\n",
    "For the $4 \\times 4$ case, the interacting part of the\n",
    "Hamiltonian is already\n",
    "written in terms of Pauli matrices. On the other hand, we need to rewrite the diagonal term.\n",
    "We define"
   ]
  },
  {
   "cell_type": "markdown",
   "id": "848ff06d",
   "metadata": {
    "editable": true
   },
   "source": [
    "$$\n",
    "\\begin{align*}\n",
    "    \\epsilon_{\\pm 0} = \\frac{\\epsilon_{00}\\pm\\epsilon_{01}}{2},\\hspace{20px}\\epsilon_{\\pm 1} = \\frac{\\epsilon_{10}\\pm\\epsilon_{11}}{2}.\n",
    "\\end{align*}\n",
    "$$"
   ]
  },
  {
   "cell_type": "markdown",
   "id": "d1362e5b",
   "metadata": {
    "editable": true
   },
   "source": [
    "We note that the energies $\\epsilon_{00}$ and $\\epsilon_{01}$ can be repeated on the diagonal. This is also the case for $\\epsilon_{10}$ and $\\epsilon_{11}$"
   ]
  },
  {
   "cell_type": "markdown",
   "id": "2566b517",
   "metadata": {
    "editable": true
   },
   "source": [
    "$$\n",
    "\\begin{align*}\n",
    "    D_{0} &= \\epsilon_{+0} I\\otimes I + \\epsilon_{-0} I\\otimes Z, \\\\\n",
    "    D_{1} &= \\epsilon_{+0} I\\otimes I + \\epsilon_{-1} I\\otimes Z.\n",
    "\\end{align*}\n",
    "$$"
   ]
  },
  {
   "cell_type": "markdown",
   "id": "57766c57",
   "metadata": {
    "editable": true
   },
   "source": [
    "## Further manipulations\n",
    "\n",
    "Using the Pauli $Z$ matrix and the identity matrix $I$ we define"
   ]
  },
  {
   "cell_type": "markdown",
   "id": "ab8aba3d",
   "metadata": {
    "editable": true
   },
   "source": [
    "$$\n",
    "\\begin{align*}\n",
    "    P_{\\pm} = \\frac{1}{2}(I \\pm Z),\n",
    "\\end{align*}\n",
    "$$"
   ]
  },
  {
   "cell_type": "markdown",
   "id": "9e1ff7e4",
   "metadata": {
    "editable": true
   },
   "source": [
    "which we use to project out the first and last to two elements the of $4\\times 4$ matrix"
   ]
  },
  {
   "cell_type": "markdown",
   "id": "1d8a5ebd",
   "metadata": {
    "editable": true
   },
   "source": [
    "$$\n",
    "P_0 = P_+ \\otimes I,\\hspace{20px}P_0 = P_- \\otimes I.\n",
    "$$"
   ]
  },
  {
   "cell_type": "markdown",
   "id": "cae4a120",
   "metadata": {
    "editable": true
   },
   "source": [
    "Adding $D_0$ and $D_1$, we get"
   ]
  },
  {
   "cell_type": "markdown",
   "id": "46817ed9",
   "metadata": {
    "editable": true
   },
   "source": [
    "$$\n",
    "H_0 = P_0 D_0 + P_1 D_1= \\alpha_+ I \\otimes I + \\alpha_- Z \\otimes I + \\beta_+ I \\otimes Z + \\beta_- Z \\otimes Z,\n",
    "$$"
   ]
  },
  {
   "cell_type": "markdown",
   "id": "2c2cff08",
   "metadata": {
    "editable": true
   },
   "source": [
    "where we have defined"
   ]
  },
  {
   "cell_type": "markdown",
   "id": "d321cbaa",
   "metadata": {
    "editable": true
   },
   "source": [
    "$$\n",
    "\\alpha_\\pm = \\frac{\\epsilon_{+0}\\pm\\epsilon_{+1}}{2}, \\hspace{10px} \\beta_\\pm = \\frac{\\epsilon_{-0}\\pm\\epsilon_{+1}}{2}\n",
    "$$"
   ]
  },
  {
   "cell_type": "markdown",
   "id": "dd3fb142",
   "metadata": {
    "editable": true
   },
   "source": [
    "## The Lipkin model, more details below\n",
    "\n",
    "For the Lipkin model, we recommend strongly the work of LaRose and collaborators, see\n",
    "<https://journals.aps.org/prc/abstract/10.1103/PhysRevC.106.024319>, see in particular section 3.\n",
    "\n",
    "For codes, feel free to be inspired and/or reuse the codes at <https://github.com/CompPhysics/QuantumComputingMachineLearning/tree/gh-pages/doc/Programs/LipkinModel>."
   ]
  },
  {
   "cell_type": "markdown",
   "id": "4e48e72b",
   "metadata": {
    "editable": true
   },
   "source": [
    "## States, gates and measurements, reminder from last week\n",
    "\n",
    "Mathematically, quantum gates are a series of unitary operators in the\n",
    "operator space defined by our Hamiltonian $\\mathcal{H}$ and operators $\\mathcal{O}$ which evolve a given initial\n",
    "state. The unitary nature preserves the norm of the state vector,\n",
    "ensuring the probabilities sum to unity. Since not all gates\n",
    "correspond to an observable, they are not all necessarily hermitian."
   ]
  },
  {
   "cell_type": "markdown",
   "id": "a5e2853e",
   "metadata": {
    "editable": true
   },
   "source": [
    "## Single qubit gates\n",
    "\n",
    "The Pauli matrices (and gate operations following therefrom) are defined as"
   ]
  },
  {
   "cell_type": "markdown",
   "id": "9cda4f04",
   "metadata": {
    "editable": true
   },
   "source": [
    "$$\n",
    "\\boldsymbol{X} \\equiv \\sigma_x = \\begin{bmatrix}\n",
    "\t\t0 & 1 \\\\\n",
    "\t\t1 & 0\n",
    "\t\\end{bmatrix}, \\quad\n",
    "\t\\boldsymbol{Y} \\equiv \\sigma_y = \\begin{bmatrix}\n",
    "\t\t0 & -i \\\\\n",
    "\t\ti & 0\n",
    "\t\\end{bmatrix}, \\quad\n",
    "\t\\boldsymbol{Z} \\equiv \\sigma_z = \\begin{bmatrix}\n",
    "\t\t1 & 0 \\\\\n",
    "\t\t0 & -1\n",
    "\t\\end{bmatrix}.\n",
    "$$"
   ]
  },
  {
   "cell_type": "markdown",
   "id": "d585a6f6",
   "metadata": {
    "editable": true
   },
   "source": [
    "## Pauli-${\\bf X}$ gate\n",
    "\n",
    "The Pauli-$\\boldsymbol{X}$ gate is also known as the **NOT** gate, which flips the state of the qubit."
   ]
  },
  {
   "cell_type": "markdown",
   "id": "2cddd9c3",
   "metadata": {
    "editable": true
   },
   "source": [
    "$$\n",
    "\\begin{align*}\n",
    "\t\\boldsymbol{X}\\vert 0\\rangle &= \\vert 1\\rangle, \\\\\n",
    "\t\\boldsymbol{X}\\vert 1\\rangle &= \\vert 0\\rangle.\t\n",
    "\\end{align*}\n",
    "$$"
   ]
  },
  {
   "cell_type": "markdown",
   "id": "710668ad",
   "metadata": {
    "editable": true
   },
   "source": [
    "The Pauli-$\\boldsymbol{Y}$ gate flips the bit and multiplies the phase by $ i $."
   ]
  },
  {
   "cell_type": "markdown",
   "id": "038acc47",
   "metadata": {
    "editable": true
   },
   "source": [
    "$$\n",
    "\\begin{align*}\n",
    "\t\\boldsymbol{Y}\\vert 0\\rangle &= i\\vert 1\\rangle, \\\\\n",
    "\t\\boldsymbol{Y}\\vert 1\\rangle &= -i\\vert 0\\rangle.\n",
    "\\end{align*}\n",
    "$$"
   ]
  },
  {
   "cell_type": "markdown",
   "id": "e71c48df",
   "metadata": {
    "editable": true
   },
   "source": [
    "The Pauli-$\\boldsymbol{Z}$ gate multiplies only the phase of $\\vert 1\\rangle$ by $ -1 $."
   ]
  },
  {
   "cell_type": "markdown",
   "id": "4dd339f3",
   "metadata": {
    "editable": true
   },
   "source": [
    "$$\n",
    "\\begin{align*}\n",
    "\t\\boldsymbol{Z}\\vert 0\\rangle &= \\vert 0\\rangle, \\\\\n",
    "\t\\boldsymbol{Z}\\vert 1\\rangle &= -\\vert 1\\rangle.\n",
    "\\end{align*}\n",
    "$$"
   ]
  },
  {
   "cell_type": "markdown",
   "id": "2e25bde3",
   "metadata": {
    "editable": true
   },
   "source": [
    "## Hadamard gate\n",
    "\n",
    "The Hadamard gate is defined as"
   ]
  },
  {
   "cell_type": "markdown",
   "id": "f306c06b",
   "metadata": {
    "editable": true
   },
   "source": [
    "$$\n",
    "\\boldsymbol{H} = \\frac{1}{\\sqrt{2}} \\begin{bmatrix}\n",
    "\t\t1 & 1 \\\\\n",
    "\t\t1 & -1\n",
    "\t\\end{bmatrix}.\n",
    "$$"
   ]
  },
  {
   "cell_type": "markdown",
   "id": "32e4636a",
   "metadata": {
    "editable": true
   },
   "source": [
    "It creates a superposition of the $ \\vert 0\\rangle $ and $ \\vert 1\\rangle $ states."
   ]
  },
  {
   "cell_type": "markdown",
   "id": "f052d758",
   "metadata": {
    "editable": true
   },
   "source": [
    "<!-- Equation labels as ordinary links -->\n",
    "<div id=\"_auto1\"></div>\n",
    "\n",
    "$$\n",
    "\\begin{equation}\n",
    "\t\\boldsymbol{H}\\vert 0\\rangle = \\frac{1}{\\sqrt{2}} \\left( \\vert 0\\rangle + \\vert 1\\rangle \\right), \n",
    "\\label{_auto1} \\tag{1}\n",
    "\\end{equation}\n",
    "$$"
   ]
  },
  {
   "cell_type": "markdown",
   "id": "9a5f3c75",
   "metadata": {
    "editable": true
   },
   "source": [
    "<!-- Equation labels as ordinary links -->\n",
    "<div id=\"_auto2\"></div>\n",
    "\n",
    "$$\n",
    "\\begin{equation} \n",
    "\t\\boldsymbol{H}\\vert 1\\rangle = \\frac{1}{\\sqrt{2}} \\left( \\vert 0\\rangle - \\vert 1\\rangle \\right).\n",
    "\\label{_auto2} \\tag{2}\n",
    "\\end{equation}\n",
    "$$"
   ]
  },
  {
   "cell_type": "markdown",
   "id": "d9520620",
   "metadata": {
    "editable": true
   },
   "source": [
    "Note that we will use $H$ as symbol for the Hadamard gate while we will reserve the notation $\\mathcal{H}$ for a given Hamiltonian."
   ]
  },
  {
   "cell_type": "markdown",
   "id": "5bc62998",
   "metadata": {
    "editable": true
   },
   "source": [
    "## Phase Gates\n",
    "The phase gate is usually denoted as $S$ and is defined as"
   ]
  },
  {
   "cell_type": "markdown",
   "id": "7d2c4d15",
   "metadata": {
    "editable": true
   },
   "source": [
    "$$\n",
    "\\boldsymbol{S} = \\begin{bmatrix}\n",
    "\t\t1 & 0 \\\\\n",
    "\t\t0 & i\n",
    "\t\\end{bmatrix}.\n",
    "$$"
   ]
  },
  {
   "cell_type": "markdown",
   "id": "5d61f918",
   "metadata": {
    "editable": true
   },
   "source": [
    "It multiplies only the phase of the $ \\vert 1\\rangle $ state by $ i $."
   ]
  },
  {
   "cell_type": "markdown",
   "id": "6fe4ae0e",
   "metadata": {
    "editable": true
   },
   "source": [
    "$$\n",
    "\\begin{align*}\n",
    "\t\\boldsymbol{S}\\vert 0\\rangle &= \\vert 0\\rangle, \\\\\n",
    "\t\\boldsymbol{S}\\vert 1\\rangle &= i\\vert 1\\rangle.\n",
    "\\end{align*}\n",
    "$$"
   ]
  },
  {
   "cell_type": "markdown",
   "id": "974edcb5",
   "metadata": {
    "editable": true
   },
   "source": [
    "## The  inverse of the $\\boldsymbol{S}$-gate\n",
    "\n",
    "The inverse"
   ]
  },
  {
   "cell_type": "markdown",
   "id": "7fab8f0a",
   "metadata": {
    "editable": true
   },
   "source": [
    "$$\n",
    "\\boldsymbol{S}^\\dagger = \\begin{bmatrix}\n",
    "\t\t1 & 0 \\\\\n",
    "\t\t0 & -i\n",
    "\t\\end{bmatrix}\n",
    "$$"
   ]
  },
  {
   "cell_type": "markdown",
   "id": "429541b8",
   "metadata": {
    "editable": true
   },
   "source": [
    "is known as the $ \\boldsymbol{S}^\\dagger$ gate which applies an $\\imath$ phase shift to $\\vert 1\\rangle$."
   ]
  },
  {
   "cell_type": "markdown",
   "id": "24435ea1",
   "metadata": {
    "editable": true
   },
   "source": [
    "$$\n",
    "\\begin{align*}\n",
    "\t\\boldsymbol{S}^\\dagger\\vert 0\\rangle &= \\vert 0\\rangle, \\\\\n",
    "\t\\boldsymbol{S}^\\dagger\\vert 1\\rangle &= -i\\vert 1\\rangle.\n",
    "\\end{align*}\n",
    "$$"
   ]
  },
  {
   "cell_type": "markdown",
   "id": "bf13a428",
   "metadata": {
    "editable": true
   },
   "source": [
    "## Two-qubit gates\n",
    "\n",
    "The CNOT gate is a two-qubit gate which acts on two qubits, a control qubit and a target qubit. The CNOT gate is defined as"
   ]
  },
  {
   "cell_type": "markdown",
   "id": "b97535fc",
   "metadata": {
    "editable": true
   },
   "source": [
    "$$\n",
    "\\text{CNOT} = \\begin{bmatrix}\n",
    "\t\t1 & 0 & 0 & 0 \\\\\n",
    "\t\t0 & 1 & 0 & 0 \\\\\n",
    "\t\t0 & 0 & 0 & 1 \\\\\n",
    "\t\t0 & 0 & 1 & 0\n",
    "\t\\end{bmatrix}.\n",
    "$$"
   ]
  },
  {
   "cell_type": "markdown",
   "id": "c2204489",
   "metadata": {
    "editable": true
   },
   "source": [
    "It is often used to perform linear entanglement on qubits."
   ]
  },
  {
   "cell_type": "markdown",
   "id": "b62a9973",
   "metadata": {
    "editable": true
   },
   "source": [
    "$$\n",
    "\\begin{align*}\n",
    "\t\\text{CNOT} \\vert 00\\rangle &= \\vert 00\\rangle, \\\\\n",
    "\t\\text{CNOT} \\vert 01\\rangle &= \\vert 01\\rangle, \\\\\n",
    "\t\\text{CNOT} \\vert 10\\rangle &= \\vert 11\\rangle, \\\\\n",
    "\t\\text{CNOT} \\vert 11\\rangle &= \\vert 10\\rangle.\n",
    "\\end{align*}\n",
    "$$"
   ]
  },
  {
   "cell_type": "markdown",
   "id": "b90b863d",
   "metadata": {
    "editable": true
   },
   "source": [
    "## The SWAP gate\n",
    "The SWAP gate is a two-qubit gate which swaps the state of two qubits. It is defined as"
   ]
  },
  {
   "cell_type": "markdown",
   "id": "03b29246",
   "metadata": {
    "editable": true
   },
   "source": [
    "$$\n",
    "\\text{SWAP} = \\begin{bmatrix}\n",
    "\t\t1 & 0 & 0 & 0 \\\\\n",
    "\t\t0 & 0 & 1 & 0 \\\\\n",
    "\t\t0 & 1 & 0 & 0 \\\\\n",
    "\t\t0 & 0 & 0 & 1\n",
    "\t\\end{bmatrix}.\n",
    "$$"
   ]
  },
  {
   "cell_type": "markdown",
   "id": "a166c2dd",
   "metadata": {
    "editable": true
   },
   "source": [
    "$$\n",
    "\\begin{align*}\n",
    "\t\\text{SWAP}\\vert 00\\rangle &= \\vert 00\\rangle, \\\\\n",
    "\t\\text{SWAP} \\vert 01\\rangle &= \\vert 10\\rangle, \\\\\n",
    "\t\\text{SWAP} \\vert 10\\rangle &= \\vert 01\\rangle, \\\\\n",
    "\t\\text{SWAP} \\vert 11\\rangle &= \\vert 11 \\rangle.\n",
    "\\end{align*}\n",
    "$$"
   ]
  },
  {
   "cell_type": "markdown",
   "id": "67f59be6",
   "metadata": {
    "editable": true
   },
   "source": [
    "## Pauli Strings\n",
    "\n",
    "A Pauli string, such as $\\boldsymbol{XIYZ}$ is a tensor product of Pauli matrices acting on different qubits.\n",
    "The Pauli string $\\boldsymbol{XIYZ}$ is defined as (from qubit one to qubit four, from left to right)"
   ]
  },
  {
   "cell_type": "markdown",
   "id": "48ad36c9",
   "metadata": {
    "editable": true
   },
   "source": [
    "$$\n",
    "\\boldsymbol{XIYZ} \\equiv \\boldsymbol{X}_0 \\otimes \\boldsymbol{I}_1 \\otimes \\boldsymbol{Y}_2 \\otimes \\boldsymbol{Z}_3.\n",
    "$$"
   ]
  },
  {
   "cell_type": "markdown",
   "id": "82aea4e6",
   "metadata": {
    "editable": true
   },
   "source": [
    "Hamiltonians are often rewritten or decomposed in terms of Pauli string as they can be easily implemented on quantum computers."
   ]
  },
  {
   "cell_type": "markdown",
   "id": "0976140d",
   "metadata": {
    "editable": true
   },
   "source": [
    "## Variational Quantum Eigensolver\n",
    "\n",
    "An important  algorithm to estimate the eigenenergies of a quantum\n",
    "Hamiltonian is [quantum phase\n",
    "estimation](https://qiskit.org/textbook/ch-algorithms/quantum-phase-estimation.html). In\n",
    "it, one encodes the eigenenergies, one binary bit at a time (up to $n$\n",
    "bits), into the complex phases of the quantum states of the Hilbert\n",
    "space for $n$ qubits. It does this by applying powers of controlled\n",
    "unitary evolution operators to a quantum state that can be expanded in\n",
    "terms of the Hamiltonian's eigenvectors of interest. The eigenenergies\n",
    "are encoded into the complex phases in such a way that taking the\n",
    "inverse quantum Fourier transformation (see Hundt sections 6.1-6.2) of\n",
    "the states into which the eigen-energies are encoded results in a\n",
    "measurement probability distribution that has peaks around the bit\n",
    "strings that represent a binary fraction which corresponds to the\n",
    "eigen-energies of the quantum state acted upon by the controlled\n",
    "unitary operators. We will discuss the QPE on Wednesday this week."
   ]
  },
  {
   "cell_type": "markdown",
   "id": "bbf2d504",
   "metadata": {
    "editable": true
   },
   "source": [
    "## The VQE\n",
    "\n",
    "While quantum phase estimation (QPE) is provably efficient,\n",
    "non-hybrid, and non-variational, the number of qubits and length of\n",
    "circuits required is too great for our NISQ era quantum\n",
    "computers. Thus, QPE is only efficiently applicable to large,\n",
    "fault-tolerant quantum computers that likely won't exist in the near,\n",
    "but the far future.\n",
    "\n",
    "Therefore, a different algorithm for finding the eigen-energies of a\n",
    "quantum Hamiltonian was put forth in 2014 called the variational\n",
    "quantum eigensolver, commonly referred to as\n",
    "[VQE](https://arxiv.org/abs/2111.05176). The algorithm is hybrid,\n",
    "meaning that it requires the use of both a quantum computer and a\n",
    "classical computer. It is also variational, meaning that it relies,\n",
    "ultimately, on solving an optimization problem by varying parameters\n",
    "and thus is not as deterministic as QPE. The variational quantum\n",
    "eigensolver is based on the variational principle:"
   ]
  },
  {
   "cell_type": "markdown",
   "id": "75ac9dee",
   "metadata": {
    "editable": true
   },
   "source": [
    "## Rayleigh-Ritz variational principle\n",
    "\n",
    "Our starting point is the Rayleigh-Ritz variational principle states\n",
    "that for a given Hamiltonian $H$, the expectation value of a trial\n",
    "state or just ansatz $\\vert \\psi \\rangle$ puts a lower bound on the\n",
    "ground state energy $E_0$."
   ]
  },
  {
   "cell_type": "markdown",
   "id": "de30ef5a",
   "metadata": {
    "editable": true
   },
   "source": [
    "$$\n",
    "\\frac{\\langle \\psi \\vert \\mathcal{H}\\vert \\psi \\rangle}{\\langle \\psi \\vert \\psi \\rangle} \\geq E_0.\n",
    "$$"
   ]
  },
  {
   "cell_type": "markdown",
   "id": "24ad29aa",
   "metadata": {
    "editable": true
   },
   "source": [
    "## The ansatz\n",
    "\n",
    "The ansatz is typically chosen to be a parameterized superposition of\n",
    "basis states that can be varied to improve the energy estimate,\n",
    "$\\vert \\psi\\rangle \\equiv \\vert \\psi(\\boldsymbol{\\theta})\\rangle$ where\n",
    "$\\boldsymbol{\\theta} = (\\theta_1, \\ldots, \\theta_M)$ are the $M$\n",
    "optimization parameters."
   ]
  },
  {
   "cell_type": "markdown",
   "id": "3d45c1e4",
   "metadata": {
    "editable": true
   },
   "source": [
    "## Expectation value of Hamiltonian and the variational principle\n",
    "\n",
    "The expectation value of a Hamiltonian $\\mathcal{H}$ in a state\n",
    "$|\\psi(\\theta)\\rangle$ parameterized by a set of angles $\\theta$, is\n",
    "always greater than or equal to the minimum eigen-energy $E_0$. To see\n",
    "this, let $|n\\rangle$ be the eigenstates of $\\mathcal{H}$, that is"
   ]
  },
  {
   "cell_type": "markdown",
   "id": "066fbdd8",
   "metadata": {
    "editable": true
   },
   "source": [
    "$$\n",
    "\\mathcal{H}|n\\rangle=E_n|n\\rangle.\n",
    "$$"
   ]
  },
  {
   "cell_type": "markdown",
   "id": "c16f5859",
   "metadata": {
    "editable": true
   },
   "source": [
    "## Expanding in the eigenstates\n",
    "\n",
    "We can then expand our state $|\\psi(\\theta)\\rangle$ in terms of the eigenstates"
   ]
  },
  {
   "cell_type": "markdown",
   "id": "58a6f89d",
   "metadata": {
    "editable": true
   },
   "source": [
    "$$\n",
    "|\\psi(\\theta)\\rangle=\\sum_nc_n|n\\rangle,\n",
    "$$"
   ]
  },
  {
   "cell_type": "markdown",
   "id": "a4e0803a",
   "metadata": {
    "editable": true
   },
   "source": [
    "and insert this in the expression  for the expectation value (note that we drop the denominator in the Rayleigh-Ritz ratio)"
   ]
  },
  {
   "cell_type": "markdown",
   "id": "880a0ad3",
   "metadata": {
    "editable": true
   },
   "source": [
    "$$\n",
    "\\langle\\psi(\\theta)\\vert \\mathcal{H}\\vert\\psi(\\theta)\\rangle=\\sum_{nm}c^*_mc_n\\langle m\\vert\\mathcal{H}\\vert n \\rangle\n",
    "=\\sum_{nm}c^*_mc_nE_n\\langle m\\vert n \\rangle=\\sum_{nm}\\delta_{nm}c^*_mc_nE_n=\\sum_{n}\\vert c_n\\vert^2E_n \\geq E_0\\sum_{n}\\vert c_n\\vert^2=E_0,\n",
    "$$"
   ]
  },
  {
   "cell_type": "markdown",
   "id": "4fd78028",
   "metadata": {
    "editable": true
   },
   "source": [
    "which implies that we can minimize over the set of angles $\\theta$ and arrive at the ground state energy $E_0$"
   ]
  },
  {
   "cell_type": "markdown",
   "id": "6ecb9a60",
   "metadata": {
    "editable": true
   },
   "source": [
    "$$\n",
    "\\min_\\theta \\ \\langle\\psi(\\theta)\\vert \\mathcal{H}\\vert \\psi(\\theta)\\rangle=E_0.\n",
    "$$"
   ]
  },
  {
   "cell_type": "markdown",
   "id": "4308e10a",
   "metadata": {
    "editable": true
   },
   "source": [
    "## Basic steps of the VQE algorithm\n",
    "\n",
    "Using this fact, the VQE algorithm can be broken down into the following steps\n",
    "1. Prepare the variational state $|\\psi(\\theta)\\rangle$ on a quantum computer.\n",
    "\n",
    "2. Measure this circuit in various bases and send these measurements to a classical computer\n",
    "\n",
    "3. The classical computer post-processes the measurement data to compute the expectation value $\\langle\\psi(\\theta)\\vert \\mathcal{H}\\vert \\psi(\\theta)\\rangle$\n",
    "\n",
    "4. The classical computer varies the parameters $\\theta$ according to a classical minimization algorithm and sends them back to the quantum computer which runs step 1 again.\n",
    "\n",
    "This loop continues until the classical optimization algorithm\n",
    "terminates which results in a set of angles $\\theta_{\\text{min}}$ that\n",
    "characterize the ground state $|\\phi(\\theta_{\\text{min}})\\rangle$ and\n",
    "an estimate for the ground state energy\n",
    "$\\langle\\psi(\\theta_{\\text{min}})\\vert\\mathcal{H}\\vert\\psi(\\theta_{\\text{min}})\\rangle$."
   ]
  },
  {
   "cell_type": "markdown",
   "id": "fcdc0296",
   "metadata": {
    "editable": true
   },
   "source": [
    "## VQE overview\n",
    "\n",
    "<!-- dom:FIGURE: [figures/vqe.png, width=700 frac=1.0] -->\n",
    "<!-- begin figure -->\n",
    "\n",
    "<img src=\"figures/vqe.png\" width=\"700\"><p style=\"font-size: 0.9em\"><i>Figure 1: </i></p>\n",
    "<!-- end figure -->"
   ]
  },
  {
   "cell_type": "markdown",
   "id": "482f30fe",
   "metadata": {
    "editable": true
   },
   "source": [
    "## Rotations\n",
    "\n",
    "To have any flexibility in the\n",
    "ansatz $\\vert \\psi\\rangle$, we need to allow for a given parametrization. The most\n",
    "common approach is to employ the so-called rotation operations given by $R_x$, $R_z$ and $R_y$, where we apply chained\n",
    "operations of rotating around the various axes by $\\boldsymbol{\\theta} =\n",
    "(\\theta_1,\\ldots,\\theta_Q)$ of the Bloch sphere and CNOT operations.\n",
    "\n",
    "Applications of say the $y$-rotation\n",
    "specifically ensures that our coefficients always remain real, which\n",
    "often is satisfactory when dealing with many-body systems."
   ]
  },
  {
   "cell_type": "markdown",
   "id": "8df1edb7",
   "metadata": {
    "editable": true
   },
   "source": [
    "## Measurements and more\n",
    "\n",
    "After the ansatz has been constructed, the Hamiltonian must\n",
    "be applied. The Hamiltonian must be written in terms of\n",
    "Pauli strings in order to perform measurements properly.\n",
    "\n",
    "To obtain the expectation value\n",
    "of the ground state energy, one can measure the expectation value of\n",
    "each Pauli string,"
   ]
  },
  {
   "cell_type": "markdown",
   "id": "8025d947",
   "metadata": {
    "editable": true
   },
   "source": [
    "$$\n",
    "\\begin{align*}\n",
    "    E(\\boldsymbol{\\theta}) = \\sum_i w_i\\langle \\psi(\\boldsymbol{\\theta})\\vert P_i \\vert \\psi(\\boldsymbol{\\theta})\\rangle \\equiv \\sum_i w_i f_i,\n",
    "\\end{align*}\n",
    "$$"
   ]
  },
  {
   "cell_type": "markdown",
   "id": "150ef6fb",
   "metadata": {
    "editable": true
   },
   "source": [
    "where $f_i$ is the expectation value of the Pauli string $i$."
   ]
  },
  {
   "cell_type": "markdown",
   "id": "44e873cd",
   "metadata": {
    "editable": true
   },
   "source": [
    "## Collecting data\n",
    "\n",
    "This is estimated statistically by considering measurements in the\n",
    "appropriate basis of the operator in the Pauli string.\n",
    "\n",
    "With $N_0$ and $N_1$ as the number of $0$ and $1$ measurements respectively, we can estimate $f_i$ since"
   ]
  },
  {
   "cell_type": "markdown",
   "id": "31957716",
   "metadata": {
    "editable": true
   },
   "source": [
    "$$\n",
    "\\begin{align*}\n",
    "    f_i = \\lim_{N \\to \\infty} \\frac{N_0 - N_1}{N},\n",
    "\\end{align*}\n",
    "$$"
   ]
  },
  {
   "cell_type": "markdown",
   "id": "800983bc",
   "metadata": {
    "editable": true
   },
   "source": [
    "where $N$ as the number of shots (measurements).\n",
    "\n",
    "Each Pauli string requires its own circuit, where multiple measurements\n",
    "of each string is required. Adding the results together with the\n",
    "corresponding weights, the ground state energy can be estimated. To\n",
    "optimize with respect to  $\\boldsymbol{\\theta}$, a classical optimizer is often\n",
    "applied."
   ]
  },
  {
   "cell_type": "markdown",
   "id": "54446eef",
   "metadata": {
    "editable": true
   },
   "source": [
    "## Ansatzes\n",
    "\n",
    "Every possible qubit wavefunction $\\left| \\psi \\right\\rangle$ can be presented as a vector:"
   ]
  },
  {
   "cell_type": "markdown",
   "id": "c8244721",
   "metadata": {
    "editable": true
   },
   "source": [
    "$$\n",
    "\\left| \\psi \\right\\rangle = \\begin{bmatrix}\n",
    "\\cos{\\left( \\theta/2 \\right)}\\\\\n",
    "e^{i \\varphi} \\cdot \\sin{\\left( \\theta/2 \\right)}\n",
    "\\end{bmatrix},\n",
    "$$"
   ]
  },
  {
   "cell_type": "markdown",
   "id": "8cd3837b",
   "metadata": {
    "editable": true
   },
   "source": [
    "where the numbers $\\theta$ and $\\varphi$ define a point on the unit\n",
    "three-dimensional sphere, the so-called  Bloch sphere.\n",
    "\n",
    "For a random one qubit Hamiltonian, a *good* quantum state preparation\n",
    "circuit should be able to generate all possible states on the Bloch\n",
    "sphere."
   ]
  },
  {
   "cell_type": "markdown",
   "id": "e4deee0f",
   "metadata": {
    "editable": true
   },
   "source": [
    "## Preparing the states\n",
    "\n",
    "Before quantum state preparation, our qubit is in the $\\vert 0\\rangle$ state.\n",
    "This corresponds to the vertical position of\n",
    "the vector in the Bloch sphere. In order to generate any possible\n",
    "$\\left| \\psi \\right\\rangle$ we will apply $R_x(t_1)$ and $R_y(t_2)$\n",
    "gates on the $\\left| 0 \\right\\rangle$ initial state"
   ]
  },
  {
   "cell_type": "markdown",
   "id": "f8acb61a",
   "metadata": {
    "editable": true
   },
   "source": [
    "$$\n",
    "R_y(\\phi)R_x(\\theta) \\left| 0 \\right\\rangle = \\left| \\psi\\right\\rangle.\n",
    "$$"
   ]
  },
  {
   "cell_type": "markdown",
   "id": "d5b1f246",
   "metadata": {
    "editable": true
   },
   "source": [
    "The rotation $R_x(\\theta)$\n",
    "corresponds to the rotation in the Bloch\n",
    "sphere around the $x$-axis and $R_y(\\phi)$ the rotation around the $y$-axis."
   ]
  },
  {
   "cell_type": "markdown",
   "id": "e99a2f97",
   "metadata": {
    "editable": true
   },
   "source": [
    "## Rotations used\n",
    "\n",
    "These two gates with there parameters ($\\theta$ and $\\phi$) will generate\n",
    "for us the trial (ansatz) wavefunctions. The two parameters will be in\n",
    "control of the Classical Computer and its optimization model."
   ]
  },
  {
   "cell_type": "markdown",
   "id": "f2b974e4",
   "metadata": {
    "editable": true
   },
   "source": [
    "## Implementing using qiskit"
   ]
  },
  {
   "cell_type": "code",
   "execution_count": 1,
   "id": "d4eb2c61",
   "metadata": {
    "collapsed": false,
    "editable": true,
    "jupyter": {
     "outputs_hidden": false
    }
   },
   "outputs": [],
   "source": [
    "import numpy as np\n",
    "from random import random\n",
    "from qiskit import *\n",
    "def quantum_state_preparation(circuit, parameters):\n",
    "    q = circuit.qregs[0] # q is the quantum register where the info about qubits is stored\n",
    "    circuit.rx(parameters[0], q[0]) # q[0] is our one and only qubit XD\n",
    "    circuit.ry(parameters[1], q[0])\n",
    "    return circuit"
   ]
  },
  {
   "cell_type": "markdown",
   "id": "29bf1dc9",
   "metadata": {
    "editable": true
   },
   "source": [
    "## Expectation values\n",
    "\n",
    "To execute the second step of VQE, we need to understand how\n",
    "expectation values of operators can be estimated via quantum computers\n",
    "by post-processing measurements of quantum circuits in different\n",
    "basis sets. To rotate bases, one uses the basis rotator $R_\\sigma$ which is\n",
    "defined for each Pauli gate $\\sigma$ to be (using the Hadamard rotation $H$ and Phase rotation $S$)\n",
    "for a Pauli-$\\boldsymbol{X}$ matrix"
   ]
  },
  {
   "cell_type": "markdown",
   "id": "01882319",
   "metadata": {
    "editable": true
   },
   "source": [
    "$$\n",
    "\\boldsymbol{X}=\\boldsymbol{R}_{\\sigma}\\boldsymbol{Z}\\boldsymbol{R}_{\\sigma} = \\boldsymbol{HZH}\n",
    "$$"
   ]
  },
  {
   "cell_type": "markdown",
   "id": "d932a8ca",
   "metadata": {
    "editable": true
   },
   "source": [
    "for a Pauli-$\\boldsymbol{Y}$ matrix"
   ]
  },
  {
   "cell_type": "markdown",
   "id": "941a27a0",
   "metadata": {
    "editable": true
   },
   "source": [
    "$$\n",
    "\\boldsymbol{Y}=\\boldsymbol{R}_{\\sigma}\\boldsymbol{Z}\\boldsymbol{R}_{\\sigma}=\\boldsymbol{HS}^{\\dagger}\\boldsymbol{ZHS},\n",
    "$$"
   ]
  },
  {
   "cell_type": "markdown",
   "id": "c899023d",
   "metadata": {
    "editable": true
   },
   "source": [
    "and"
   ]
  },
  {
   "cell_type": "markdown",
   "id": "b000fcf3",
   "metadata": {
    "editable": true
   },
   "source": [
    "$$\n",
    "\\boldsymbol{Z}=\\boldsymbol{R}_{\\sigma}\\boldsymbol{Z}\\boldsymbol{R}_{\\sigma}=\\boldsymbol{I}\\boldsymbol{Z}\\boldsymbol{I}=\\boldsymbol{Z}.\n",
    "$$"
   ]
  },
  {
   "cell_type": "markdown",
   "id": "2071b6c8",
   "metadata": {
    "editable": true
   },
   "source": [
    "## Measurements of eigenvalues of the Pauli operators\n",
    "\n",
    "We can show that these rotations allow us to measure the eigenvalues of the Pauli operators. The eigenvectors of the Pauli $\\boldsymbol{X}$ gate are"
   ]
  },
  {
   "cell_type": "markdown",
   "id": "50066a29",
   "metadata": {
    "editable": true
   },
   "source": [
    "$$\n",
    "\\vert\\pm\\rangle = \\frac{\\vert 0\\rangle \\pm \\vert 1\\rangle}{\\sqrt{2}},\n",
    "$$"
   ]
  },
  {
   "cell_type": "markdown",
   "id": "fdb64f66",
   "metadata": {
    "editable": true
   },
   "source": [
    "with eigenvalues $\\pm 1$.\n",
    "Acting on the eigenstates with the rotation gives"
   ]
  },
  {
   "cell_type": "markdown",
   "id": "261b8d44",
   "metadata": {
    "editable": true
   },
   "source": [
    "$$\n",
    "\\boldsymbol{H}\\vert +\\rangle = +1\\vert 0\\rangle,\n",
    "$$"
   ]
  },
  {
   "cell_type": "markdown",
   "id": "0c8dd6de",
   "metadata": {
    "editable": true
   },
   "source": [
    "and"
   ]
  },
  {
   "cell_type": "markdown",
   "id": "03d6b769",
   "metadata": {
    "editable": true
   },
   "source": [
    "$$\n",
    "\\boldsymbol{H}\\vert -\\rangle = -1\\vert 1\\rangle.\n",
    "$$"
   ]
  },
  {
   "cell_type": "markdown",
   "id": "e30999f3",
   "metadata": {
    "editable": true
   },
   "source": [
    "## Single-qubit states\n",
    "\n",
    "Any single-qubit state can be written as a linear combination of these eigenvectors,"
   ]
  },
  {
   "cell_type": "markdown",
   "id": "9dff2162",
   "metadata": {
    "editable": true
   },
   "source": [
    "$$\n",
    "\\vert \\psi\\rangle = \\alpha \\vert +\\rangle + \\beta \\vert -\\rangle.\n",
    "$$"
   ]
  },
  {
   "cell_type": "markdown",
   "id": "5287e0a0",
   "metadata": {
    "editable": true
   },
   "source": [
    "We then have the following expectation value for the Pauli $\\boldsymbol{X}$ operator"
   ]
  },
  {
   "cell_type": "markdown",
   "id": "67b49dd6",
   "metadata": {
    "editable": true
   },
   "source": [
    "$$\n",
    "\\langle \\vert X\\vert \\rangle = \\langle \\psi\\vert X \\vert \\psi\\rangle = |\\alpha|^2 - |\\beta|^2.\n",
    "$$"
   ]
  },
  {
   "cell_type": "markdown",
   "id": "aa02d000",
   "metadata": {
    "editable": true
   },
   "source": [
    "However, we can only measure the qubits in the computational basis. Applying the rotation to our state gives"
   ]
  },
  {
   "cell_type": "markdown",
   "id": "ef71fc28",
   "metadata": {
    "editable": true
   },
   "source": [
    "$$\n",
    "H \\vert \\psi\\rangle = \\alpha \\vert 0\\rangle - \\beta \\vert 1\\rangle.\n",
    "$$"
   ]
  },
  {
   "cell_type": "markdown",
   "id": "f43469ea",
   "metadata": {
    "editable": true
   },
   "source": [
    "## Measurements and computational basis\n",
    "\n",
    "We have seen how to rewrite the above sinple $2\\times 2$ eiegenvalue problem in terms of a Hamiltonian defined by Pauli $\\boldsymbol{X}$ and $\\boldsymbol{Z}$ matrices,\n",
    "and the identity matrix $\\boldsymbol{I}$.\n",
    "Let us make this Hamiltonian that involves only one qubit somewhat more general"
   ]
  },
  {
   "cell_type": "markdown",
   "id": "ec6226a9",
   "metadata": {
    "editable": true
   },
   "source": [
    "$$\n",
    "\\left\\langle \\psi \\right| \\mathcal{H} \\left| \\psi \\right\\rangle = a \\cdot \\left\\langle \\psi \\right| \\boldsymbol{I} \\left| \\psi \\right\\rangle + b \\cdot \\left\\langle \\psi \\right| \\boldsymbol{Z} \\left| \\psi \\right\\rangle + c \\cdot \\left\\langle \\psi \\right| \\boldsymbol{X} \\left| \\psi \\right\\rangle + d \\cdot \\left\\langle \\psi \\right| \\boldsymbol{Y} \\left| \\psi \\right\\rangle.\n",
    "$$"
   ]
  },
  {
   "cell_type": "markdown",
   "id": "7b221d00",
   "metadata": {
    "editable": true
   },
   "source": [
    "## Expectation value of $\\boldsymbol{I}$\n",
    "\n",
    "For the $I$ operator the expectation value is always unity:"
   ]
  },
  {
   "cell_type": "markdown",
   "id": "fda74f63",
   "metadata": {
    "editable": true
   },
   "source": [
    "$$\n",
    "\\left\\langle \\psi \\right| \\boldsymbol{I} \\left| \\psi \\right\\rangle = 1.\n",
    "$$"
   ]
  },
  {
   "cell_type": "markdown",
   "id": "48e55b72",
   "metadata": {
    "editable": true
   },
   "source": [
    "Its contribution to the overall expectaction value is thus given by the constant $a$."
   ]
  },
  {
   "cell_type": "markdown",
   "id": "93059c89",
   "metadata": {
    "editable": true
   },
   "source": [
    "## The Pauli matrices\n",
    "\n",
    "For the rest of the Pauli operators, we make the following remark:\n",
    "every one qubit quantum state $\\left| \\psi \\right\\rangle$ can be\n",
    "represented via different sets of basis vectors:"
   ]
  },
  {
   "cell_type": "markdown",
   "id": "c3b4cea1",
   "metadata": {
    "editable": true
   },
   "source": [
    "$$\n",
    "\\left| \\psi \\right\\rangle = c_1^z \\cdot \\left| 0 \\right\\rangle + c_2^z \\cdot \\left| 1 \\right\\rangle = c_1^x \\cdot \\left| + \\right\\rangle + c_2^x \\cdot \\left| - \\right\\rangle = c_1^y \\cdot \\left| +i \\right\\rangle + c_2^y \\cdot \\left| -i \\right\\rangle.\n",
    "$$"
   ]
  },
  {
   "cell_type": "markdown",
   "id": "ee539f7d",
   "metadata": {
    "editable": true
   },
   "source": [
    "## In more detail\n",
    "We have"
   ]
  },
  {
   "cell_type": "markdown",
   "id": "7425053e",
   "metadata": {
    "editable": true
   },
   "source": [
    "$$\n",
    "\\begin{align*}\n",
    "&\\text{Z-eigenvectors} \\qquad\n",
    "\\left| 0 \\right\\rangle = \\begin{bmatrix}\n",
    "1\\\\\n",
    "0\n",
    "\\end{bmatrix},\n",
    "&&\\left| 1 \\right\\rangle = \\begin{bmatrix}\n",
    "0\\\\\n",
    "1\n",
    "\\end{bmatrix},\n",
    "\\end{align*}\n",
    "$$"
   ]
  },
  {
   "cell_type": "markdown",
   "id": "f6207337",
   "metadata": {
    "editable": true
   },
   "source": [
    "## For the other two matrices"
   ]
  },
  {
   "cell_type": "markdown",
   "id": "e1a78580",
   "metadata": {
    "editable": true
   },
   "source": [
    "$$\n",
    "\\begin{align*}\n",
    "&\\text{X-eigenvectors} \\qquad\n",
    "\\left| + \\right\\rangle = \\frac{1}{\\sqrt{2}} \\begin{bmatrix}\n",
    "1\\\\\n",
    "1\n",
    "\\end{bmatrix},\n",
    "&&\\left| - \\right\\rangle = \\frac{1}{\\sqrt{2}} \\begin{bmatrix}\n",
    "1\\\\\n",
    "-1\n",
    "\\end{bmatrix},\n",
    "\\\\\n",
    "&\\text{Y-eigenvectors} \\qquad\n",
    "\\left| +i \\right\\rangle = \\frac{1}{\\sqrt{2}} \\begin{bmatrix}\n",
    "1\\\\\n",
    "i\n",
    "\\end{bmatrix}, \n",
    "&&\\left| -i \\right\\rangle = \\frac{1}{\\sqrt{2}} \\begin{bmatrix}\n",
    "1\\\\\n",
    "-i\n",
    "\\end{bmatrix}.\n",
    "\\end{align*}\n",
    "$$"
   ]
  },
  {
   "cell_type": "markdown",
   "id": "ab8ab1d0",
   "metadata": {
    "editable": true
   },
   "source": [
    "## Analyzing these equations\n",
    "\n",
    "The first presented eigenvectors for each Pauli operator have eigenvalues equal to $+1$: $Z \\left| 0 \\right\\rangle = +1\\left| 0 \\right\\rangle$, $X \\left| + \\right\\rangle = +1\\left| + \\right\\rangle$, $Y \\left| +i \\right\\rangle = +1\\left| +i \\right\\rangle$, respectively.\n",
    "\n",
    "The second eigenvectors for each Pauli operator have eigenvalues equal to $-1$: $Z \\left| 1 \\right\\rangle = -1\\left| 1 \\right\\rangle$, $X \\left| - \\right\\rangle = -1\\left| - \\right\\rangle$, $Y \\left| -i \\right\\rangle = -1\\left| -i \\right\\rangle$, respectively"
   ]
  },
  {
   "cell_type": "markdown",
   "id": "c50a0c06",
   "metadata": {
    "editable": true
   },
   "source": [
    "## Explicit eigenvalues\n",
    "\n",
    "Now, let us calculate the expectation values of these Pauli operators:"
   ]
  },
  {
   "cell_type": "markdown",
   "id": "cfaaa6aa",
   "metadata": {
    "editable": true
   },
   "source": [
    "$$\n",
    "\\begin{align*}\n",
    "\\left\\langle \\psi \\right| \\boldsymbol{Z} \\left| \\psi \\right\\rangle &= \\left( {c_1^z}^* \\cdot \\left\\langle 0 \\right| + {c_2^z}^* \\cdot \\left\\langle 1 \\right| \\right) Z \\left( c_1^z \\cdot \\left| 0 \\right\\rangle + c_2^z \\cdot \\left| 1 \\right\\rangle \\right) = {\\left| c_1^z \\right|}^2 - {\\left| c_2^z \\right|}^2,\n",
    "\\\\\n",
    "\\left\\langle \\psi \\right| \\boldsymbol{X} \\left| \\psi \\right\\rangle &= \\left( {c_1^x}^* \\cdot \\left\\langle + \\right| + {c_2^x}^* \\cdot \\left\\langle - \\right| \\right) X \\left( c_1^x \\cdot \\left| + \\right\\rangle + c_2^x \\cdot \\left| - \\right\\rangle \\right) = {\\left| c_1^x \\right|}^2 - {\\left| c_2^x \\right|}^2,\n",
    "\\\\\n",
    "\\left\\langle \\psi \\right| \\boldsymbol{Y} \\left| \\psi \\right\\rangle &= \\left( {c_1^y}^* \\cdot \\left\\langle +i \\right| + {c_2^y}^* \\cdot \\left\\langle -i \\right| \\right) Y \\left( c_1^y \\cdot \\left| +i \\right\\rangle + c_2^y \\cdot \\left| -i \\right\\rangle \\right) = {\\left| c_1^y \\right|}^2 - {\\left| c_2^y \\right|}^2.\n",
    "\\end{align*}\n",
    "$$"
   ]
  },
  {
   "cell_type": "markdown",
   "id": "e83eab96",
   "metadata": {
    "editable": true
   },
   "source": [
    "## Computational basis\n",
    "\n",
    "The above equations require that we can make measurements in the chosen basis sets.\n",
    "\n",
    "However, this may not be possible. The difficulty comes  from the fact that one may have the possibility\n",
    "to measure only in the $\\boldsymbol{Z}$-basis. To solve this difficulty we still do\n",
    "a $\\boldsymbol{Z}$-basis measurement, but, before that, we apply specific operators\n",
    "to the $\\left| \\psi \\right\\rangle$ state."
   ]
  },
  {
   "cell_type": "markdown",
   "id": "e5860226",
   "metadata": {
    "editable": true
   },
   "source": [
    "## Unitary transformation of $\\boldsymbol{X}$\n",
    "\n",
    "If we use the Hadamard gate"
   ]
  },
  {
   "cell_type": "markdown",
   "id": "59236bbf",
   "metadata": {
    "editable": true
   },
   "source": [
    "$$\n",
    "\\boldsymbol{H} = \\frac{1}{\\sqrt{2}}\\begin{bmatrix}\n",
    "1 & 1\\\\\n",
    "1 & -1\n",
    "\\end{bmatrix},\n",
    "$$"
   ]
  },
  {
   "cell_type": "markdown",
   "id": "f066b6f2",
   "metadata": {
    "editable": true
   },
   "source": [
    "we can rewrite"
   ]
  },
  {
   "cell_type": "markdown",
   "id": "293164a2",
   "metadata": {
    "editable": true
   },
   "source": [
    "$$\n",
    "\\boldsymbol{X}=\\boldsymbol{HZH}.\n",
    "$$"
   ]
  },
  {
   "cell_type": "markdown",
   "id": "6175d270",
   "metadata": {
    "editable": true
   },
   "source": [
    "The Hadamard gate/matrix is a unitary matrix with the property that $\\boldsymbol{H}^2=\\boldsymbol{I}$."
   ]
  },
  {
   "cell_type": "markdown",
   "id": "32574913",
   "metadata": {
    "editable": true
   },
   "source": [
    "## Generalizing\n",
    "\n",
    "For the one-qubit Hamiltonian we have toyed with till now, we can thus\n",
    "rewrite in an easy way the Hamiltonian so that we can perform\n",
    "measurements using our favorite computational basis.\n",
    "\n",
    "The transformation of the Pauli-$\\boldsymbol{X}$ matrix can be generalized, as\n",
    "we will see in more detail below for the two-qubit Hamiltonian and next week for \n",
    "the Lipkin model, to the following expression"
   ]
  },
  {
   "cell_type": "markdown",
   "id": "e32ce814",
   "metadata": {
    "editable": true
   },
   "source": [
    "$$\n",
    "\\mathcal{P}=\\boldsymbol{U}^{\\dagger}\\boldsymbol{M}\\boldsymbol{U},\n",
    "$$"
   ]
  },
  {
   "cell_type": "markdown",
   "id": "ee24ff79",
   "metadata": {
    "editable": true
   },
   "source": [
    "where $\\mathcal{P}$ represents some combination of the Pauli matrices and\n",
    "the identity matrix, $\\boldsymbol{U}$ is a unitary matrix and $\\boldsymbol{M}$\n",
    "represents the gate/matrix which performs the measurements, often\n",
    "represented by a Pauli-$\\boldsymbol{Z}$ gate/matrix."
   ]
  },
  {
   "cell_type": "markdown",
   "id": "dfb90403",
   "metadata": {
    "editable": true
   },
   "source": [
    "## Interpretations\n",
    "\n",
    "This tells us that we are able to estimate $|\\alpha|^2$ and\n",
    "$|\\beta|^2$ (and hence the expectation value of the Pauli $\\boldsymbol{X}$\n",
    "operator) by using a rotation and measure the\n",
    "resulting state in the computational basis. We can show this for the\n",
    "Pauli $\\boldsymbol{Z}$ and Pauli $\\boldsymbol{Y}$ similarly."
   ]
  },
  {
   "cell_type": "markdown",
   "id": "e4b66019",
   "metadata": {
    "editable": true
   },
   "source": [
    "## Reminder on rotations\n",
    "\n",
    "Note the following identity of the basis rotator"
   ]
  },
  {
   "cell_type": "markdown",
   "id": "58b52302",
   "metadata": {
    "editable": true
   },
   "source": [
    "$$\n",
    "\\boldsymbol{R}^\\dagger_\\sigma \\boldsymbol{Z} \\boldsymbol{R}_\\sigma = \\boldsymbol{\\sigma,}\n",
    "$$"
   ]
  },
  {
   "cell_type": "markdown",
   "id": "54a10796",
   "metadata": {
    "editable": true
   },
   "source": [
    "which follows from the fact that $\\boldsymbol{HZH}=\\boldsymbol{X}$ and $\\boldsymbol{SXS}^\\dagger=\\boldsymbol{Y}$."
   ]
  },
  {
   "cell_type": "markdown",
   "id": "f90dabf4",
   "metadata": {
    "editable": true
   },
   "source": [
    "## Why do we measure on one qubit? First consideration\n",
    "\n",
    "In quantum computing, measurements are typically performed on one\n",
    "qubit at a time due to a combination of theoretical, practical, and\n",
    "algorithmic considerations:\n",
    "\n",
    "**Algorithmic Requirements:**\n",
    "\n",
    "1. Adaptive Processing: Many quantum algorithms, such as quantum teleportation or error correction, require mid-circuit measurements. The outcomes determine subsequent operations, necessitating sequential measurements to adapt the circuit dynamically.\n",
    "\n",
    "2. Partial Information Extraction: Algorithms often need only specific qubits' results (e.g., in Shor's algorithm), making full-system measurements unnecessary."
   ]
  },
  {
   "cell_type": "markdown",
   "id": "576a0ed3",
   "metadata": {
    "editable": true
   },
   "source": [
    "## Why do we measure on one qubit? Second consideration\n",
    "\n",
    "**Quantum Mechanical Principles:**\n",
    "\n",
    "1. Collapse and Entanglement: Measuring a qubit collapses its state, potentially affecting entangled qubits. Sequential measurements allow controlled extraction of information while managing entanglement.\n",
    "\n",
    "2. Measurement Basis: Most algorithms use the computational basis (individual qubit measurements). Joint measurements in entangled bases are possible but require complex setups and are not always needed."
   ]
  },
  {
   "cell_type": "markdown",
   "id": "7f8b8ab2",
   "metadata": {
    "editable": true
   },
   "source": [
    "## Why do we measure on one qubit? Third consideration\n",
    "\n",
    "**Practical Hardware Limitations:**\n",
    "\n",
    "1. Crosstalk and Noise: Simultaneous measurements risk disturbing neighboring qubits due to hardware imperfections, especially in noisy intermediate-scale quantum (NISQ) devices.\n",
    "\n",
    "2. Readout Constraints: Physical implementations (e.g., superconducting qubits) may have limited readout bandwidth, forcing sequential measurements."
   ]
  },
  {
   "cell_type": "markdown",
   "id": "85b80d3e",
   "metadata": {
    "editable": true
   },
   "source": [
    "## Why do we measure on one qubit? Fourth consideration\n",
    "\n",
    "**Resource Management:**\n",
    "\n",
    "1. Qubit Reuse: Ancilla qubits (e.g., in error correction) are measured, reset, and reused, requiring sequential handling to avoid disrupting computational qubits.\n",
    "\n",
    "**Conclusion:**\n",
    "\n",
    "While joint measurements are theoretically possible, the dominant practice of measuring one qubit at a time stems from algorithmic adaptability, hardware limitations, and the need to minimize quantum state disturbance. This approach balances efficiency, practicality, and the constraints of current quantum systems."
   ]
  },
  {
   "cell_type": "markdown",
   "id": "83d2e75d",
   "metadata": {
    "editable": true
   },
   "source": [
    "## Arbitrary Pauli gate\n",
    "\n",
    "With this, we see that the expectation value of an arbitrary\n",
    "Pauli-gate $\\sigma$ in the state $\\vert\\psi\\rangle$ can be expressed as a linear combination of probabilities"
   ]
  },
  {
   "cell_type": "markdown",
   "id": "45ec522f",
   "metadata": {
    "editable": true
   },
   "source": [
    "$$\n",
    "\\begin{align*}\n",
    "E_{\\psi}(\\sigma)\n",
    "&= \\langle \\psi\\vert\\sigma\\vert\\psi\\rangle \\nonumber \\\\\n",
    "&=\\langle\\psi\\vert R_{\\sigma}^{\\dagger}ZR_{\\sigma}\\vert\\psi\\rangle =\\langle \\phi\\vert Z\\vert \\phi\\rangle \\nonumber \\\\\n",
    "&=\\langle\\phi\\vert\\left(\\sum_{x\\in\\{0,1\\}}(-1)^x\\vert x\\rangle\\langle x\\vert\\right)\\vert\\phi\\rangle \\nonumber \\\\\n",
    "&=\\sum_{x\\in\\{0,1\\}}(-1)^x\\vert\\langle x\\vert \\phi\\rangle\\vert^2\\nonumber \\\\\n",
    "&=\\sum_{x\\in\\{0,1\\}}(-1)^xP(\\vert \\phi\\rangle\\to\\vert x\\rangle),\n",
    "\\end{align*}\n",
    "$$"
   ]
  },
  {
   "cell_type": "markdown",
   "id": "5f63e6f2",
   "metadata": {
    "editable": true
   },
   "source": [
    "where $\\vert \\phi\\rangle=\\vert R_\\sigma\\phi\\rangle$ and\n",
    "$P(\\vert \\phi\\rangle\\to\\vert x\\rangle$ is the probability that the state\n",
    "$\\vert \\phi\\rangle$ collapses to the state $\\vert x\\rangle$ when measured."
   ]
  },
  {
   "cell_type": "markdown",
   "id": "75a32c12",
   "metadata": {
    "editable": true
   },
   "source": [
    "## Arbitrary string of Pauli operators\n",
    "\n",
    "This can\n",
    "be extended to any arbitrary Pauli string: consider the string of\n",
    "Pauli operators $P=\\bigotimes_{p\\in Q}\\sigma_p$ which acts\n",
    "non-trivially on the set of qubits $Q$ which is a subset of the total\n",
    "set of $n$ qubits in the system. Then"
   ]
  },
  {
   "cell_type": "markdown",
   "id": "c12c1aac",
   "metadata": {
    "editable": true
   },
   "source": [
    "$$\n",
    "\\begin{align*}\n",
    "E_{\\psi}\\left(P\\right)\n",
    "&=\\langle \\psi\\vert\\left(\\bigotimes_{p\\in Q}\\sigma_p\\right)\\vert \\psi\\rangle \\nonumber \\\\\n",
    "&=\\langle \\psi\\vert\\left(\\bigotimes_{p\\in Q}\\sigma_p\\right)\n",
    "\\left(\\bigotimes_{q\\notin Q}I_q\\right)\\vert \\psi\\rangle \\nonumber \\\\\n",
    "&=\\langle \\psi\\vert\\left(\\bigotimes_{p \\in Q}R_{\\sigma_p}^{\\dagger}Z_pR_{\\sigma_p}\\right)\n",
    "\\left(\\bigotimes_{q\\notin Q}I_q\\right)\\vert \\psi\\rangle \\nonumber \\\\\n",
    "&=\n",
    "\\langle \\psi\\vert\\left(\\bigotimes_{p \\in Q}R_{\\sigma_p}^{\\dagger}\\right)\n",
    "\\left(\\bigotimes_{p \\in Q}Z_p\\right)\n",
    "\\left(\\bigotimes_{q\\notin Q}I_q\\right)\n",
    "\\left(\\bigotimes_{p \\in Q}R_{\\sigma_p}\\right)\\vert \\psi\\rangle \\nonumber \n",
    "\\end{align*}\n",
    "$$"
   ]
  },
  {
   "cell_type": "markdown",
   "id": "e5230b15",
   "metadata": {
    "editable": true
   },
   "source": [
    "## This gives us"
   ]
  },
  {
   "cell_type": "markdown",
   "id": "62761b45",
   "metadata": {
    "editable": true
   },
   "source": [
    "$$\n",
    "\\begin{align*}\n",
    "E_{\\psi}\\left(P\\right)\n",
    "&=\n",
    "\\langle \\phi\\vert\n",
    "\\left(\\bigotimes_{p \\in Q}Z_p\\right)\n",
    "\\left(\\bigotimes_{q\\notin Q}I_q\\right)\n",
    "\\vert \\phi\\rangle \\nonumber \\\\\n",
    "&=\n",
    "\\langle \\phi\\vert\n",
    "\\left(\\bigotimes_{p\\in Q}\\sum_{x_p\\in\\{0_p,1_p\\}}(-1)^{x_p}\\vert x_p\\rangle\\langle x_p\\vert\\right)\n",
    "\\left(\\bigotimes_{q\\notin Q}\\sum_{y_q\\in\\{0_q,1_q\\}}\\vert y_q\\rangle\\langle y_q\\vert\\right)\n",
    "\\vert \\phi\\rangle \n",
    "\\nonumber \n",
    "\\\\\n",
    "&=\n",
    "\\langle \\phi\\vert\n",
    "\\left(\\sum_{x\\in\\{0,1\\}^n}(-1)^{\\sum_{p\\in Q}x_p}\\vert x\\rangle\\langle x\\vert\\right)\n",
    "\\vert \\phi\\rangle \n",
    "\\nonumber \n",
    "\\\\\n",
    "&=\n",
    "\\sum_{x\\in\\{0,1\\}^n}(-1)^{\\sum_{p\\in Q}x_p}\\vert\\langle x\\vert\\vert \\phi\\rangle\\vert^2\n",
    "\\nonumber \n",
    "\\\\\n",
    "&=\n",
    "\\sum_{x\\in\\{0,1\\}^n}(-1)^{\\sum_{p\\in Q}x_p}P(\\vert \\phi\\rangle\\to\\vert x\\rangle),\n",
    "\\end{align*}\n",
    "$$"
   ]
  },
  {
   "cell_type": "markdown",
   "id": "9d4fd412",
   "metadata": {
    "editable": true
   },
   "source": [
    "where $\\vert \\phi\\rangle=\\vert \\bigotimes_{p\\in Q}R_{\\sigma_p}\\psi\\rangle$."
   ]
  },
  {
   "cell_type": "markdown",
   "id": "a3a14df6",
   "metadata": {
    "editable": true
   },
   "source": [
    "## Final observables\n",
    "\n",
    "Finally, because the expectation value is\n",
    "linear"
   ]
  },
  {
   "cell_type": "markdown",
   "id": "8c8c3901",
   "metadata": {
    "editable": true
   },
   "source": [
    "$$\n",
    "E_\\psi\\left(\\sum_{m}\\lambda_mP_m\\right) = \\sum_m\\lambda_mE_\\psi(P_m),\n",
    "$$"
   ]
  },
  {
   "cell_type": "markdown",
   "id": "aa39d756",
   "metadata": {
    "editable": true
   },
   "source": [
    "one can estimate any observable that can be written as a linear combination of Pauli-string terms."
   ]
  },
  {
   "cell_type": "markdown",
   "id": "1939d521",
   "metadata": {
    "editable": true
   },
   "source": [
    "## Measurement\n",
    "\n",
    "To estimate the probability $P(\\vert \\phi\\rangle\\to \\vert x\\rangle)$ from the\n",
    "previous results, one prepares the state $\\vert \\phi\\rangle$ on a quantum\n",
    "computer and measures it, and then repeats this process (prepare and\n",
    "measure) several times. The probability $P(\\vert \\phi\\rangle\\to \\vert x\\rangle)$ is\n",
    "estimated to be the number of times that one measures the bit-string\n",
    "$x$ divided by the total number of measurements that one makes; that"
   ]
  },
  {
   "cell_type": "markdown",
   "id": "0902820c",
   "metadata": {
    "editable": true
   },
   "source": [
    "$$\n",
    "P(\\vert \\phi\\rangle\\to \\vert x\\rangle\\rangle \\approx \\sum_{m=1}^M\\frac{x_m}{M},\n",
    "$$"
   ]
  },
  {
   "cell_type": "markdown",
   "id": "75913dc9",
   "metadata": {
    "editable": true
   },
   "source": [
    "where $x_m=1$\n",
    "if the result of measurement is $x$ and  $0$ if the result of measurement is not $x$."
   ]
  },
  {
   "cell_type": "markdown",
   "id": "71078446",
   "metadata": {
    "editable": true
   },
   "source": [
    "## [Law of large numbers](https://en.wikipedia.org/wiki/Law_of_large_numbers) aka Bernoulli's theorem\n",
    "\n",
    "By the law of large numbers the approximation approaches equality as\n",
    "$M$ goes to infinity"
   ]
  },
  {
   "cell_type": "markdown",
   "id": "5bbfb064",
   "metadata": {
    "editable": true
   },
   "source": [
    "$$\n",
    "P(\\vert \\phi\\rangle\\to \\vert x\\rangle) = \\lim_{M\\to\\infty}\\sum_{m=1}^M\\frac{x_m}{M}.\n",
    "$$"
   ]
  },
  {
   "cell_type": "markdown",
   "id": "76a0ecb3",
   "metadata": {
    "editable": true
   },
   "source": [
    "As we obviously do not have infinite time nor infinite quantum\n",
    "computers (which could be run in parallel), we must truncate our\n",
    "number of measurement $M$ to a finite, but sufficiently large\n",
    "number. More precisely, for precision $\\epsilon$, each expectation\n",
    "estimation subroutine within VQE requires $\\mathcal{O}(1/\\epsilon^2)$\n",
    "samples from circuits with depth $\\mathcal{O}(1)$."
   ]
  },
  {
   "cell_type": "markdown",
   "id": "c9bc1adf",
   "metadata": {
    "editable": true
   },
   "source": [
    "## Starting to implement codes\n",
    "\n",
    "The simple $2\\times 2$ model is an eigenvalue problem with only\n",
    "two available states.\n",
    "\n",
    "Here we set the parameters $E_1=0$,\n",
    "$E_2=4$, $V_{11}=-V_{22}=3$ and $V_{12}=V_{21}=0.2$.\n",
    "\n",
    "The non-interacting solutions represent our computational basis.\n",
    "Pertinent to our choice of parameters, is that at $\\lambda\\geq 2/3$,\n",
    "the lowest eigenstate is dominated by $\\vert 1\\rangle$ while the upper\n",
    "is $\\vert 0 \\rangle$. At $\\lambda=1$ the $\\vert 0 \\rangle$ mixing of\n",
    "the lowest eigenvalue is $1\\%$ while for $\\lambda\\leq 2/3$ we have a\n",
    "$\\vert 0 \\rangle$ component of more than $90\\%$.  The character of the\n",
    "eigenvectors has therefore been interchanged when passing $z=2/3$. The\n",
    "value of the parameter $V_{12}$ represents the strength of the coupling\n",
    "between the two states."
   ]
  },
  {
   "cell_type": "markdown",
   "id": "d0cacb7d",
   "metadata": {
    "editable": true
   },
   "source": [
    "## Setting up the matrix\n",
    "This part is best seen using the jupyter-notebook"
   ]
  },
  {
   "cell_type": "code",
   "execution_count": 1,
   "id": "96e30634",
   "metadata": {
    "collapsed": false,
    "editable": true,
    "jupyter": {
     "outputs_hidden": false
    }
   },
   "outputs": [
    {
     "name": "stdout",
     "output_type": "stream",
     "text": [
      "0.9801960972814431\n"
     ]
    }
   ],
   "source": [
    "%matplotlib inline\n",
    "\n",
    "from  matplotlib import pyplot as plt\n",
    "import numpy as np\n",
    "dim = 2\n",
    "Hamiltonian = np.zeros((dim,dim))\n",
    "e0 = 0.0\n",
    "e1 = 4.0\n",
    "Xnondiag = 0.20\n",
    "Xdiag = 3.0\n",
    "Eigenvalue = np.zeros(dim)\n",
    "# setting up the Hamiltonian\n",
    "Hamiltonian[0,0] = Xdiag+e0\n",
    "Hamiltonian[0,1] = Xnondiag\n",
    "Hamiltonian[1,0] = Hamiltonian[0,1]\n",
    "Hamiltonian[1,1] = e1-Xdiag\n",
    "# diagonalize and obtain eigenvalues, not necessarily sorted\n",
    "EigValues, EigVectors = np.linalg.eig(Hamiltonian)\n",
    "permute = EigValues.argsort()\n",
    "EigValues = EigValues[permute]\n",
    "# print only the lowest eigenvalue\n",
    "print(EigValues[0])"
   ]
  },
  {
   "cell_type": "markdown",
   "id": "7fd35bfc",
   "metadata": {
    "editable": true
   },
   "source": [
    "Now rewrite it in terms of the identity matrix and the Pauli matrix X and Z"
   ]
  },
  {
   "cell_type": "code",
   "execution_count": 2,
   "id": "efee4684",
   "metadata": {
    "collapsed": false,
    "editable": true,
    "jupyter": {
     "outputs_hidden": false
    }
   },
   "outputs": [
    {
     "name": "stdout",
     "output_type": "stream",
     "text": [
      "0.9801960972814431\n"
     ]
    }
   ],
   "source": [
    "# Now rewrite it in terms of the identity matrix and the Pauli matrix X and Z\n",
    "X = np.array([[0,1],[1,0]])\n",
    "Y = np.array([[0,-1j],[1j,0]])\n",
    "Z = np.array([[1,0],[0,-1]])\n",
    "# identity matrix\n",
    "I = np.array([[1,0],[0,1]])\n",
    "\n",
    "epsilon = (e0+e1)*0.5; omega = (e0-e1)*0.5\n",
    "c = 0.0; omega_z=Xdiag; omega_x = Xnondiag\n",
    "Hamiltonian = (epsilon+c)*I+(omega_z+omega)*Z+omega_x*X\n",
    "EigValues, EigVectors = np.linalg.eig(Hamiltonian)\n",
    "permute = EigValues.argsort()\n",
    "EigValues = EigValues[permute]\n",
    "# print only the lowest eigenvalue\n",
    "print(EigValues[0])"
   ]
  },
  {
   "cell_type": "markdown",
   "id": "8bcf5bfc",
   "metadata": {
    "editable": true
   },
   "source": [
    "## Implementing the VQE\n",
    "\n",
    "For a one-qubit system we can reach every point on the Bloch sphere\n",
    "(as discussed last week) with a rotation about the $x$-axis and the\n",
    "$y$-axis.\n",
    "\n",
    "We can express this mathematically through a a new state $\\vert \\psi\\rangle$"
   ]
  },
  {
   "cell_type": "markdown",
   "id": "a24cee73",
   "metadata": {
    "editable": true
   },
   "source": [
    "$$\n",
    "\\vert\\psi\\rangle = R_y(\\phi)R_x(\\theta)\\vert 0 \\rangle.\n",
    "$$"
   ]
  },
  {
   "cell_type": "markdown",
   "id": "f1d4206b",
   "metadata": {
    "editable": true
   },
   "source": [
    "## Multiple ansatzes\n",
    "\n",
    "We can produce multiple ansatzes for the new state in terms of the\n",
    "angles $\\theta$ and $\\phi$.  With these ansatzes we can in turn\n",
    "calculate the expectation value of the above Hamiltonian, now\n",
    "rewritten in terms of various Pauli matrices (and thereby gates), that is compute"
   ]
  },
  {
   "cell_type": "markdown",
   "id": "988eee8e",
   "metadata": {
    "editable": true
   },
   "source": [
    "$$\n",
    "\\langle \\psi \\vert (c+\\mathcal{E})\\boldsymbol{I} + (\\Omega+\\omega_z)\\boldsymbol{Z} + \\omega_x\\boldsymbol{X}\\vert \\psi \\rangle.\n",
    "$$"
   ]
  },
  {
   "cell_type": "markdown",
   "id": "f8b3c375",
   "metadata": {
    "editable": true
   },
   "source": [
    "## Rotations again\n",
    "\n",
    "We can now set up a series of ansatzes for $\\vert \\psi \\rangle$ as\n",
    "function of the angles $\\theta$ and $\\phi$ and find thereafter the\n",
    "variational minimum using for example a gradient descent method.\n",
    "\n",
    "To do so, we need to remind ourselves about the mathematical expressions for\n",
    "the rotational matrices/operators."
   ]
  },
  {
   "cell_type": "markdown",
   "id": "9719efdf",
   "metadata": {
    "editable": true
   },
   "source": [
    "$$\n",
    "R_x(\\theta)=\\cos{\\frac{\\theta}{2}}\\boldsymbol{I}-\\imath \\sin{\\frac{\\theta}{2}}\\boldsymbol{X},\n",
    "$$"
   ]
  },
  {
   "cell_type": "markdown",
   "id": "a09adceb",
   "metadata": {
    "editable": true
   },
   "source": [
    "and"
   ]
  },
  {
   "cell_type": "markdown",
   "id": "5f0bae6e",
   "metadata": {
    "editable": true
   },
   "source": [
    "$$\n",
    "R_y(\\phi)=\\cos{\\frac{\\phi}{2}}\\boldsymbol{I}-\\imath \\sin{\\frac{\\phi}{2}}\\boldsymbol{Y}.\n",
    "$$"
   ]
  },
  {
   "cell_type": "markdown",
   "id": "08c995b6",
   "metadata": {
    "editable": true
   },
   "source": [
    "## Simple code"
   ]
  },
  {
   "cell_type": "code",
   "execution_count": 3,
   "id": "85e658e3",
   "metadata": {
    "collapsed": false,
    "editable": true,
    "jupyter": {
     "outputs_hidden": false
    }
   },
   "outputs": [
    {
     "name": "stdout",
     "output_type": "stream",
     "text": [
      "[0.67249851+0.21850801j 0.21850801-0.67249851j]\n",
      "(2-1.187159067031975e-16j)\n"
     ]
    }
   ],
   "source": [
    "# define the rotation matrices\n",
    "# Define angles theta and phi\n",
    "theta = 0.5*np.pi; phi = 0.2*np.pi\n",
    "Rx = np.cos(theta*0.5)*I-1j*np.sin(theta*0.5)*X\n",
    "Ry = np.cos(phi*0.5)*I-1j*np.sin(phi*0.5)*Y\n",
    "#define basis states\n",
    "basis0 = np.array([1,0])\n",
    "basis1 = np.array([0,1])\n",
    "\n",
    "NewBasis = Ry @ Rx @ basis0\n",
    "print(NewBasis)\n",
    "# Compute the expectation value\n",
    "#Note hermitian conjugation\n",
    "Energy = NewBasis.conj().T @ Hamiltonian @ NewBasis\n",
    "print(Energy)"
   ]
  },
  {
   "cell_type": "markdown",
   "id": "70bfef6f",
   "metadata": {
    "editable": true
   },
   "source": [
    "Not an impressive results. We set up now a loop over many angles $\\theta$ and $\\phi$ and compute the energies"
   ]
  },
  {
   "cell_type": "code",
   "execution_count": 4,
   "id": "999ba9a6",
   "metadata": {
    "collapsed": false,
    "editable": true,
    "jupyter": {
     "outputs_hidden": false
    }
   },
   "outputs": [
    {
     "name": "stdout",
     "output_type": "stream",
     "text": [
      "0.01575557799303584\n"
     ]
    }
   ],
   "source": [
    "# define a number of angles\n",
    "n = 20\n",
    "angle = np.arange(0,180,10)\n",
    "n = np.size(angle)\n",
    "ExpectationValues = np.zeros((n,n))\n",
    "for i in range (n):\n",
    "    theta = np.pi*angle[i]/180.0\n",
    "    Rx = np.cos(theta*0.5)*I-1j*np.sin(theta*0.5)*X\n",
    "    for j in range (n):\n",
    "        phi = np.pi*angle[j]/180.0\n",
    "        Ry = np.cos(phi*0.5)*I-1j*np.sin(phi*0.5)*Y\n",
    "        NewBasis = Ry @ Rx @ basis0\n",
    "        Energy = NewBasis.conj().T @ Hamiltonian @ NewBasis\n",
    "        Edifference=abs(np.real(EigValues[0]-Energy))\n",
    "        ExpectationValues[i,j]=Edifference\n",
    "\n",
    "print(np.min(ExpectationValues))"
   ]
  },
  {
   "cell_type": "markdown",
   "id": "c67403c0",
   "metadata": {
    "editable": true
   },
   "source": [
    "Clearly, this is not the best way of proceeding. Rather, here we\n",
    "could try to find the optimal values for the parameters $\\theta$ and\n",
    "$\\phi$ through computation of their respective gradients and thereby\n",
    "find the minimum as function of the optimal angles $\\hat{\\theta}$ and\n",
    "$\\hat{\\phi}$.\n",
    "\n",
    "Let us now implement a classical gradient descent algorithm to the computation of the energies. \n",
    "We will follow closely  <https://journals.aps.org/pra/abstract/10.1103/PhysRevA.99.032331> in order to calculate gradients of the Hamiltonian."
   ]
  },
  {
   "cell_type": "markdown",
   "id": "43279f65",
   "metadata": {
    "editable": true
   },
   "source": [
    "## Gradient descent and calculations of gradients\n",
    "\n",
    "In order to optimize the VQE ansatz, we need to compute derivatives\n",
    "with respect to the variational parameters.  Here we develop first a\n",
    "simpler approach tailored to the one-qubit case. For this particular\n",
    "case, we have defined an ansatz in terms of the Pauli rotation\n",
    "matrices."
   ]
  },
  {
   "cell_type": "markdown",
   "id": "43b09706",
   "metadata": {
    "editable": true
   },
   "source": [
    "## Setting up gradients\n",
    "\n",
    "These define an arbitrary one-qubit state on the Bloch\n",
    "sphere through the expression"
   ]
  },
  {
   "cell_type": "markdown",
   "id": "4fc46988",
   "metadata": {
    "editable": true
   },
   "source": [
    "$$\n",
    "\\vert\\psi\\rangle = \\vert \\psi(\\theta,\\phi)\\rangle =R_y(\\phi)R_x(\\theta)\\vert 0 \\rangle.\n",
    "$$"
   ]
  },
  {
   "cell_type": "markdown",
   "id": "1f3b64da",
   "metadata": {
    "editable": true
   },
   "source": [
    "Each of these rotation matrices can be written in a more general form as"
   ]
  },
  {
   "cell_type": "markdown",
   "id": "ac5917a9",
   "metadata": {
    "editable": true
   },
   "source": [
    "$$\n",
    "R_{i}(\\gamma)=\\exp{-(\\imath\\frac{\\gamma}{2}\\sigma_i)}=\\cos{(\\frac{\\gamma}{2})}\\boldsymbol{I}-\\imath\\sin{(\\frac{\\gamma}{2})}\\boldsymbol{\\sigma}_i,\n",
    "$$"
   ]
  },
  {
   "cell_type": "markdown",
   "id": "e4e72d95",
   "metadata": {
    "editable": true
   },
   "source": [
    "where $\\sigma_i$ is one of the Pauli matrices $\\sigma_{x,y,z}$."
   ]
  },
  {
   "cell_type": "markdown",
   "id": "576fbe5d",
   "metadata": {
    "editable": true
   },
   "source": [
    "## Derivatives\n",
    "\n",
    "It is easy to see that the derivative with respect to $\\gamma$ is"
   ]
  },
  {
   "cell_type": "markdown",
   "id": "902f20b4",
   "metadata": {
    "editable": true
   },
   "source": [
    "$$\n",
    "\\frac{\\partial R_{i}(\\gamma)}{\\partial \\gamma}=-\\frac{\\gamma}{2}\\boldsymbol{\\sigma}_i R_{i}(\\gamma).\n",
    "$$"
   ]
  },
  {
   "cell_type": "markdown",
   "id": "6b103ba4",
   "metadata": {
    "editable": true
   },
   "source": [
    "## Derivatives of the expectation value of the Hamiltonian\n",
    "\n",
    "We can now calculate the derivative of the expectation value of the\n",
    "Hamiltonian in terms of the angles $\\theta$ and $\\phi$. We have two\n",
    "derivatives"
   ]
  },
  {
   "cell_type": "markdown",
   "id": "5142602b",
   "metadata": {
    "editable": true
   },
   "source": [
    "$$\n",
    "\\frac{\\partial}{\\partial \\theta}\\left[\\langle \\psi(\\theta,\\phi) \\vert \\boldsymbol{H}\\vert \\psi(\\theta,\\phi)\\rangle\\right]=\\frac{\\partial}{\\partial \\theta}\\left[\\langle\\boldsymbol{H}(\\theta,\\phi)\\rangle\\right]=\\langle \\psi(\\theta,\\phi) \\vert \\boldsymbol{H}(-\\frac{\\imath}{2}\\boldsymbol{\\sigma}_x\\vert \\psi(\\theta,\\phi)\\rangle+\\hspace{0.1cm}\\mathrm{h.c},\n",
    "$$"
   ]
  },
  {
   "cell_type": "markdown",
   "id": "0cf70a03",
   "metadata": {
    "editable": true
   },
   "source": [
    "and"
   ]
  },
  {
   "cell_type": "markdown",
   "id": "58fe7bd5",
   "metadata": {
    "editable": true
   },
   "source": [
    "$$\n",
    "\\frac{\\partial }{\\partial \\phi}\\left[\\langle \\psi(\\theta,\\phi) \\vert \\boldsymbol{H}\\vert \\psi(\\theta,\\phi)\\rangle\\right]=\\frac{\\partial}{\\partial \\phi}\\left[\\langle\\boldsymbol{H}(\\theta,\\phi)\\rangle\\right]=\\langle \\psi(\\theta,\\phi) \\vert \\boldsymbol{H}(-\\frac{\\imath}{2}\\boldsymbol{\\sigma}_y\\vert \\psi(\\theta,\\phi)\\rangle+\\hspace{0.1cm}\\mathrm{h.c}.\n",
    "$$"
   ]
  },
  {
   "cell_type": "markdown",
   "id": "dc1023c6",
   "metadata": {
    "editable": true
   },
   "source": [
    "## Two addtional expectation values\n",
    "\n",
    "This means that we have to calculate two additional expectation values\n",
    "in addition to the expectation value of the Hamiltonian itself.  If we\n",
    "stay with an ansatz for the single qubit states given by the above\n",
    "rotation operators, we can, following for example [the article by\n",
    "Maria Schuld et\n",
    "al](https://journals.aps.org/pra/abstract/10.1103/PhysRevA.99.032331),\n",
    "show that the derivative of the expectation value of the Hamiltonian\n",
    "can be written as (we focus only on a given angle $\\phi$)"
   ]
  },
  {
   "cell_type": "markdown",
   "id": "1284cead",
   "metadata": {
    "editable": true
   },
   "source": [
    "$$\n",
    "\\frac{\\partial}{\\partial \\phi}\\left[\\langle\\boldsymbol{H}(\\phi)\\rangle\\right]=\\frac{1}{2}\\left[\\langle\\boldsymbol{H}(\\phi+\\frac{\\pi}{2})\\rangle-\\langle\\boldsymbol{H}(\\phi-\\frac{\\pi}{2})\\rangle\\right].\n",
    "$$"
   ]
  },
  {
   "cell_type": "markdown",
   "id": "d9058f2e",
   "metadata": {
    "editable": true
   },
   "source": [
    "## Rotations again and again\n",
    "To see this, consider again the definition of the rotation operators.\n",
    "We can write these operators as"
   ]
  },
  {
   "cell_type": "markdown",
   "id": "a7c5a296",
   "metadata": {
    "editable": true
   },
   "source": [
    "$$\n",
    "R_i(\\phi)=\\exp{-\\imath(\\phi \\boldsymbol{\\sigma}_i)},\n",
    "$$"
   ]
  },
  {
   "cell_type": "markdown",
   "id": "d2cbb459",
   "metadata": {
    "editable": true
   },
   "source": [
    "with $\\boldsymbol{sigma}_i$, with $\\boldsymbol{\\sigma}_i$ being any of the Pauli\n",
    "matrices $\\boldsymbol{X}$, $\\boldsymbol{Y}$ and $\\boldsymbol{Z}$. The latter can be generalized to other\n",
    "unitary matrices as well.\n",
    "The derivative with respect to $\\phi$ gives"
   ]
  },
  {
   "cell_type": "markdown",
   "id": "ea125d1e",
   "metadata": {
    "editable": true
   },
   "source": [
    "$$\n",
    "\\frac{\\partial R_i(\\phi)}{\\partial \\phi}=-\\frac{\\imath}{2} \\boldsymbol{\\sigma}_i\\exp{-\\imath(\\phi \\boldsymbol{\\sigma}_i)}=-\\frac{\\imath}{2} \\boldsymbol{\\sigma} R_i(\\phi).\n",
    "$$"
   ]
  },
  {
   "cell_type": "markdown",
   "id": "08853c49",
   "metadata": {
    "editable": true
   },
   "source": [
    "## Bloch sphere math\n",
    "\n",
    "Our ansatz for a general one-qubit state on the Bloch sphere contains the product of a rotation around the $x$-axis and the $y$-axis. In the derivation here we focus only on one angle however. Our ansatz is then given by"
   ]
  },
  {
   "cell_type": "markdown",
   "id": "edcfe0a7",
   "metadata": {
    "editable": true
   },
   "source": [
    "$$\n",
    "\\vert \\psi \\rangle = R_i(\\phi)\\vert 0 \\rangle,\n",
    "$$"
   ]
  },
  {
   "cell_type": "markdown",
   "id": "e2f3f438",
   "metadata": {
    "editable": true
   },
   "source": [
    "and the expectation value of our Hamiltonian is"
   ]
  },
  {
   "cell_type": "markdown",
   "id": "34c58828",
   "metadata": {
    "editable": true
   },
   "source": [
    "$$\n",
    "\\langle \\psi \\vert \\mathcal{H}\\vert \\psi \\rangle = \\langle 0 \\vert R_i(\\phi)^{\\dagger} \\mathcal{H}R_i(\\phi)\\vert 0\\rangle.\n",
    "$$"
   ]
  },
  {
   "cell_type": "markdown",
   "id": "5df43bf4",
   "metadata": {
    "editable": true
   },
   "source": [
    "## Derivatives\n",
    "\n",
    "Our derivative with respect to the angle $\\phi$ has a similar structure, that is"
   ]
  },
  {
   "cell_type": "markdown",
   "id": "cff506ad",
   "metadata": {
    "editable": true
   },
   "source": [
    "$$\n",
    "\\frac{\\partial }{\\partial \\phi}\\left[\\langle \\psi(\\theta,\\phi) \\vert \\boldsymbol{H}\\vert \\psi(\\theta,\\phi)\\rangle\\right]=\\langle \\psi(\\theta,\\phi) \\vert \\boldsymbol{H}(-\\frac{\\imath}{2}\\boldsymbol{\\sigma}_y\\vert \\psi(\\theta,\\phi)\\rangle+\\hspace{0.1cm}\\mathrm{h.c}.\n",
    "$$"
   ]
  },
  {
   "cell_type": "markdown",
   "id": "a2316a86",
   "metadata": {
    "editable": true
   },
   "source": [
    "## Rewriting\n",
    "\n",
    "In order to rewrite the equation of the derivative,\n",
    "the following relation is useful"
   ]
  },
  {
   "cell_type": "markdown",
   "id": "325f8535",
   "metadata": {
    "editable": true
   },
   "source": [
    "$$\n",
    "\\langle \\psi \\vert \\hat{A}^{\\dagger}\\hat{B}\\hat{C}\\vert \\psi \\rangle = \\frac{1}{2}\\left[\n",
    "\\langle \\psi \\vert (\\hat{A}+\\hat{C})^{\\dagger}\\hat{B}(\\boldsymbol{A}+\\hat{C})\\vert \\psi \\rangle-\\langle \\psi \\vert (\\hat{A}-\\hat{C})^{\\dagger}\\hat{B}(\\boldsymbol{A}-\\hat{C})\\vert \\psi \\rangle\\right],\n",
    "$$"
   ]
  },
  {
   "cell_type": "markdown",
   "id": "d646264b",
   "metadata": {
    "editable": true
   },
   "source": [
    "where $\\hat{A}$, $\\hat{B}$ and $\\hat{C}$ are arbitrary hermitian\n",
    "operators."
   ]
  },
  {
   "cell_type": "markdown",
   "id": "650b9f7d",
   "metadata": {
    "editable": true
   },
   "source": [
    "## Final manipulations\n",
    "\n",
    "If we identify these operators as $\\hat{A}=\\boldsymbol{I}$, with\n",
    "$\\boldsymbol{I}$ being the unit operator, $\\hat{B}=\\mathcal{H}$ our Hamiltonian,\n",
    "and $\\hat{C}=-\\imath \\boldsymbol{\\sigma}_i/2$, we obtain the following\n",
    "expression for the expectation value of the derivative (excluding the hermitian conjugate)"
   ]
  },
  {
   "cell_type": "markdown",
   "id": "8e969bcf",
   "metadata": {
    "editable": true
   },
   "source": [
    "$$\n",
    "\\langle \\psi \\vert \\boldsymbol{I}^{\\dagger}\\mathcal{H}(-\\frac{\\imath}{2}\\boldsymbol{\\sigma}_i\\vert \\psi \\rangle = \\frac{1}{2}\\left[\n",
    "\\langle \\psi \\vert (\\boldsymbol{I}-\\frac{\\imath}{2} \\boldsymbol{\\sigma}_i)^{\\dagger}\\mathcal{H}(\\boldsymbol{I}-\\frac{\\imath}{2} \\boldsymbol{\\sigma}_i)\\vert \\psi \\rangle-\\langle \\psi \\vert (\\boldsymbol{I}+\\frac{\\imath}{2} \\boldsymbol{\\sigma}_i)^{\\dagger}\\mathcal{H}(\\boldsymbol{I}+\\frac{\\imath}{2} \\boldsymbol{\\sigma}_i)\\vert \\psi \\rangle\\right].\n",
    "$$"
   ]
  },
  {
   "cell_type": "markdown",
   "id": "fec0d796",
   "metadata": {
    "editable": true
   },
   "source": [
    "## The expressions to implement\n",
    "\n",
    "If we then use that the rotation matrices can be rewritten as"
   ]
  },
  {
   "cell_type": "markdown",
   "id": "e6a91773",
   "metadata": {
    "editable": true
   },
   "source": [
    "$$\n",
    "R_{i}(\\phi)=\\exp{-(\\imath\\frac{\\phi}{2}\\sigma_i)}=\\cos{(\\frac{\\phi}{2})}\\boldsymbol{I}-\\imath\\sin{(\\frac{\\phi}{2})}\\boldsymbol{\\sigma}_i,\n",
    "$$"
   ]
  },
  {
   "cell_type": "markdown",
   "id": "e6a036d2",
   "metadata": {
    "editable": true
   },
   "source": [
    "we see that if we set the angle to $\\phi=\\pi/2$, we have"
   ]
  },
  {
   "cell_type": "markdown",
   "id": "331b2faa",
   "metadata": {
    "editable": true
   },
   "source": [
    "$$\n",
    "R_{i}(\\frac{\\pi}{2})=\\cos{(\\frac{\\pi}{4})}\\boldsymbol{I}-\\imath\\sin{(\\frac{\\pi}{4})}\\boldsymbol{\\sigma}_i=\\frac{1}{\\sqrt{2}}\\left(\\boldsymbol{I}-\\frac{\\imath}{2} \\boldsymbol{\\sigma}_i\\right).\n",
    "$$"
   ]
  },
  {
   "cell_type": "markdown",
   "id": "bbbfc174",
   "metadata": {
    "editable": true
   },
   "source": [
    "## Final expression\n",
    "\n",
    "This means that we can write"
   ]
  },
  {
   "cell_type": "markdown",
   "id": "3621f094",
   "metadata": {
    "editable": true
   },
   "source": [
    "$$\n",
    "\\langle \\psi \\vert \\boldsymbol{I}^{\\dagger}\\mathcal{H}(-\\frac{\\imath}{2}\\boldsymbol{\\sigma}_i\\vert \\psi \\rangle = \\frac{1}{2}\\left[\n",
    "\\langle \\psi \\vert R_i(\\frac{\\pi}{2})^{\\dagger}\\mathcal{H}R_i(\\frac{\\pi}{2})\\vert \\psi \\rangle-\\langle \\psi \\vert R_i(-\\frac{\\pi}{2})^{\\dagger}\\mathcal{H}R_i(-\\frac{\\pi}{2})^{\\dagger}\\vert \\psi \\rangle\\right]=\\frac{1}{2}(\\langle\\mathcal{H}(\\phi+\\frac{\\pi}{2})\\rangle-\\langle\\mathcal{H}(\\phi-\\frac{\\pi}{2})\\rangle).\n",
    "$$"
   ]
  },
  {
   "cell_type": "markdown",
   "id": "cbd5db8a",
   "metadata": {
    "editable": true
   },
   "source": [
    "## Basics of gradient descent and stochastic gradient descent\n",
    "\n",
    "In order to implement the above equations, we need to remind ourselves  about some basic elements of various optimization approaches. Our\n",
    "main focus here will be various gradient descent approaches and quasi-Newton methods like Broyden's algorithm and variations thereof.\n",
    "\n",
    "This material is covered by the lectures from a Computatonal Physics course [on gradient optimization](https://github.com/CompPhysics/ComputationalPhysics2/blob/gh-pages/doc/pub/week6/ipynb/week6.ipynb)"
   ]
  },
  {
   "cell_type": "markdown",
   "id": "7ea9614a",
   "metadata": {
    "editable": true
   },
   "source": [
    "## Computing quantum gradients\n",
    "\n",
    "Let us implement the \n",
    "efficient implementations of gradient methods to the derivatives of\n",
    "the Hamiltonian expectation values."
   ]
  },
  {
   "cell_type": "code",
   "execution_count": 6,
   "id": "f883d050",
   "metadata": {
    "collapsed": false,
    "editable": true,
    "jupyter": {
     "outputs_hidden": false
    }
   },
   "outputs": [
    {
     "name": "stdout",
     "output_type": "stream",
     "text": [
      "0.9801960972814431\n",
      "0.9801960972814431\n",
      "(2.1055789151617437+4.6566147662430603e-17j)\n"
     ]
    }
   ],
   "source": [
    "from  matplotlib import pyplot as plt\n",
    "import numpy as np\n",
    "from scipy.optimize import minimize\n",
    "dim = 2\n",
    "Hamiltonian = np.zeros((dim,dim))\n",
    "e0 = 0.0\n",
    "e1 = 4.0\n",
    "Xnondiag = 0.20\n",
    "Xdiag = 3.0\n",
    "Eigenvalue = np.zeros(dim)\n",
    "# setting up the Hamiltonian\n",
    "Hamiltonian[0,0] = Xdiag+e0\n",
    "Hamiltonian[0,1] = Xnondiag\n",
    "Hamiltonian[1,0] = Hamiltonian[0,1]\n",
    "Hamiltonian[1,1] = e1-Xdiag\n",
    "# diagonalize and obtain eigenvalues, not necessarily sorted\n",
    "EigValues, EigVectors = np.linalg.eig(Hamiltonian)\n",
    "permute = EigValues.argsort()\n",
    "EigValues = EigValues[permute]\n",
    "# print only the lowest eigenvalue\n",
    "print(EigValues[0])\n",
    "\n",
    "# Now rewrite it in terms of the identity matrix and the Pauli matrix X and Z\n",
    "X = np.array([[0,1],[1,0]])\n",
    "Y = np.array([[0,-1j],[1j,0]])\n",
    "Z = np.array([[1,0],[0,-1]])\n",
    "# identity matrix\n",
    "I = np.array([[1,0],[0,1]])\n",
    "\n",
    "epsilon = (e0+e1)*0.5; omega = (e0-e1)*0.5\n",
    "c = 0.0; omega_z=Xdiag; omega_x = Xnondiag\n",
    "Hamiltonian = (epsilon+c)*I+(omega_z+omega)*Z+omega_x*X\n",
    "EigValues, EigVectors = np.linalg.eig(Hamiltonian)\n",
    "permute = EigValues.argsort()\n",
    "EigValues = EigValues[permute]\n",
    "# print only the lowest eigenvalue\n",
    "print(EigValues[0])\n",
    "\n",
    "# define the rotation matrices\n",
    "\n",
    "def Rx(theta):\n",
    "    return np.cos(theta*0.5)*I-1j*np.sin(theta*0.5)*X\n",
    "def Ry(phi):\n",
    "    return np.cos(phi*0.5)*I-1j*np.sin(phi*0.5)*Y\n",
    "\n",
    "#define basis states\n",
    "basis0 = np.array([1,0])\n",
    "basis1 = np.array([0,1])\n",
    "\n",
    "# Computing the expectation value of the energy \n",
    "def Energy(theta,phi):\n",
    "    Basis = Ry(phi) @ Rx(theta) @ basis0\n",
    "    energy = Basis.conj().T @ Hamiltonian @ Basis\n",
    "    return energy\n",
    "\n",
    "\n",
    "# Set up iteration using gradient descent method\n",
    "eta = 0.01\n",
    "Niterations = 100\n",
    "# Random angles using uniform distribution\n",
    "theta = 2*np.pi*np.random.rand()\n",
    "phi = 2*np.pi*np.random.rand()\n",
    "pi2 = 0.5*np.pi\n",
    "for iter in range(Niterations):\n",
    "    thetagradient = 0.5*(Energy(theta+pi2,phi)-Energy(theta-pi2,phi))\n",
    "    phigradient = 0.5*(Energy(theta,phi+pi2)-Energy(theta,phi-pi2))\n",
    "    theta -= eta*thetagradient\n",
    "    phi -= eta*phigradient\n",
    "print(Energy(theta,phi))"
   ]
  },
  {
   "cell_type": "markdown",
   "id": "758a92c3",
   "metadata": {
    "editable": true
   },
   "source": [
    "## A smarter way of doing this\n",
    "\n",
    "The above approach means that we are setting up several matrix-matrix\n",
    "and matrix-vector multiplications. Although straight forward it is not\n",
    "the most efficient way of doing this, in particular in case the\n",
    "matrices become large (and sparse). But there are some more important\n",
    "issues.\n",
    "\n",
    "In a physical realization of these systems we cannot just multiply the\n",
    "state with the Hamiltonian. When performing a measurement we can only\n",
    "measure in one particular direction. For the computational basis\n",
    "states which we have, $\\vert 0\\rangle$ and $\\vert 1\\rangle$, we have\n",
    "to measure along the bases of the Pauli matrices and reconstruct the\n",
    "eigenvalues from these measurements."
   ]
  },
  {
   "cell_type": "markdown",
   "id": "0a4730cd",
   "metadata": {
    "editable": true
   },
   "source": [
    "## The code for the one qubit case"
   ]
  },
  {
   "cell_type": "code",
   "execution_count": 7,
   "id": "48b97ea7",
   "metadata": {
    "collapsed": false,
    "editable": true,
    "jupyter": {
     "outputs_hidden": false
    }
   },
   "outputs": [
    {
     "data": {
      "image/png": "[encoded data removed]",
      "text/plain": [
       "<Figure size 1000x1000 with 1 Axes>"
      ]
     },
     "metadata": {},
     "output_type": "display_data"
    }
   ],
   "source": [
    "import numpy as np\n",
    "import matplotlib.pyplot as plt\n",
    "import seaborn as sns; sns.set_theme(font_scale=1.5)\n",
    "from tqdm import tqdm\n",
    "\n",
    "sigma_x = np.array([[0, 1], [1, 0]])\n",
    "sigma_y = np.array([[0, -1j], [1j, 0]])\n",
    "sigma_z = np.array([[1, 0], [0, -1]])\n",
    "I = np.eye(2)\n",
    "\n",
    "def Hamiltonian(lmb):\n",
    "    E1 = 0\n",
    "    E2 = 4\n",
    "    V11 = 3\n",
    "    V22 = -3\n",
    "    V12 = 0.2\n",
    "    V21 = 0.2\n",
    "\n",
    "    eps = (E1 + E2) / 2\n",
    "    omega = (E1 - E2) / 2\n",
    "    c = (V11 + V22) / 2\n",
    "    omega_z = (V11 - V22) / 2\n",
    "    omega_x = V12\n",
    "\n",
    "    H0 = eps * I + omega * sigma_z\n",
    "    H1 = c * I + omega_z * sigma_z + omega_x * sigma_x\n",
    "    return H0 + lmb * H1\n",
    "    \n",
    "lmbvalues_ana = np.arange(0, 1, 0.01)\n",
    "eigvals_ana = np.zeros((len(lmbvalues_ana), 2))\n",
    "for index, lmb in enumerate(lmbvalues_ana):\n",
    "    H = Hamiltonian(lmb)\n",
    "    eigen, eigvecs = np.linalg.eig(H)\n",
    "    permute = eigen.argsort()\n",
    "    eigvals_ana[index] = eigen[permute]\n",
    "    eigvecs = eigvecs[:,permute]\n",
    "\n",
    "\n",
    "fig, axs = plt.subplots(1, 1, figsize=(10, 10))\n",
    "for i in range(2):\n",
    "    axs.plot(lmbvalues_ana, eigvals_ana[:,i], label=f'$E_{i+1}$')\n",
    "axs.set_xlabel(r'$\\lambda$')\n",
    "axs.set_ylabel('Energy')\n",
    "axs.legend()\n",
    "plt.show()"
   ]
  },
  {
   "cell_type": "markdown",
   "id": "2ac198fe",
   "metadata": {
    "editable": true
   },
   "source": [
    "This was the standard eigenvalue problem. Let us now switch to our own implementation of the VQE."
   ]
  },
  {
   "cell_type": "code",
   "execution_count": 8,
   "id": "d0d35cd7",
   "metadata": {
    "collapsed": false,
    "editable": true,
    "jupyter": {
     "outputs_hidden": false
    }
   },
   "outputs": [],
   "source": [
    "from qc import *\n",
    "\n",
    "def prepare_state(theta, phi, target = None):\n",
    "    I = np.eye(2)\n",
    "    sigma_x = np.array([[0, 1], [1, 0]])\n",
    "    sigma_y = np.array([[0, -1j], [1j, 0]])\n",
    "    state = np.array([1, 0])\n",
    "    Rx = np.cos(theta/2) * I - 1j * np.sin(theta/2) * sigma_x\n",
    "    Ry = np.cos(phi/2) * I - 1j * np.sin(phi/2) * sigma_y\n",
    "    state = Ry @ Rx @ state\n",
    "    if target is not None:\n",
    "        state = target\n",
    "    return state\n",
    "\n",
    "def get_energy(angles, lmb, number_shots, target = None):\n",
    "    theta, phi = angles[0], angles[1]\n",
    "    # print(f'Theta = {theta}, Phi = {phi}')\n",
    "    E1 = 0; E2 = 4; V11 = 3; V22 = -3; V12 = 0.2; V21 = 0.2\n",
    "\n",
    "    eps = (E1 + E2) / 2; omega = (E1 - E2) / 2; c = (V11 + V22) / 2; omega_z = (V11 - V22) / 2; omega_x = V12\n",
    "\n",
    "    init_state = prepare_state(theta, phi, target)\n",
    "    qubit = One_qubit()\n",
    "    qubit.set_state(init_state)\n",
    "    measure_z = qubit.measure(number_shots)\n",
    "\n",
    "    qubit.set_state(init_state)\n",
    "    qubit.apply_hadamard()\n",
    "    measure_x = qubit.measure(number_shots)\n",
    "    \n",
    "    # expected value of Z = (number of 0 measurements - number of 1 measurements)/ number of shots\n",
    "    # number of 1 measurements = sum(measure_z)\n",
    "    exp_val_z = (omega + lmb*omega_z)*(number_shots - 2*np.sum(measure_z)) / number_shots\n",
    "    exp_val_x = lmb*omega_x*(number_shots - 2*np.sum(measure_x)) / number_shots\n",
    "    exp_val_i = (eps + c*lmb) \n",
    "    exp_val = (exp_val_z + exp_val_x + exp_val_i)\n",
    "    return exp_val"
   ]
  },
  {
   "cell_type": "code",
   "execution_count": 9,
   "id": "38f8dbff",
   "metadata": {
    "collapsed": false,
    "editable": true,
    "jupyter": {
     "outputs_hidden": false
    }
   },
   "outputs": [],
   "source": [
    "def minimize_energy(lmb, number_shots, angles_0, learning_rate, max_epochs):\n",
    "    # angles = np.random.uniform(low = 0, high = np.pi, size = 2)\n",
    "    angles = angles_0 #lmb*np.array([np.pi, np.pi])\n",
    "    epoch = 0\n",
    "    delta_energy = 1\n",
    "    energy = get_energy(angles, lmb, number_shots)\n",
    "    while (epoch < max_epochs) and (delta_energy > 1e-4):\n",
    "        grad = np.zeros_like(angles)\n",
    "        for idx in range(angles.shape[0]):\n",
    "            angles_temp = angles.copy()\n",
    "            angles_temp[idx] += np.pi/2 \n",
    "            E_plus = get_energy(angles_temp, lmb, number_shots)\n",
    "            angles_temp[idx] -= np.pi \n",
    "            E_minus = get_energy(angles_temp, lmb, number_shots)\n",
    "            grad[idx] = (E_plus - E_minus)/2 \n",
    "        angles -= learning_rate*grad \n",
    "        new_energy = get_energy(angles, lmb, number_shots)\n",
    "        delta_energy = np.abs(new_energy - energy)\n",
    "        energy = new_energy\n",
    "        epoch += 1\n",
    "    return angles, epoch, (epoch < max_epochs), energy, delta_energy"
   ]
  },
  {
   "cell_type": "code",
   "execution_count": 10,
   "id": "de35ebf3",
   "metadata": {
    "collapsed": false,
    "editable": true,
    "jupyter": {
     "outputs_hidden": false
    }
   },
   "outputs": [
    {
     "name": "stderr",
     "output_type": "stream",
     "text": [
      "100%|███████████████████████████████████████████████████████████████████████████████████████████████████████████████████████████████████████████████████████| 30/30 [00:04<00:00,  7.38it/s]\n"
     ]
    }
   ],
   "source": [
    "number_shots_search = 10_000\n",
    "number_shots = 10_000\n",
    "learning_rate = 0.3\n",
    "max_epochs = 400\n",
    "lmbvalues = np.linspace(0.0, 1.0, 30)\n",
    "min_energy = np.zeros(len(lmbvalues))\n",
    "epochs = np.zeros(len(lmbvalues))\n",
    "for index, lmb in enumerate(tqdm(lmbvalues)):\n",
    "    memory = 0\n",
    "    angles_0 = np.random.uniform(low = 0, high = np.pi, size = 2)\n",
    "    angles, epochs[index], converged, energy, delta_energy = minimize_energy(lmb, number_shots_search, angles_0, learning_rate, max_epochs)\n",
    "    if epochs[index] < (epochs[index-1] - 5):\n",
    "        angles_0 = np.random.uniform(low = 0, high = np.pi, size = 2)\n",
    "        angles, epochs[index], converged, energy, delta_energy = minimize_energy(lmb, number_shots_search, angles_0, learning_rate, max_epochs)\n",
    "    min_energy[index] = get_energy(angles, lmb, number_shots)"
   ]
  },
  {
   "cell_type": "code",
   "execution_count": 11,
   "id": "51d2efaf",
   "metadata": {
    "collapsed": false,
    "editable": true,
    "jupyter": {
     "outputs_hidden": false
    }
   },
   "outputs": [
    {
     "name": "stderr",
     "output_type": "stream",
     "text": [
      "100%|███████████████████████████████████████████████████████████████████████████████████████████████████████████████████████████████████████████████████████| 50/50 [00:06<00:00,  7.30it/s]\n"
     ]
    }
   ],
   "source": [
    "from scipy.optimize import minimize\n",
    "number_shots = 10_000\n",
    "lmbvalues_scipy = np.linspace(0.0, 1.0, 50)\n",
    "min_energy_scipy = np.zeros(len(lmbvalues_scipy))\n",
    "for index, lmb in enumerate(tqdm(lmbvalues_scipy)):\n",
    "    angles_start = np.random.uniform(low = 0, high = np.pi, size = 4)\n",
    "    res = minimize(get_energy, angles_start, args = (lmb, number_shots), method = 'Powell', options = {'maxiter': 1000}, tol = 1e-5)\n",
    "    min_energy_scipy[index] = res.fun"
   ]
  },
  {
   "cell_type": "code",
   "execution_count": 12,
   "id": "982bd2ee",
   "metadata": {
    "collapsed": false,
    "editable": true,
    "jupyter": {
     "outputs_hidden": false
    }
   },
   "outputs": [
    {
     "data": {
      "image/png": "[encoded data removed]",
      "text/plain": [
       "<Figure size 1000x1000 with 1 Axes>"
      ]
     },
     "metadata": {},
     "output_type": "display_data"
    }
   ],
   "source": [
    "fig, axs = plt.subplots(1, 1, figsize=(10, 10))\n",
    "for i in range(2):\n",
    "    axs.plot(lmbvalues_ana, eigvals_ana[:,i], label=f'$E_{i+1}$', color = '#4c72b0')\n",
    "axs.scatter(lmbvalues, min_energy, label = 'VQE eigenvalues', color = '#dd8452')\n",
    "axs.scatter(lmbvalues_scipy, min_energy_scipy, label = 'VQE Scipy', color = '#55a868')\n",
    "axs.set_xlabel(r'$\\lambda$')\n",
    "axs.set_ylabel('Energy')\n",
    "plt.legend()\n",
    "plt.show()"
   ]
  },
  {
   "cell_type": "markdown",
   "id": "2f0e30c3",
   "metadata": {
    "editable": true
   },
   "source": [
    "## Two-qubit Hamiltonian\n",
    "\n",
    "We end this review from last week with a discussion on how to rewrite the two-qubit Hamiltonian rom last week (and project 1)"
   ]
  },
  {
   "cell_type": "markdown",
   "id": "048e8b64",
   "metadata": {
    "editable": true
   },
   "source": [
    "$$\n",
    "\\mathcal{H}=\\begin{bmatrix} \\epsilon_{1}+V_z & 0 & 0 & V_x \\\\\n",
    "                       0  & \\epsilon_{2}-V_z & V_x & 0 \\\\\n",
    "\t\t       0 & H_x & \\epsilon_{3}-V_z & 0 \\\\\n",
    "\t\t       H_x & 0 & 0 & \\epsilon_{4} +V_z \\end{bmatrix}.\n",
    "$$"
   ]
  },
  {
   "cell_type": "markdown",
   "id": "58d0ccac",
   "metadata": {
    "editable": true
   },
   "source": [
    "This Hamiltonian can be rewritten in terms of various one-qubit matrices."
   ]
  },
  {
   "cell_type": "markdown",
   "id": "6410e788",
   "metadata": {
    "editable": true
   },
   "source": [
    "## Definitions\n",
    "\n",
    "We define"
   ]
  },
  {
   "cell_type": "markdown",
   "id": "1b223e5c",
   "metadata": {
    "editable": true
   },
   "source": [
    "$$\n",
    "\\epsilon_{II}=\\frac{\\epsilon_{1}+\\epsilon_{2}+\\epsilon_{3}+\\epsilon_{4}}{4},\n",
    "$$"
   ]
  },
  {
   "cell_type": "markdown",
   "id": "7fa441f2",
   "metadata": {
    "editable": true
   },
   "source": [
    "$$\n",
    "\\epsilon_{ZI}=\\frac{\\epsilon_{1}+\\epsilon_{2}-\\epsilon_{3}-\\epsilon_{4}}{4},\n",
    "$$"
   ]
  },
  {
   "cell_type": "markdown",
   "id": "9864a022",
   "metadata": {
    "editable": true
   },
   "source": [
    "$$\n",
    "\\epsilon_{IZ}=\\frac{\\epsilon_{1}-\\epsilon_{2}+\\epsilon_{3}-\\epsilon_{4}}{4},\n",
    "$$"
   ]
  },
  {
   "cell_type": "markdown",
   "id": "c00f2e7a",
   "metadata": {
    "editable": true
   },
   "source": [
    "$$\n",
    "\\epsilon_{ZZ}=\\frac{\\epsilon_{1}-\\epsilon_{2}-\\epsilon_{3}+\\epsilon_{4}}{4}.\n",
    "$$"
   ]
  },
  {
   "cell_type": "markdown",
   "id": "6fb90f4a",
   "metadata": {
    "editable": true
   },
   "source": [
    "## The Hamiltonian in terms of Pauli-$\\boldsymbol{X}$ and Pauli-$\\boldsymbol{Z}$ matrices\n",
    "\n",
    "With these definitions we can rewrite our two-qubit Hamiltonian as"
   ]
  },
  {
   "cell_type": "markdown",
   "id": "9241e045",
   "metadata": {
    "editable": true
   },
   "source": [
    "$$\n",
    "\\mathcal{H}=\\mathcal{H}_0+\\mathcal{H}_I\n",
    "$$"
   ]
  },
  {
   "cell_type": "markdown",
   "id": "d606afbb",
   "metadata": {
    "editable": true
   },
   "source": [
    "with"
   ]
  },
  {
   "cell_type": "markdown",
   "id": "4256f1bc",
   "metadata": {
    "editable": true
   },
   "source": [
    "$$\n",
    "\\mathcal{H}_0=\\epsilon_{II}\\boldsymbol{I}\\otimes\\boldsymbol{I}+\\epsilon_{ZI}\\boldsymbol{Z}\\otimes\\boldsymbol{I}+\\epsilon_{IZ}\\boldsymbol{I}\\otimes\\boldsymbol{Z}+\\epsilon_{ZZ}\\boldsymbol{Z}\\otimes\\boldsymbol{Z},\n",
    "$$"
   ]
  },
  {
   "cell_type": "markdown",
   "id": "e7aa9f75",
   "metadata": {
    "editable": true
   },
   "source": [
    "and"
   ]
  },
  {
   "cell_type": "markdown",
   "id": "149b142c",
   "metadata": {
    "editable": true
   },
   "source": [
    "$$\n",
    "\\mathcal{H}_I=V_z\\boldsymbol{Z}\\otimes\\boldsymbol{Z}+V_x\\boldsymbol{X}\\otimes\\boldsymbol{X}.\n",
    "$$"
   ]
  },
  {
   "cell_type": "markdown",
   "id": "579d747d",
   "metadata": {
    "editable": true
   },
   "source": [
    "## How do we perform measurements?\n",
    "\n",
    "The above tensor products have to be rewritten in terms of specific\n",
    "transformations so that we can perform the measurements in the basis of\n",
    "the Pauli-$\\boldsymbol{Z}$ matrices. As we discussed earlier, we need to find\n",
    "a transformation of the form"
   ]
  },
  {
   "cell_type": "markdown",
   "id": "f953824c",
   "metadata": {
    "editable": true
   },
   "source": [
    "$$\n",
    "\\mathcal{P}=\\boldsymbol{U}^{\\dagger}\\boldsymbol{M}\\boldsymbol{U},\n",
    "$$"
   ]
  },
  {
   "cell_type": "markdown",
   "id": "06af0a52",
   "metadata": {
    "editable": true
   },
   "source": [
    "where $\\mathcal{P}$ represents some combination of the Pauli matrices and\n",
    "the identity matrix, $\\boldsymbol{U}$ is a unitary matrix and $\\boldsymbol{M}$\n",
    "represents the gate/matrix which performs the measurements, often\n",
    "represented by a Pauli-$\\boldsymbol{Z}$ gate/matrix."
   ]
  },
  {
   "cell_type": "markdown",
   "id": "c415818e",
   "metadata": {
    "editable": true
   },
   "source": [
    "## Rewriting our strings of Pauli matrices\n",
    "\n",
    "As discussed last week and reviewed above, to perform a measurement,\n",
    "it is often useful to rewrite the string of Pauli matrices in a\n",
    "specific order or to simplify the expression.\n",
    "\n",
    "Consider a string of Pauli matrices of the form:"
   ]
  },
  {
   "cell_type": "markdown",
   "id": "52c7bc17",
   "metadata": {
    "editable": true
   },
   "source": [
    "$$\n",
    "P = \\sigma_{i_1} \\otimes \\sigma_{i_2} \\otimes \\cdots \\otimes \\sigma_{i_n},\n",
    "$$"
   ]
  },
  {
   "cell_type": "markdown",
   "id": "4d9c2324",
   "metadata": {
    "editable": true
   },
   "source": [
    "where each $\\sigma_{i_k}$ is one of the Pauli matrices $\\boldsymbol{X}$, $\\boldsymbol{Y}$, $\\boldsymbol{Z}$, or the identity matrix $\\boldsymbol{I}$."
   ]
  },
  {
   "cell_type": "markdown",
   "id": "bea1adfa",
   "metadata": {
    "editable": true
   },
   "source": [
    "## Rewriting the string of matrices\n",
    "\n",
    "To rewrite this string for measurement purposes, follow these steps:\n",
    "**Commute and reorder:**\n",
    "\n",
    "Use the commutation relations of the Pauli matrices to reorder the string. The commutation relations are:"
   ]
  },
  {
   "cell_type": "markdown",
   "id": "f6494e7d",
   "metadata": {
    "editable": true
   },
   "source": [
    "$$\n",
    "[\\sigma_i, \\sigma_j] = 2i \\epsilon_{ijk} \\sigma_k,\n",
    "$$"
   ]
  },
  {
   "cell_type": "markdown",
   "id": "605cf2d4",
   "metadata": {
    "editable": true
   },
   "source": [
    "where $\\epsilon_{ijk}$ is the Levi-Civita symbol. This allows you to move certain Pauli matrices to the left or right in the string.\n",
    "\n",
    "**Simplify using identities:**\n",
    "\n",
    "Use the fact that $\\sigma_i^2 = I$ and the above mentioned commutation relation."
   ]
  },
  {
   "cell_type": "markdown",
   "id": "a4707dcb",
   "metadata": {
    "editable": true
   },
   "source": [
    "## More rewriting tricks\n",
    "\n",
    "**Group terms:**\n",
    "\n",
    "Group terms that are easier to measure together. For example, if you have a term like $\\boldsymbol{X} \\otimes \\boldsymbol{X}$, you can measure both qubits in the $\\boldsymbol{X}$-basis simultaneously.\n",
    "\n",
    "**Diagonalize if necessary:**\n",
    "\n",
    "If the final expression is not diagonal, you may need to apply a unitary transformation to diagonalize it before measurement. For example,to measure $\\boldsymbol{X}$, you can apply the Hadamard gate $\\boldsymbol{H}$ to transform it into $\\boldsymbol{X}$:"
   ]
  },
  {
   "cell_type": "markdown",
   "id": "314dfa35",
   "metadata": {
    "editable": true
   },
   "source": [
    "$$\n",
    "\\boldsymbol{H} \\boldsymbol{X} \\boldsymbol{H} = \\boldsymbol{Z}.\n",
    "$$"
   ]
  },
  {
   "cell_type": "markdown",
   "id": "7bc0fc99",
   "metadata": {
    "editable": true
   },
   "source": [
    "## The $\\boldsymbol{Z}\\otimes \\boldsymbol{I}$ term\n",
    "\n",
    "The explicit matrix is"
   ]
  },
  {
   "cell_type": "markdown",
   "id": "26f64c9b",
   "metadata": {
    "editable": true
   },
   "source": [
    "$$\n",
    "\\boldsymbol{Z}\\otimes \\boldsymbol{I} = \\begin{bmatrix}\n",
    "\t\t1 & 0 & 0 & 0 \\\\\n",
    "                0 & 1 & 0 & 0 \\\\\n",
    "                0 & 0 & -1 & 0 \\\\\n",
    "\t\t0 & 0 & 0 & -1\n",
    "\t\\end{bmatrix}.\n",
    "$$"
   ]
  },
  {
   "cell_type": "markdown",
   "id": "e268bf28",
   "metadata": {
    "editable": true
   },
   "source": [
    "When we perform a measurement on the first qubit, we see that this\n",
    "matrix gives us the correct eigenvalues for the first qubit (but not\n",
    "for the second one). To see this multiply the above matrix with our\n",
    "computational basis states, that is the states $\\vert 00\\rangle =\\vert 0\\rangle\n",
    "\\times \\vert 0\\rangle$, $\\vert 01 \\rangle$, $\\vert 10\\rangle$ and\n",
    "$\\vert 11\\rangle$.\n",
    "\n",
    "This process is referred to in the language of Pauli measurements as\n",
    "**measuring Pauli-Z** and is entirely equivalent to performing a\n",
    "computational basis measurement."
   ]
  },
  {
   "cell_type": "markdown",
   "id": "cc16119d",
   "metadata": {
    "editable": true
   },
   "source": [
    "## The specific eigenvalues\n",
    "\n",
    "Multiplying with the $\\vert 00\\rangle$ state we get"
   ]
  },
  {
   "cell_type": "markdown",
   "id": "2941f706",
   "metadata": {
    "editable": true
   },
   "source": [
    "$$\n",
    "\\boldsymbol{Z}\\otimes \\boldsymbol{I} = \\begin{bmatrix}\n",
    "\t\t1 & 0 & 0 & 0 \\\\\n",
    "                0 & 1 & 0 & 0 \\\\\n",
    "                0 & 0 & -1 & 0 \\\\\n",
    "\t\t0 & 0 & 0 & -1\n",
    "\t\\end{bmatrix}\\begin{bmatrix} 1\\\\ 0 \\\\ 0 \\\\ 0\\end{bmatrix}=\\begin{bmatrix} 1\\\\ 0 \\\\ 0 \\\\ 0\\end{bmatrix},\n",
    "$$"
   ]
  },
  {
   "cell_type": "markdown",
   "id": "50280933",
   "metadata": {
    "editable": true
   },
   "source": [
    "and"
   ]
  },
  {
   "cell_type": "markdown",
   "id": "bc2ddeb4",
   "metadata": {
    "editable": true
   },
   "source": [
    "$$\n",
    "\\boldsymbol{Z}\\otimes \\boldsymbol{I} = \\begin{bmatrix}\n",
    "\t\t1 & 0 & 0 & 0 \\\\\n",
    "                0 & 1 & 0 & 0 \\\\\n",
    "                0 & 0 & -1 & 0 \\\\\n",
    "\t\t0 & 0 & 0 & -1\n",
    "\t\\end{bmatrix}\\begin{bmatrix} 0\\\\ 0 \\\\ 1 \\\\ 0\\end{bmatrix}=-1\\begin{bmatrix} 0\\\\ 0 \\\\ 1 \\\\ 0\\end{bmatrix}.\n",
    "$$"
   ]
  },
  {
   "cell_type": "markdown",
   "id": "227a2e6b",
   "metadata": {
    "editable": true
   },
   "source": [
    "We don't get the correct eigenvalues if we perform the measurement on the second qubit!"
   ]
  },
  {
   "cell_type": "markdown",
   "id": "455667ef",
   "metadata": {
    "editable": true
   },
   "source": [
    "## The $\\boldsymbol{I}\\otimes\\boldsymbol{Z}$ term\n",
    "\n",
    "Our strategy is to rewrite all the strings of Pauli operators via\n",
    "specific unitary transformations in order to obtain a final operator\n",
    "$\\boldsymbol{P}=\\boldsymbol{Z}_1\\otimes\\boldsymbol{I}_2\\otimes\\boldsymbol{I}_3\\otimes\\cdots\\otimes \\boldsymbol{I}_N$, where the subscripts indicate\n",
    "the various qubits. We can then perform the measurement on the first qubit only.\n",
    "\n",
    "We can rewrite $\\boldsymbol{I}\\otimes \\boldsymbol{Z}$ via the SWAP gate"
   ]
  },
  {
   "cell_type": "markdown",
   "id": "aefd706a",
   "metadata": {
    "editable": true
   },
   "source": [
    "$$\n",
    "\\text{SWAP} = \\begin{bmatrix}\n",
    "\t\t1 & 0 & 0 & 0 \\\\\n",
    "                0 & 0 & 1 & 0 \\\\\n",
    "                0 & 1 & 0 & 0 \\\\\n",
    "\t\t0 & 0 & 0 & 1\n",
    "\t\\end{bmatrix}.\n",
    "$$"
   ]
  },
  {
   "cell_type": "markdown",
   "id": "f243b338",
   "metadata": {
    "editable": true
   },
   "source": [
    "## More on the $\\boldsymbol{I}\\otimes\\boldsymbol{Z}$ term\n",
    "\n",
    "We have then that"
   ]
  },
  {
   "cell_type": "markdown",
   "id": "109c4bda",
   "metadata": {
    "editable": true
   },
   "source": [
    "$$\n",
    "\\boldsymbol{P}=\\text{SWAP}^{\\dagger}(\\boldsymbol{I}\\otimes\\boldsymbol{Z})\\text{SWAP}=\\boldsymbol{Z}\\otimes\\boldsymbol{I}.\n",
    "$$"
   ]
  },
  {
   "cell_type": "markdown",
   "id": "63bc36c9",
   "metadata": {
    "editable": true
   },
   "source": [
    "We note that the original $\\boldsymbol{I}\\otimes \\boldsymbol{Z}$ does not give the\n",
    "correct eigenvalues when measured on the first qubit. Try this as an exercise."
   ]
  },
  {
   "cell_type": "markdown",
   "id": "9ae1361d",
   "metadata": {
    "editable": true
   },
   "source": [
    "## The $\\boldsymbol{Z}\\otimes \\boldsymbol{Z}$ term\n",
    "\n",
    "Thus the tensor products of two Pauli-$\\boldsymbol{Z}$ operators forms a matrix\n",
    "composed of two spaces consisting of $+1$ and $-1$ as eigenvalues.\n",
    "As with the single-qubit case, both constitute a half-space, meaning that half of\n",
    "the accessible vector space belongs to the eigenspace with eigenvalue $+1$ and the\n",
    "remaining half to the eigenspace with eigenvalue $-1$.\n",
    "\n",
    "This term gives the correct eigenvalue when operating on the first\n",
    "qubit. In principle thus we don't need to rewrite string of operators.\n",
    "However, as discussed below as well, let us rewrite it via a unitary transformation in\n",
    "order to have $\\boldsymbol{P}=\\boldsymbol{Z}\\otimes\\boldsymbol{I}$.  To do so, consider the\n",
    "transformation"
   ]
  },
  {
   "cell_type": "markdown",
   "id": "ae1452c3",
   "metadata": {
    "editable": true
   },
   "source": [
    "$$\n",
    "\\boldsymbol{P}= CX_{10}^{\\dagger}(\\boldsymbol{Z}\\otimes\\boldsymbol{Z})CX_{10},\n",
    "$$"
   ]
  },
  {
   "cell_type": "markdown",
   "id": "09bf4457",
   "metadata": {
    "editable": true
   },
   "source": [
    "where we have"
   ]
  },
  {
   "cell_type": "markdown",
   "id": "17867a48",
   "metadata": {
    "editable": true
   },
   "source": [
    "$$\n",
    "\\text{CX}_{10} = \\begin{bmatrix}\n",
    "\t\t1 & 0 & 0 & 0 \\\\\n",
    "\t\t0 & 0 & 0 & 1 \\\\\n",
    "\t\t0 & 0 & 1 & 0 \\\\\n",
    "\t\t0 & 1 & 0 & 0\n",
    "\t\\end{bmatrix}.\n",
    "$$"
   ]
  },
  {
   "cell_type": "markdown",
   "id": "b97d800d",
   "metadata": {
    "editable": true
   },
   "source": [
    "## Performing the transformation\n",
    "\n",
    "Performing the operation gives"
   ]
  },
  {
   "cell_type": "markdown",
   "id": "1ccd05f3",
   "metadata": {
    "editable": true
   },
   "source": [
    "$$\n",
    "\\boldsymbol{P}= CX_{10}^{\\dagger}(\\boldsymbol{Z}\\otimes\\boldsymbol{Z})CX_{10}=\\begin{bmatrix}\n",
    "\t\t1 & 0 & 0 & 0 \\\\\n",
    "\t\t0 & 1 & 0 & 0 \\\\\n",
    "\t\t0 & 0 & -1 & 0 \\\\\n",
    "\t\t0 & 0 & 0 & -1\n",
    "\t\\end{bmatrix}=\\boldsymbol{Z}\\otimes\\boldsymbol{I},\n",
    "$$"
   ]
  },
  {
   "cell_type": "markdown",
   "id": "f3f5e50a",
   "metadata": {
    "editable": true
   },
   "source": [
    "which allows us to transform the original tensor product\n",
    "$\\boldsymbol{Z}\\otimes \\boldsymbol{Z}$ into a matrix where we perform the measurement\n",
    "in the basis of the first qubit.\n",
    "\n",
    "To see this, act with $\\boldsymbol{P}$ on the states $\\vert 00\\rangle =\\vert\n",
    "0\\rangle \\times \\vert 0\\rangle$, $\\vert 01 \\rangle$, $\\vert 10\\rangle$\n",
    "and $\\vert 11\\rangle$."
   ]
  },
  {
   "cell_type": "markdown",
   "id": "8c6d141a",
   "metadata": {
    "editable": true
   },
   "source": [
    "## Transformations\n",
    "\n",
    "Any unitary transformation of such matrices also describes two\n",
    "half-spaces labeled with eigenvalues. For example"
   ]
  },
  {
   "cell_type": "markdown",
   "id": "dc224170",
   "metadata": {
    "editable": true
   },
   "source": [
    "$$\n",
    "\\boldsymbol{X}\\otimes\\boldsymbol{X}=\\boldsymbol{H}\\otimes\\boldsymbol{H}(\\boldsymbol{Z}\\otimes\\boldsymbol{Z})\\boldsymbol{H}\\otimes\\boldsymbol{H},,\n",
    "$$"
   ]
  },
  {
   "cell_type": "markdown",
   "id": "39180b1c",
   "metadata": {
    "editable": true
   },
   "source": [
    "follows from from the identity that $\\boldsymbol{Z}=\\boldsymbol{HXH}$.  Similar to the\n",
    "one-qubit case, all two-qubit Pauli-measurements can be written in\n",
    "terms of unitary transformations\n",
    "$\\boldsymbol{U}^{\\dagger}(\\boldsymbol{Z}\\otimes\\boldsymbol{I})\\boldsymbol{U}$ with $\\boldsymbol{U}$ being\n",
    "$4\\times 4$ unitary matrices."
   ]
  },
  {
   "cell_type": "markdown",
   "id": "448f217a",
   "metadata": {
    "editable": true
   },
   "source": [
    "## More terms\n",
    "\n",
    "Let us look at the $\\boldsymbol{X}\\otimes \\boldsymbol{X}$ term in the simpler two-qubit Hamiltonian.\n",
    "\n",
    "This term can be rewritten as"
   ]
  },
  {
   "cell_type": "markdown",
   "id": "5a43ed0a",
   "metadata": {
    "editable": true
   },
   "source": [
    "$$\n",
    "\\boldsymbol{P}= (CX_{10}(\\boldsymbol{H}\\otimes\\boldsymbol{H}))^{\\dagger}(\\boldsymbol{X}\\otimes\\boldsymbol{X})(CX_{10}(\\boldsymbol{H}\\otimes\\boldsymbol{H})),\n",
    "$$"
   ]
  },
  {
   "cell_type": "markdown",
   "id": "67f50f2a",
   "metadata": {
    "editable": true
   },
   "source": [
    "which results in"
   ]
  },
  {
   "cell_type": "markdown",
   "id": "d27619a3",
   "metadata": {
    "editable": true
   },
   "source": [
    "$$\n",
    "\\begin{bmatrix}\n",
    "\t\t1 & 0 & 0 & 0 \\\\\n",
    "\t\t0 & 1 & 0 & 0 \\\\\n",
    "\t\t0 & 0 & -1 & 0 \\\\\n",
    "\t\t0 & 0 & 0 & -1\n",
    "\t\\end{bmatrix}.\n",
    "$$"
   ]
  },
  {
   "cell_type": "markdown",
   "id": "ca0dea5d",
   "metadata": {
    "editable": true
   },
   "source": [
    "We recognize this result as our $\\boldsymbol{Z}\\otimes\\boldsymbol{I}$ tensor product."
   ]
  },
  {
   "cell_type": "markdown",
   "id": "975a7b1e",
   "metadata": {
    "editable": true
   },
   "source": [
    "## Explicit expressions\n",
    "\n",
    "In order to perform our measurements for our simple two-qubit\n",
    "Hamiltonian we need the following unitary transformations $\\boldsymbol{U}$"
   ]
  },
  {
   "cell_type": "markdown",
   "id": "61a1bf7a",
   "metadata": {
    "editable": true
   },
   "source": [
    "$$\n",
    "\\begin{align*}\n",
    "\\boldsymbol{Z}\\otimes\\boldsymbol{I}\\hspace{1cm} & \\boldsymbol{U}=\\boldsymbol{I}\\otimes\\boldsymbol{I}\\\\\n",
    "\\boldsymbol{I}\\otimes\\boldsymbol{Z}\\hspace{1cm} & \\boldsymbol{U}=\\text{SWAP}\\\\\n",
    "\\boldsymbol{Z}\\otimes\\boldsymbol{Z}\\hspace{1cm} & \\boldsymbol{U}=CX_{10}\\\\\n",
    "\\boldsymbol{X}\\otimes\\boldsymbol{X}\\hspace{1cm} & \\boldsymbol{U}=CX_{10}(\\boldsymbol{H}\\otimes\\boldsymbol{H})\\\\\n",
    "\\end{align*}\n",
    "$$"
   ]
  },
  {
   "cell_type": "markdown",
   "id": "6b74a770",
   "metadata": {
    "editable": true
   },
   "source": [
    "These are the gates that are relevant for the simpler two-qubit Hamiltonian of project 1."
   ]
  },
  {
   "cell_type": "markdown",
   "id": "2afc785d",
   "metadata": {
    "editable": true
   },
   "source": [
    "## More complete list and derivations of expressions for strings of operators\n",
    "\n",
    "For a two qubit system we list here the possible transformations"
   ]
  },
  {
   "cell_type": "markdown",
   "id": "a5d42dfe",
   "metadata": {
    "editable": true
   },
   "source": [
    "$$\n",
    "\\begin{align*}\n",
    "\\boldsymbol{Y}\\otimes\\boldsymbol{I}\\hspace{1cm} & \\boldsymbol{U}=\\boldsymbol{H}\\boldsymbol{S}^{\\dagger}\\otimes\\boldsymbol{I}\\\\\n",
    "\\boldsymbol{I}\\otimes\\boldsymbol{X}\\hspace{1cm} & \\boldsymbol{U}=(\\boldsymbol{H}\\otimes\\boldsymbol{I})\\text{SWAP}\\\\\n",
    "\\boldsymbol{I}\\otimes\\boldsymbol{X}\\hspace{1cm} & \\boldsymbol{U}=(\\boldsymbol{H}\\otimes\\boldsymbol{I})\\text{SWAP}\\\\\n",
    "\\boldsymbol{I}\\otimes\\boldsymbol{X}\\hspace{1cm} & \\boldsymbol{U}=(\\boldsymbol{H}\\boldsymbol{S}^{\\dagger}\\otimes\\boldsymbol{I})\\text{SWAP}\\\\\n",
    "\\boldsymbol{X}\\otimes\\boldsymbol{Z}\\hspace{1cm} & \\boldsymbol{U}=CX_{10}(\\boldsymbol{H}\\otimes\\boldsymbol{I})\\\\\n",
    "\\boldsymbol{Y}\\otimes\\boldsymbol{Z}\\hspace{1cm} & \\boldsymbol{U}=CX_{10}(\\boldsymbol{H}\\boldsymbol{S}^{\\dagger}\\otimes\\boldsymbol{I})\\\\\n",
    "\\boldsymbol{Z}\\otimes\\boldsymbol{Y}\\hspace{1cm} & \\boldsymbol{U}=CX_{10}(\\boldsymbol{I}\\otimes\\boldsymbol{H}\\boldsymbol{S}^{\\dagger})\\\\\n",
    "\\boldsymbol{Y}\\otimes\\boldsymbol{X}\\hspace{1cm} & \\boldsymbol{U}=CX_{10}(\\boldsymbol{H}\\boldsymbol{S}^{\\dagger}\\otimes\\boldsymbol{H})\\\\\n",
    "\\boldsymbol{X}\\otimes\\boldsymbol{Y}\\hspace{1cm} & \\boldsymbol{U}=CX_{10}(\\boldsymbol{H}\\otimes\\boldsymbol{H}\\boldsymbol{S}^{\\dagger})\\\\\n",
    "\\boldsymbol{Y}\\otimes\\boldsymbol{Y}\\hspace{1cm} & \\boldsymbol{U}=CX_{10}(\\boldsymbol{H}\\boldsymbol{S}^{\\dagger}\\otimes\\boldsymbol{H}\\boldsymbol{S}^{\\dagger})\\\\\n",
    "\\end{align*}\n",
    "$$"
   ]
  },
  {
   "cell_type": "markdown",
   "id": "e1cbf4d6",
   "metadata": {
    "editable": true
   },
   "source": [
    "## Additional remarks\n",
    "\n",
    "Here, the CNOT (CX10) operation appears for the following reason. Each Pauli\n",
    "measurement that does not include the identity matrix is equivalent up to a\n",
    "unitary to $\\boldsymbol{Z}\\otimes\\boldsymbol{Z}$. The eigenvalues $\\boldsymbol{Z}\\otimes\\boldsymbol{Z}$ of only depend on\n",
    "the parity of the qubits that comprise each computational basis\n",
    "vector, and the controlled-not operations serve to compute this parity\n",
    "and store it in the first bit. Then once the first bit is measured,\n",
    "you can recover the identity of the resultant half-space, which is\n",
    "equivalent to measuring the Pauli operator."
   ]
  },
  {
   "cell_type": "markdown",
   "id": "44b219aa",
   "metadata": {
    "editable": true
   },
   "source": [
    "## Reducing space\n",
    "\n",
    "Also, while it can be tempting to assume that measuring $\\boldsymbol{Z}\\otimes\\boldsymbol{Z}$ is the same as\n",
    "sequentially measuring $\\boldsymbol{Z}\\otimes\\boldsymbol{I}$ and then $\\boldsymbol{I}\\otimes\\boldsymbol{Z}$, this assumption would be\n",
    "false. The reason is that measuring $\\boldsymbol{Z}\\otimes\\boldsymbol{Z}$ projects the quantum state into\n",
    "either the $+1$ or $-1$ eigenstate of these operators. Measuring $\\boldsymbol{Z}\\otimes\\boldsymbol{I}$ and then\n",
    "$\\boldsymbol{I}\\otimes\\boldsymbol{Z}$\n",
    "projects the quantum state vector first onto a half space of $\\boldsymbol{Z}\\otimes\\boldsymbol{I}$ and\n",
    "then onto a half space of $\\boldsymbol{I}\\otimes\\boldsymbol{Z}$. As there are four computational basis\n",
    "vectors, performing both measurements reduces the state to a\n",
    "quarter-space and hence reduces it to a single computational basis\n",
    "vector."
   ]
  },
  {
   "cell_type": "markdown",
   "id": "2fd9ed66",
   "metadata": {
    "editable": true
   },
   "source": [
    "## Two-qubit Hamiltonian"
   ]
  },
  {
   "cell_type": "code",
   "execution_count": 13,
   "id": "ee52da7c",
   "metadata": {
    "collapsed": false,
    "editable": true,
    "jupyter": {
     "outputs_hidden": false
    }
   },
   "outputs": [
    {
     "data": {
      "image/png": "[encoded data removed]",
      "text/plain": [
       "<Figure size 800x800 with 1 Axes>"
      ]
     },
     "metadata": {},
     "output_type": "display_data"
    },
    {
     "name": "stdout",
     "output_type": "stream",
     "text": [
      "Lambda = 0.0, Energy = 0.0024999999999999467, Epochs = 10.0, Converged = True, Delta Energy = 0.0\n",
      "Lambda = 0.1, Energy = 0.3056000000000001, Epochs = 29.0, Converged = True, Delta Energy = 0.0\n",
      "Lambda = 0.2, Energy = 0.5565000000000002, Epochs = 991.0, Converged = True, Delta Energy = 0.0\n",
      "Lambda = 0.30000000000000004, Energy = 0.8900999999999999, Epochs = 796.0, Converged = True, Delta Energy = 0.0\n",
      "Lambda = 0.4, Energy = 1.1103, Epochs = 619.0, Converged = True, Delta Energy = 0.0\n",
      "Lambda = 0.5, Energy = 0.7000000000000002, Epochs = 900.0, Converged = True, Delta Energy = 0.0\n",
      "Lambda = 0.6000000000000001, Energy = 0.3453999999999997, Epochs = 256.0, Converged = True, Delta Energy = 0.0\n",
      "Lambda = 0.7000000000000001, Energy = 0.027699999999999836, Epochs = 1614.0, Converged = True, Delta Energy = 0.0\n",
      "Lambda = 0.8, Energy = -0.4524000000000008, Epochs = 2869.0, Converged = True, Delta Energy = 0.0\n",
      "Lambda = 0.9, Energy = -0.8083, Epochs = 1588.0, Converged = True, Delta Energy = 0.0\n",
      "Lambda = 1.0, Energy = -1.2104999999999997, Epochs = 2055.0, Converged = True, Delta Energy = 0.0\n"
     ]
    },
    {
     "name": "stderr",
     "output_type": "stream",
     "text": [
      "100%|███████████████████████████████████████████████████████████████████████████████████████████████████████████████████████████████████████████████████████| 50/50 [00:20<00:00,  2.44it/s]\n"
     ]
    },
    {
     "data": {
      "image/png": "[encoded data removed]",
      "text/plain": [
       "<Figure size 800x800 with 1 Axes>"
      ]
     },
     "metadata": {},
     "output_type": "display_data"
    }
   ],
   "source": [
    "import numpy as np\n",
    "import matplotlib.pyplot as plt\n",
    "import seaborn as sns; sns.set_theme(font_scale=1.5)\n",
    "from tqdm import tqdm\n",
    "sigma_x = np.array([[0, 1], [1, 0]])\n",
    "sigma_z = np.array([[1, 0], [0, -1]])\n",
    "ket0 = np.array([1, 0])\n",
    "ket1 = np.array([0, 1])\n",
    "I = np.eye(2)\n",
    "\n",
    "def Hamiltonian(lmb):    \n",
    "    Hx = 2.0 \n",
    "    Hz = 3.0\n",
    "    H0Energiesnoninteracting = [0.0, 2.5, 6.5, 7.0]\n",
    "    \n",
    "    HI = Hz*np.kron(sigma_z, sigma_z) + Hx*np.kron(sigma_x, sigma_x)\n",
    "    H0 = np.diag(H0Energiesnoninteracting)\n",
    "    H = H0 + lmb*HI\n",
    "    return H\n",
    "\n",
    "\n",
    "def trace_out(state, index):\n",
    "    density = np.outer(state, np.conj(state))\n",
    "    if index == 0:\n",
    "        op0 = np.kron(ket0, I)\n",
    "        op1 = np.kron(ket1, I)\n",
    "    elif index == 1:\n",
    "        op0 = np.kron(I, ket0)\n",
    "        op1 = np.kron(I, ket1)\n",
    "    return op0.conj() @ density @ op0.T + op1.conj() @ density @ op1.T # need to take conj() on first and .T on second since np.arrays are \n",
    "\n",
    "lmbvalues_ana = np.arange(0, 1, 0.01)\n",
    "eigvals_ana = np.zeros((len(lmbvalues_ana), 4))\n",
    "entropy = np.zeros((len(lmbvalues_ana), 4))\n",
    "for index, lmb in enumerate(lmbvalues_ana):\n",
    "    H = Hamiltonian(lmb)\n",
    "    eigen, eigvecs = np.linalg.eig(H)\n",
    "    permute = eigen.argsort()\n",
    "    eigvals_ana[index] = eigen[permute]\n",
    "    eigvecs = eigvecs[:,permute]\n",
    "    for i in range(4):\n",
    "        sub_density = trace_out(eigvecs[:, i], 0) # trace out qubit 0 from the ground state\n",
    "        lmb_density = np.linalg.eigvalsh(sub_density)\n",
    "        lmb_density = np.ma.masked_equal(lmb_density, 0).compressed() # remove zeros to avoid log(0)\n",
    "        entropy[index, i] = -np.sum(lmb_density*np.log2(lmb_density))\n",
    "fig, axs = plt.subplots(1, 1, figsize=(8, 8))\n",
    "for i in range(4):\n",
    "    axs.plot(lmbvalues_ana, eigvals_ana[:, i], label=f'$E_{i}$')\n",
    "axs.set_xlabel(r'$\\lambda$')\n",
    "axs.set_ylabel('Energy')\n",
    "axs.legend()\n",
    "plt.show()\n",
    "\n",
    "\"\"\"\n",
    "fig, axs = plt.subplots(1, 1, figsize=(8, 8))\n",
    "for i in range(1):\n",
    "    axs.plot(lmbvalues_ana, entropy[:, i], label=f'$H_{i}$')\n",
    "axs.set_xlabel(r'$\\lambda$')\n",
    "axs.set_ylabel('Entropy')\n",
    "axs.legend()\n",
    "plt.show()\n",
    "\"\"\"\n",
    "\n",
    "from qc import *\n",
    "\n",
    "def prepare_state(theta0, phi0, theta1, phi1, target = None):\n",
    "    qubit = Two_qubit()\n",
    "    qubit.set_state([1, 0, 0, 0])\n",
    "    qubit.rotate_x(theta0, 0)\n",
    "    qubit.rotate_y(phi0, 0)\n",
    "    qubit.rotate_x(theta1, 1)\n",
    "    qubit.rotate_y(phi1, 1)\n",
    "    qubit.apply_cnot01() # entangle the two qubits\n",
    "    if target is not None:\n",
    "        qubit.state = target\n",
    "    return qubit.state\n",
    "\n",
    "def get_energy(angles, lmb, number_shots, target = None):\n",
    "    theta0, phi0, theta1, phi1 = angles\n",
    "    Hx = 2.0 \n",
    "    Hz = 3.0\n",
    "    eps00, eps01, eps10, eps11 = np.array([0.0, 2.5, 6.5, 7.0])\n",
    "    A = (eps00 + eps01 + eps10 + eps11) / 4.0\n",
    "    B = (eps00 - eps01 + eps10 - eps11) / 4.0\n",
    "    C = (eps00 + eps01 - eps10 - eps11) / 4.0\n",
    "    D = (eps00 - eps01 - eps10 + eps11) / 4.0\n",
    "    \n",
    "    init_state = prepare_state(theta0, phi0, theta1, phi1, target)\n",
    "    qubit = Two_qubit()\n",
    "\n",
    "    ZI = np.kron(qubit.Z, qubit.I)\n",
    "\n",
    "    qubit.set_state(init_state)\n",
    "    qubit.apply_swap() # rotate measurement basis\n",
    "    measure_iz = qubit.measure(number_shots)\n",
    "\n",
    "    qubit.set_state(init_state)\n",
    "    measure_zi = qubit.measure(number_shots)\n",
    "    \n",
    "    qubit.set_state(init_state)\n",
    "    qubit.apply_cnot10() # rotate measurement basis\n",
    "    measure_zz = qubit.measure(number_shots)\n",
    "    \n",
    "    qubit.set_state(init_state)\n",
    "    qubit.apply_hadamard(0)\n",
    "    qubit.apply_hadamard(1)\n",
    "    qubit.apply_cnot10() # rotate measurement basis\n",
    "    measure_xx = qubit.measure(number_shots)\n",
    "    \n",
    "    # expected value of ZI = (#00 + #01 - #10 - #11)/ number of shots\n",
    "    exp_vals = np.zeros(4) # do not include the expectation value of II\n",
    "    measures = np.array([measure_iz, measure_zi, measure_zz, measure_xx])\n",
    "    constants = np.array([B, C, D + lmb*Hz, lmb*Hx])\n",
    "    for index in range(len(exp_vals)):\n",
    "        counts = [len(np.where(measures[index] == i)[0]) for i in range(4)]\n",
    "        exp_vals[index] = counts[0] + counts[1] - counts[2] - counts[3]\n",
    "\n",
    "    exp_val = A + np.sum(constants * exp_vals) / number_shots\n",
    "    return exp_val\n",
    "\n",
    "def minimize_energy(lmb, number_shots, angles_0, learning_rate, max_epochs):\n",
    "    angles = angles_0 \n",
    "    epoch = 0\n",
    "    delta_energy = 1\n",
    "    energy = get_energy(angles, lmb, number_shots)\n",
    "    while (epoch < max_epochs) and (delta_energy > 1e-5):\n",
    "        grad = np.zeros_like(angles)\n",
    "        for idx in range(angles.shape[0]):\n",
    "            angles_temp = angles.copy()\n",
    "            angles_temp[idx] += np.pi/2 \n",
    "            E_plus = get_energy(angles_temp, lmb, number_shots)\n",
    "            angles_temp[idx] -= np.pi \n",
    "            E_minus = get_energy(angles_temp, lmb, number_shots)\n",
    "            grad[idx] = (E_plus - E_minus)/2\n",
    "        angles -= learning_rate*grad \n",
    "        new_energy = get_energy(angles, lmb, number_shots)\n",
    "        delta_energy = np.abs(new_energy - energy)\n",
    "        energy = new_energy\n",
    "        epoch += 1\n",
    "    return angles, epoch, (epoch < max_epochs), energy, delta_energy\n",
    "\n",
    "number_shots_search = 1000\n",
    "learning_rate = 0.3\n",
    "max_epochs = 5000\n",
    "lmbvalues = np.linspace(0.0, 1.0, 11)\n",
    "min_energy = np.zeros(len(lmbvalues))\n",
    "epochs = np.zeros(len(lmbvalues))\n",
    "for index, lmb in enumerate((lmbvalues)):\n",
    "    angles0 = np.random.uniform(low = 0, high = np.pi, size = 4)\n",
    "    angles, epochs[index], converged, min_energy[index], delta_energy = minimize_energy(lmb, number_shots_search, angles0, learning_rate, max_epochs)\n",
    "    print(f'Lambda = {lmb}, Energy = {min_energy[index]}, Epochs = {epochs[index]}, Converged = {converged}, Delta Energy = {delta_energy}')\n",
    "\n",
    "\n",
    "from scipy.optimize import minimize\n",
    "number_shots = 10_000\n",
    "lmbvalues = np.linspace(0.0, 1.0, 50)\n",
    "min_energy_scipy = np.zeros(len(lmbvalues))\n",
    "for index, lmb in enumerate(tqdm(lmbvalues)):\n",
    "    angles_start = np.random.uniform(low = 0, high = np.pi, size = 4)\n",
    "    res = minimize(get_energy, angles_start, args = (lmb, number_shots), method = 'Powell', options = {'maxiter': 1000}, tol = 1e-5)\n",
    "    min_energy_scipy[index] = res.fun\n",
    "\n",
    "fig, axs = plt.subplots(1, 1, figsize=(8, 8))\n",
    "for i in range(4):\n",
    "    axs.plot(lmbvalues_ana, eigvals_ana[:, i], label=f'$E_{i}$')\n",
    "axs.set_xlabel(r'$\\lambda$')\n",
    "# axs.scatter(lmbvalues, min_energy, label='VQE Energy GD', marker='o')\n",
    "axs.scatter(lmbvalues, min_energy_scipy, label='VQE Energy Scipy', marker='o')\n",
    "axs.set_ylabel('Energy')\n",
    "axs.legend()\n",
    "plt.show()"
   ]
  },
  {
   "cell_type": "markdown",
   "id": "7ab9a0e8",
   "metadata": {
    "editable": true
   },
   "source": [
    "## Similar codesusing Qiskit, the $4\\times 4$ case with a random Hamiltonian\n",
    "\n",
    "Here we use  a random $4\\times 4$ hermitian matrix as the Hamiltonian and map this matrix to a two-qubit\n",
    "operator. We implement the VQE using a  two-cocal ansats, the statevector simulator together with a  classical optimizer (COBYLA)."
   ]
  },
  {
   "cell_type": "code",
   "execution_count": 14,
   "id": "ce42d50b",
   "metadata": {
    "collapsed": false,
    "editable": true,
    "jupyter": {
     "outputs_hidden": false
    }
   },
   "outputs": [],
   "source": [
    "import numpy as np\n",
    "from qiskit import Aer\n",
    "from qiskit.opflow import MatrixOp\n",
    "from qiskit.circuit.library import TwoLocal\n",
    "from qiskit.algorithms import VQE\n",
    "from qiskit.algorithms.optimizers import COBYLA\n",
    "from qiskit.utils import QuantumInstance\n",
    "\n",
    "# Set random seed for reproducibility\n",
    "np.random.seed(42)\n",
    "\n",
    "# Step 1: Generate a random 4x4 Hermitian matrix\n",
    "A = np.random.randn(4, 4) + 1j * np.random.randn(4, 4)\n",
    "H_np = (A + A.conj().T) / 2  # Hermitian\n",
    "\n",
    "# Step 2: Wrap it as a Qiskit MatrixOp (2 qubits)\n",
    "hamiltonian = MatrixOp(H_np)\n",
    "\n",
    "# Step 3: Define a 2-qubit variational ansatz\n",
    "ansatz = TwoLocal(num_qubits=2, rotation_blocks=['ry', 'rz'],\n",
    "                  entanglement_blocks='cz', reps=1)\n",
    "\n",
    "# Step 4: Set up the VQE algorithm\n",
    "optimizer = COBYLA(maxiter=200)\n",
    "backend = Aer.get_backend('aer_simulator_statevector')\n",
    "vqe = VQE(ansatz=ansatz,\n",
    "          optimizer=optimizer,\n",
    "          quantum_instance=QuantumInstance(backend))\n",
    "\n",
    "# Step 5: Run VQE\n",
    "result = vqe.compute_minimum_eigenvalue(operator=hamiltonian)\n",
    "vqe_energy = np.real(result.eigenvalue)\n",
    "\n",
    "# Step 6: Compute exact eigenvalues for comparison\n",
    "true_eigenvalues = np.linalg.eigvalsh(H_np)\n",
    "exact_ground_energy = np.min(true_eigenvalues)\n",
    "\n",
    "# Step 7: Print results\n",
    "print(\"\\n=== VQE Result ===\")\n",
    "print(f\"VQE estimated ground state energy: {vqe_energy:.6f}\")\n",
    "print(f\"Exact ground state energy        : {exact_ground_energy:.6f}\")\n",
    "print(\"Full spectrum:\", np.round(true_eigenvalues, 6))"
   ]
  },
  {
   "cell_type": "markdown",
   "id": "ffcb213e",
   "metadata": {
    "editable": true
   },
   "source": [
    "## And a three-qubit case\n",
    "\n",
    "Here we have a random $8\\times 8$ hermitian matrix (for three  qubits) and decompose it into Pauli terms."
   ]
  },
  {
   "cell_type": "code",
   "execution_count": 15,
   "id": "83a4c400",
   "metadata": {
    "collapsed": false,
    "editable": true,
    "jupyter": {
     "outputs_hidden": false
    }
   },
   "outputs": [],
   "source": [
    "import numpy as np\n",
    "import matplotlib.pyplot as plt\n",
    "from qiskit import Aer\n",
    "from qiskit.opflow import PauliSumOp, MatrixOp\n",
    "from qiskit.quantum_info import Operator\n",
    "from qiskit.circuit.library import TwoLocal\n",
    "from qiskit.algorithms import VQE\n",
    "from qiskit.algorithms.optimizers import COBYLA\n",
    "from qiskit.utils import QuantumInstance, algorithm_globals\n",
    "\n",
    "# --- Parameters ---\n",
    "n_qubits = 3\n",
    "dim = 2**n_qubits\n",
    "np.random.seed(42)\n",
    "algorithm_globals.random_seed = 42\n",
    "\n",
    "# --- Generate a random Hermitian matrix ---\n",
    "A = np.random.randn(dim, dim) + 1j * np.random.randn(dim, dim)\n",
    "H_np = (A + A.conj().T) / 2\n",
    "\n",
    "# --- Convert to Pauli decomposition ---\n",
    "H_op = MatrixOp(H_np)\n",
    "H_pauli = PauliSumOp.from_operator(Operator(H_op))\n",
    "\n",
    "# --- Exact eigenvalues for comparison ---\n",
    "eigvals = np.linalg.eigvalsh(H_np)\n",
    "exact_energy = np.min(eigvals)\n",
    "\n",
    "# --- Ansatz circuit ---\n",
    "ansatz = TwoLocal(n_qubits, rotation_blocks=['ry', 'rz'],\n",
    "                  entanglement_blocks='cz', entanglement='full', reps=2)\n",
    "print(\"\\nAnsatz circuit:\")\n",
    "print(ansatz.decompose().draw())\n",
    "\n",
    "# --- Track convergence ---\n",
    "energy_log = []\n",
    "\n",
    "def store_intermediate_result(eval_count, params, energy, stddev):\n",
    "    energy_log.append(energy)\n",
    "\n",
    "# --- Optimizer and simulator ---\n",
    "optimizer = COBYLA(maxiter=200)\n",
    "backend = Aer.get_backend('aer_simulator_statevector')\n",
    "quantum_instance = QuantumInstance(backend)\n",
    "\n",
    "# --- Run VQE ---\n",
    "vqe = VQE(ansatz=ansatz,\n",
    "          optimizer=optimizer,\n",
    "          quantum_instance=quantum_instance,\n",
    "          callback=store_intermediate_result)\n",
    "\n",
    "result = vqe.compute_minimum_eigenvalue(operator=H_pauli)\n",
    "vqe_energy = np.real(result.eigenvalue)\n",
    "\n",
    "# --- Output results ---\n",
    "print(\"\\n=== Results ===\")\n",
    "print(f\"Exact ground energy: {exact_energy:.6f}\")\n",
    "print(f\"VQE estimated ground energy: {vqe_energy:.6f}\")\n",
    "print(\"Full spectrum:\", np.round(eigvals, 6))\n",
    "\n",
    "# --- Plot convergence ---\n",
    "plt.figure(figsize=(6,4))\n",
    "plt.plot(energy_log, marker='o')\n",
    "plt.xlabel(\"VQE iteration\")\n",
    "plt.ylabel(\"Energy estimate\")\n",
    "plt.title(\"VQE Convergence on Random 8×8 Hermitian Hamiltonian\")\n",
    "plt.grid(True)\n",
    "plt.tight_layout()\n",
    "plt.show()"
   ]
  },
  {
   "cell_type": "markdown",
   "id": "938f8f6a",
   "metadata": {
    "editable": true
   },
   "source": [
    "The  Pauli decomposition is done by using the function _PauliSumOp.from$\\_$operator()_, which\n",
    "converts the dense matrix to a sum of Pauli strings."
   ]
  },
  {
   "cell_type": "markdown",
   "id": "02eb59a8",
   "metadata": {
    "editable": true
   },
   "source": [
    "## A more interesting case, the hydrogen molecule"
   ]
  },
  {
   "cell_type": "code",
   "execution_count": 16,
   "id": "81f35906",
   "metadata": {
    "collapsed": false,
    "editable": true,
    "jupyter": {
     "outputs_hidden": false
    }
   },
   "outputs": [],
   "source": [
    "import numpy as np\n",
    "import matplotlib.pyplot as plt\n",
    "\n",
    "# Qiskit and Qiskit Nature imports\n",
    "from qiskit import Aer\n",
    "from qiskit.algorithms import VQE\n",
    "from qiskit.algorithms.optimizers import L_BFGS_B\n",
    "from qiskit.circuit.library import TwoLocal\n",
    "from qiskit_nature.drivers import UnitsType, PySCFDriver\n",
    "from qiskit_nature.problems.second_quantization.electronic import ElectronicStructureProblem\n",
    "from qiskit_nature.mappers.second_quantization import ParityMapper\n",
    "from qiskit_nature.converters.second_quantization import QubitConverter\n",
    "from qiskit_nature.circuit.library import HartreeFock\n",
    "\n",
    "# Define the range of H-H distances (in Angstrom)\n",
    "bond_distances = np.arange(0.5, 2.6, 0.1)  # 0.5 Å to 2.5 Å in 0.1 Å increments\n",
    "energies = []  # to store ground state energy for each distance\n",
    "\n",
    "# Loop over distances and compute ground-state energy via VQE\n",
    "for dist in bond_distances:\n",
    "    # 1. Define H2 molecule at the given bond distance\n",
    "    molecule = f\"H 0 0 0; H 0 0 {dist}\"  # two H atoms on z-axis separated by 'dist'\n",
    "    driver = PySCFDriver(atom=molecule, unit=UnitsType.ANGSTROM, basis=\"sto3g\", charge=0, spin=0)\n",
    "    problem = ElectronicStructureProblem(driver)\n",
    "\n",
    "    # 2. Build second-quantized Hamiltonian\n",
    "    second_q_ops = problem.second_q_ops()\n",
    "    main_op = second_q_ops[\"ElectronicEnergy\"]  # electronic Hamiltonian (no nuclear repulsion added yet)\n",
    "\n",
    "   # 3. Prepare qubit mapping (Parity) with two-qubit reduction for spin symmetry\n",
    "    particle_number = problem.grouped_property_transformed.get_property(\"ParticleNumber\")\n",
    "    num_particles = (particle_number.num_alpha, particle_number.num_beta)\n",
    "    num_spin_orbitals = particle_number.num_spin_orbitals\n",
    "    mapper = ParityMapper()\n",
    "    converter = QubitConverter(mapper=mapper, two_qubit_reduction=True)\n",
    "    qubit_op = converter.convert(main_op, num_particles=num_particles)\n",
    "\n",
    "    # 4. Setup the VQE algorithm (ansatz, initial state, optimizer, backend)\n",
    "    # Hartree-Fock initial state\n",
    "    init_state = HartreeFock(num_spin_orbitals, num_particles, converter)\n",
    "    # TwoLocal ansatz with RY and RZ rotations and CZ entanglement, with HF initial state\n",
    "    ansatz = TwoLocal(qubit_op.num_qubits, rotation_blocks=['ry', 'rz'], entanglement_blocks='cz')\n",
    "    ansatz = ansatz.compose(init_state, front=True)  # prepend HF state\n",
    "\n",
    "\n",
    "    optimizer = L_BFGS_B()  # optimizer for classical parameter updates\n",
    "    backend = Aer.get_backend('aer_simulator_statevector')  # statevector simulator backend\n",
    "    vqe = VQE(ansatz, optimizer=optimizer, quantum_instance=backend)\n",
    "\n",
    "    # 5. Run VQE to obtain the minimum eigenvalue (ground state energy)\n",
    "    result = vqe.compute_minimum_eigenvalue(qubit_op)\n",
    "    # Add the nuclear repulsion energy to get total molecular energy\n",
    "    electronic_result = problem.interpret(result)\n",
    "    energy_hartree = electronic_result.total_energies[0]  # ground state energy in Hartree\n",
    "    energies.append(energy_hartree)\n",
    "    print(f\"Distance = {dist:.2f} Å, Ground state energy = {energy_hartree:.6f} Hartree\")\n",
    "\n",
    "# 6. Plot the ground state energy as a function of bond length\n",
    "plt.figure(figsize=(6,4))\n",
    "plt.plot(bond_distances, energies, marker='o', color='orange', label='Ground State Energy')\n",
    "plt.xlabel('H-H Bond Length (Å)')\n",
    "plt.ylabel('Energy (Hartree)')\n",
    "plt.title('H$_2$ Ground State Energy vs Bond Length (STO-3G)')\n",
    "plt.legend()\n",
    "plt.grid(True)\n",
    "plt.show()"
   ]
  },
  {
   "cell_type": "markdown",
   "id": "da180c68",
   "metadata": {
    "editable": true
   },
   "source": [
    "## Lipkin model\n",
    "\n",
    "We will study a schematic model (the Lipkin model, see Nuclear\n",
    "Physics **62** (1965) 188), for the interaction among  $2$ and more \n",
    "fermions that can occupy two different energy levels.\n",
    "\n",
    "In one of our project proposals we will consider a two-fermion case and a four-fermion case.\n",
    "\n",
    "For four fermions, the case we consider in the examples  here, each levels has\n",
    "degeneration $d=4$, leading to different total spin values.  The two\n",
    "levels have quantum numbers $\\sigma=\\pm 1$, with the upper level\n",
    "having $2\\sigma=+1$ and energy $\\varepsilon_{1}= \\varepsilon/2$. The\n",
    "lower level has $2\\sigma=-1$ and energy\n",
    "$\\varepsilon_{2}=-\\varepsilon/2$. That is, the lowest single-particle\n",
    "level has negative spin projection (or spin down), while the upper\n",
    "level has spin up.  In addition, the substates of each level are\n",
    "characterized by the quantum numbers $p=1,2,3,4$."
   ]
  },
  {
   "cell_type": "markdown",
   "id": "5b34d455",
   "metadata": {
    "editable": true
   },
   "source": [
    "## Four fermion case\n",
    "\n",
    "We define the single-particle states (for the four fermion case which we will work on here)"
   ]
  },
  {
   "cell_type": "markdown",
   "id": "0486d854",
   "metadata": {
    "editable": true
   },
   "source": [
    "$$\n",
    "\\vert u_{\\sigma =-1,p}\\rangle=a_{-p}^{\\dagger}\\vert 0\\rangle\n",
    "\\hspace{1cm}\n",
    "\\vert u_{\\sigma =1,p}\\rangle=a_{+p}^{\\dagger}\\vert 0\\rangle.\n",
    "$$"
   ]
  },
  {
   "cell_type": "markdown",
   "id": "f2f799c7",
   "metadata": {
    "editable": true
   },
   "source": [
    "The single-particle states span an orthonormal basis."
   ]
  },
  {
   "cell_type": "markdown",
   "id": "cbfd31b0",
   "metadata": {
    "editable": true
   },
   "source": [
    "## Hamiltonian\n",
    "\n",
    "The Hamiltonian of the system is given by"
   ]
  },
  {
   "cell_type": "markdown",
   "id": "203af530",
   "metadata": {
    "editable": true
   },
   "source": [
    "$$\n",
    "\\begin{array}{ll}\n",
    "\\hat{H}=&\\hat{H}_{0}+\\hat{H}_{1}+\\hat{H}_{2}\\\\\n",
    "&\\\\\n",
    "\\hat{H}_{0}=&\\frac{1}{2}\\varepsilon\\sum_{\\sigma ,p}\\sigma\n",
    "a_{\\sigma,p}^{\\dagger}a_{\\sigma ,p}\\\\\n",
    "&\\\\\n",
    "\\hat{H}_{1}=&\\frac{1}{2}V\\sum_{\\sigma ,p,p'}\n",
    "a_{\\sigma,p}^{\\dagger}a_{\\sigma ,p'}^{\\dagger}\n",
    "a_{-\\sigma ,p'}a_{-\\sigma ,p}\\\\\n",
    "&\\\\\n",
    "\\hat{H}_{2}=&\\frac{1}{2}W\\sum_{\\sigma ,p,p'}\n",
    "a_{\\sigma,p}^{\\dagger}a_{-\\sigma ,p'}^{\\dagger}\n",
    "a_{\\sigma ,p'}a_{-\\sigma ,p}\\\\\n",
    "&\\\\\n",
    "\\end{array}\n",
    "$$"
   ]
  },
  {
   "cell_type": "markdown",
   "id": "69a0225e",
   "metadata": {
    "editable": true
   },
   "source": [
    "where $V$ and $W$ are constants. The operator \n",
    "$H_{1}$ can move pairs of fermions\n",
    "while $H_{2}$ is a spin-exchange term. The latter\n",
    "moves a pair of fermions from a state $(p\\sigma ,p' -\\sigma)$ to a state\n",
    "$(p-\\sigma ,p'\\sigma)$."
   ]
  },
  {
   "cell_type": "markdown",
   "id": "5e828709",
   "metadata": {
    "editable": true
   },
   "source": [
    "## Quasispin operators\n",
    "\n",
    "We are going to rewrite the above Hamiltonian in terms of so-called  quasispin operators"
   ]
  },
  {
   "cell_type": "markdown",
   "id": "e19cb5b9",
   "metadata": {
    "editable": true
   },
   "source": [
    "$$\n",
    "\\begin{array}{ll}\n",
    "\\hat{J}_{+}=&\\sum_{p}\n",
    "a_{p+}^{\\dagger}a_{p-}\\\\\n",
    "&\\\\\n",
    "\\hat{J}_{-}=&\\sum_{p}\n",
    "a_{p-}^{\\dagger}a_{p+}\\\\\n",
    "&\\\\\n",
    "\\hat{J}_{z}=&\\frac{1}{2}\\sum_{p\\sigma}\\sigma\n",
    "a_{p\\sigma}^{\\dagger}a_{p\\sigma}\\\\\n",
    "&\\\\\n",
    "\\hat{J}^{2}=&J_{+}J_{-}+J_{z}^{2}-J_{z}\\\\\n",
    "&\\\\\n",
    "\\end{array}\n",
    "$$"
   ]
  },
  {
   "cell_type": "markdown",
   "id": "7a99595f",
   "metadata": {
    "editable": true
   },
   "source": [
    "We show here that these operators obey the commutation relations for angular momentum."
   ]
  },
  {
   "cell_type": "markdown",
   "id": "997c79b7",
   "metadata": {
    "editable": true
   },
   "source": [
    "## Including the number operator\n",
    "\n",
    "We can in turn express $\\hat{H}$ in terms of the above quasispin operators and the number operator"
   ]
  },
  {
   "cell_type": "markdown",
   "id": "e09e84e0",
   "metadata": {
    "editable": true
   },
   "source": [
    "$$\n",
    "\\hat{N}=\\sum_{p\\sigma}\n",
    "a_{p\\sigma}^{\\dagger}a_{p\\sigma}.\n",
    "$$"
   ]
  },
  {
   "cell_type": "markdown",
   "id": "243536e9",
   "metadata": {
    "editable": true
   },
   "source": [
    "We have the following quasispin operators"
   ]
  },
  {
   "cell_type": "markdown",
   "id": "5f1a917a",
   "metadata": {
    "editable": true
   },
   "source": [
    "<!-- Equation labels as ordinary links -->\n",
    "<div id=\"eq:Jpm\"></div>\n",
    "\n",
    "$$\n",
    "\\begin{equation}\n",
    "J_{\\pm} = \\sum_p a_{p\\pm}^\\dagger a_{p\\mp},\n",
    "\\label{eq:Jpm} \\tag{3} \n",
    "\\end{equation}\n",
    "$$"
   ]
  },
  {
   "cell_type": "markdown",
   "id": "676d2985",
   "metadata": {
    "editable": true
   },
   "source": [
    "<!-- Equation labels as ordinary links -->\n",
    "<div id=\"eq:Jz\"></div>\n",
    "\n",
    "$$\n",
    "\\begin{equation} \n",
    "J_{z} = \\frac{1}{2}\\sum_{p,\\sigma} \\sigma a_{p\\sigma}^\\dagger a_{p\\sigma},\n",
    "\\label{eq:Jz} \\tag{4} \n",
    "\\end{equation}\n",
    "$$"
   ]
  },
  {
   "cell_type": "markdown",
   "id": "50ed38bb",
   "metadata": {
    "editable": true
   },
   "source": [
    "<!-- Equation labels as ordinary links -->\n",
    "<div id=\"eq:J2\"></div>\n",
    "\n",
    "$$\n",
    "\\begin{equation} \n",
    "J^{2} = J_+ J_- + J_z^2 - J_z,\n",
    "\\label{eq:J2} \\tag{5}\n",
    "\\end{equation}\n",
    "$$"
   ]
  },
  {
   "cell_type": "markdown",
   "id": "f5ebd7d6",
   "metadata": {
    "editable": true
   },
   "source": [
    "and we want to compute the commutators"
   ]
  },
  {
   "cell_type": "markdown",
   "id": "3d751c41",
   "metadata": {
    "editable": true
   },
   "source": [
    "$$\n",
    "[J_z,J_\\pm], \\quad [J_+,J_-], \\quad [J^2,J_\\pm] \\quad \\text{og} \\quad \n",
    "[J^2,J_z].\n",
    "$$"
   ]
  },
  {
   "cell_type": "markdown",
   "id": "3dcc82e2",
   "metadata": {
    "editable": true
   },
   "source": [
    "## Angular momentum magics I\n",
    "Let us start with the first one and inserting for  $J_z$ and $J_\\pm$ given by the equations ([4](#eq:Jz)) and ([3](#eq:Jpm)), respectively, we obtain"
   ]
  },
  {
   "cell_type": "markdown",
   "id": "12b67c23",
   "metadata": {
    "editable": true
   },
   "source": [
    "$$\n",
    "\\begin{align*}\n",
    "[J_z,J_\\pm] &= J_z J_\\pm - J_\\pm J_z \\\\\n",
    "%\n",
    "&= \\left( \\frac{1}{2}\\sum_{p,\\sigma} \\sigma a_{p\\sigma}^\\dagger a_{p\\sigma} \\right)\n",
    "\\left( \\sum_{p'} a_{p'\\pm}^\\dagger a_{p'\\mp} \\right) -\n",
    "\\left( \\sum_{p'} a_{p'\\pm}^\\dagger a_{p'\\mp} \\right)\n",
    "\\left( \\frac{1}{2}\\sum_{p,\\sigma} \\sigma a_{p\\sigma}^\\dagger a_{p\\sigma} \\right) \\\\\n",
    "&= \\frac{1}{2} \\sum_{p,p',\\sigma} \\sigma \\left( a_{p\\sigma}^\\dagger a_{p\\sigma} a_{p'\\pm}^\\dagger a_{p'\\mp} - a_{p'\\pm}^\\dagger a_{p'\\mp} a_{p\\sigma}^\\dagger a_{p\\sigma} \\right).\n",
    "\\end{align*}\n",
    "$$"
   ]
  },
  {
   "cell_type": "markdown",
   "id": "097773d0",
   "metadata": {
    "editable": true
   },
   "source": [
    "## Angular momentum magics II\n",
    "\n",
    "Using the commutation relations for the creation and annihilation operators"
   ]
  },
  {
   "cell_type": "markdown",
   "id": "71d3f321",
   "metadata": {
    "editable": true
   },
   "source": [
    "<!-- Equation labels as ordinary links -->\n",
    "<div id=\"eq:al,ak\"></div>\n",
    "\n",
    "$$\n",
    "\\begin{equation}\n",
    "\\{ a_l,a_k \\} = 0, \\label{eq:al,ak} \\tag{6} \n",
    "\\end{equation}\n",
    "$$"
   ]
  },
  {
   "cell_type": "markdown",
   "id": "c3a70175",
   "metadata": {
    "editable": true
   },
   "source": [
    "<!-- Equation labels as ordinary links -->\n",
    "<div id=\"eq:ald,akd\"></div>\n",
    "\n",
    "$$\n",
    "\\begin{equation} \n",
    "\\{ a_l^\\dagger , a_k^\\dagger \\} = 0, \\label{eq:ald,akd} \\tag{7} \n",
    "\\end{equation}\n",
    "$$"
   ]
  },
  {
   "cell_type": "markdown",
   "id": "17516f42",
   "metadata": {
    "editable": true
   },
   "source": [
    "<!-- Equation labels as ordinary links -->\n",
    "<div id=\"eq:ald,ak\"></div>\n",
    "\n",
    "$$\n",
    "\\begin{equation} \n",
    "\\{ a_l^\\dagger , a_k \\} = \\delta_{lk}, \\label{eq:ald,ak} \\tag{8}\n",
    "\\end{equation}\n",
    "$$"
   ]
  },
  {
   "cell_type": "markdown",
   "id": "d4b6e20d",
   "metadata": {
    "editable": true
   },
   "source": [
    "in order to move the operators in the right product to be in the same order as those in the lefthand product"
   ]
  },
  {
   "cell_type": "markdown",
   "id": "858c83df",
   "metadata": {
    "editable": true
   },
   "source": [
    "$$\n",
    "\\begin{align*}\n",
    "[J_z,J_\\pm] &= \\frac{1}{2} \\sum_{p,p',\\sigma} \\sigma \\left(\n",
    "a_{p\\sigma}^\\dagger a_{p\\sigma} a_{p'\\pm}^\\dagger a_{p'\\mp} -\n",
    "a_{p'\\pm}^\\dagger \\left( \\delta_{p' p} \\delta_{\\mp \\sigma} - a_{p\\sigma}^\\dagger a_{p'\\mp} \\right) a_{p\\sigma} \\right) \\\\\n",
    "&= \\frac{1}{2} \\sum_{p,p',\\sigma} \\sigma \\left(\n",
    "a_{p\\sigma}^\\dagger a_{p\\sigma} a_{p'\\pm}^\\dagger a_{p'\\mp} -\n",
    "a_{p'\\pm}^\\dagger \\delta_{p' p} \\delta_{\\mp \\sigma} a_{p\\sigma} +\n",
    "a_{p'\\pm}^\\dagger a_{p\\sigma}^\\dagger a_{p'\\mp} a_{p\\sigma} \\right). \\\\\n",
    "\\end{align*}\n",
    "$$"
   ]
  },
  {
   "cell_type": "markdown",
   "id": "60c54d96",
   "metadata": {
    "editable": true
   },
   "source": [
    "## Angular momentum magics III\n",
    "It  results in"
   ]
  },
  {
   "cell_type": "markdown",
   "id": "b69aa986",
   "metadata": {
    "editable": true
   },
   "source": [
    "$$\n",
    "\\begin{align*}\n",
    "[J_z,J_\\pm]\n",
    "&= \\frac{1}{2} \\sum_{p,p',\\sigma} \\sigma \\left(\n",
    "a_{p\\sigma}^\\dagger a_{p\\sigma} a_{p'\\pm}^\\dagger a_{p'\\mp} -\n",
    "a_{p'\\pm}^\\dagger \\delta_{pp'} \\delta_{\\mp \\sigma} a_{p\\sigma} +\n",
    "a_{p\\sigma}^\\dagger a_{p'\\pm}^\\dagger a_{p\\sigma} a_{p'\\mp} \\right) \\\\\n",
    "&= \\frac{1}{2} \\sum_{p,p',\\sigma} \\sigma \\left(\n",
    "a_{p\\sigma}^\\dagger a_{p\\sigma} a_{p'\\pm}^\\dagger a_{p'\\mp} -\n",
    "a_{p'\\pm}^\\dagger \\delta_{pp'} \\delta_{\\mp \\sigma} a_{p\\sigma} +\n",
    "a_{p\\sigma}^\\dagger \\left( \\delta_{pp'} \\delta_{\\pm \\sigma} - a_{p\\sigma} a_{p'\\pm}^\\dagger \\right) a_{p'\\mp} \\right) \\\\\n",
    "&= \\frac{1}{2} \\sum_{p,p',\\sigma} \\sigma \\left(\n",
    "a_{p\\sigma}^\\dagger \\delta_{pp'} \\delta_{\\pm \\sigma} a_{p'\\mp} -\n",
    "a_{p'\\pm}^\\dagger \\delta_{pp'} \\delta_{\\mp \\sigma} a_{p\\sigma} \\right). \\\\\n",
    "\\end{align*}\n",
    "$$"
   ]
  },
  {
   "cell_type": "markdown",
   "id": "eb029a1e",
   "metadata": {
    "editable": true
   },
   "source": [
    "## Angular momentum magics IV\n",
    "\n",
    "The last equality leads to"
   ]
  },
  {
   "cell_type": "markdown",
   "id": "26d40a72",
   "metadata": {
    "editable": true
   },
   "source": [
    "$$\n",
    "\\begin{align*}\n",
    "[J_z,J_\\pm] &= \\frac{1}{2} \\sum_p \\left(\n",
    "(\\pm 1) a_{p\\pm}^\\dagger a_{p\\mp} - (\\mp 1)\n",
    "a_{p\\pm}^\\dagger a_{p\\mp} \\right) =\n",
    "\\pm \\frac{1}{2} \\sum_p \\left(\n",
    "a_{p\\pm}^\\dagger a_{p\\mp} + (\\pm 1)\n",
    "a_{p\\pm}^\\dagger a_{p\\mp} \\right) \\\\\n",
    "&= \\pm \\sum_p a_{p\\pm}^\\dagger a_{p\\mp} = \\pm J_\\pm,\n",
    "\\end{align*}\n",
    "$$"
   ]
  },
  {
   "cell_type": "markdown",
   "id": "8375413f",
   "metadata": {
    "editable": true
   },
   "source": [
    "where the last results follows from comparing with Eq. ([3](#eq:Jpm))."
   ]
  },
  {
   "cell_type": "markdown",
   "id": "6c4234ad",
   "metadata": {
    "editable": true
   },
   "source": [
    "## Angular momentum magics V\n",
    "\n",
    "We can then continue with the next commutation relation, using Eq. ([3](#eq:Jpm)),"
   ]
  },
  {
   "cell_type": "markdown",
   "id": "c30fae2d",
   "metadata": {
    "editable": true
   },
   "source": [
    "$$\n",
    "\\begin{align*}\n",
    "[J_+,J_-] &= J_+ J_- - J_- J_+ \\\\\n",
    "&= \\left( \\sum_p a_{p'+}^\\dagger a_{p-} \\right)\n",
    "\\left( \\sum_{p'} a_{p'-}^\\dagger a_{p'+} \\right) -\n",
    "\\left( \\sum_{p'} a_{p'-}^\\dagger a_{p'+} \\right)\n",
    "\\left( \\sum_p a_{p+}^\\dagger a_{p-} \\right) \\\\\n",
    "&= \\sum_{p,p'} \\left(\n",
    "a_{p'+}^\\dagger a_{p-} a_{p'-}^\\dagger a_{p'+} -\n",
    "a_{p'-}^\\dagger a_{p'+} a_{p+}^\\dagger a_{p-} \\right) \\\\\n",
    "&= \\sum_{p,p'} \\left(\n",
    "a_{p'+}^\\dagger a_{p-} a_{p'-}^\\dagger a_{p'+} -\n",
    "a_{p'-}^\\dagger \\left( \\delta_{++} \\delta_{pp'} -\n",
    "a_{p+}^\\dagger a_{p'+} \\right) a_{p-} \\right) \\\\\n",
    "&= \\sum_{p,p'} \\left(\n",
    "a_{p'+}^\\dagger a_{p-} a_{p'-}^\\dagger a_{p'+} -\n",
    "a_{p'-}^\\dagger \\delta_{pp'} a_{p-} +\n",
    "a_{p'-}^\\dagger a_{p+}^\\dagger a_{p'+} a_{p-} \\right) \\\\\n",
    "&= \\sum_{p,p'} \\left(\n",
    "a_{p'+}^\\dagger a_{p-} a_{p'-}^\\dagger a_{p'+} -\n",
    "a_{p'-}^\\dagger \\delta_{pp'} a_{p-} +\n",
    "a_{p+}^\\dagger a_{p'-}^\\dagger a_{p-} a_{p'+} \\right) \\\\\n",
    "&= \\sum_{p,p'} \\left(\n",
    "a_{p'+}^\\dagger a_{p-} a_{p'-}^\\dagger a_{p'+} -\n",
    "a_{p'-}^\\dagger \\delta_{pp'} a_{p-} +\n",
    "a_{p+}^\\dagger \\left( \\delta_{--} \\delta_{pp'} -\n",
    "a_{p-} a_{p'-}^\\dagger \\right) a_{p'+} \\right) \\\\\n",
    "&= \\sum_{p,p'} \\left(\n",
    "a_{p+}^\\dagger \\delta_{pp'} a_{p'+} -\n",
    "a_{p'-}^\\dagger \\delta_{pp'} a_{p-} \\right), \\\\\n",
    "\\end{align*}\n",
    "$$"
   ]
  },
  {
   "cell_type": "markdown",
   "id": "ad64d144",
   "metadata": {
    "editable": true
   },
   "source": [
    "## Angular momentum magics VI\n",
    "\n",
    "Which results in"
   ]
  },
  {
   "cell_type": "markdown",
   "id": "515c58d1",
   "metadata": {
    "editable": true
   },
   "source": [
    "$$\n",
    "[J_+,J_-] = \\sum_p \\left(\n",
    "a_{p+}^\\dagger a_{p+} -\n",
    "a_{p-}^\\dagger a_{p-} \\right) = 2J_z,\n",
    "$$"
   ]
  },
  {
   "cell_type": "markdown",
   "id": "f59d2e56",
   "metadata": {
    "editable": true
   },
   "source": [
    "It is straightforward to show that"
   ]
  },
  {
   "cell_type": "markdown",
   "id": "4338456e",
   "metadata": {
    "editable": true
   },
   "source": [
    "$$\n",
    "[J^2, J_\\pm] = [J_+ J_- + J_z^2 - J_z, J_\\pm] =\n",
    "[J_+ J_-, J_\\pm] + [J_z^2, J_\\pm] - [J_z, J_\\pm].\n",
    "$$"
   ]
  },
  {
   "cell_type": "markdown",
   "id": "03b06b73",
   "metadata": {
    "editable": true
   },
   "source": [
    "## Angular momentum magics VII\n",
    "\n",
    "Using the relations"
   ]
  },
  {
   "cell_type": "markdown",
   "id": "ab39e3b8",
   "metadata": {
    "editable": true
   },
   "source": [
    "<!-- Equation labels as ordinary links -->\n",
    "<div id=\"eq:ab,c\"></div>\n",
    "\n",
    "$$\n",
    "\\begin{equation}\n",
    "[AB,C] = A[B,C] + [A,C]B, \\label{eq:ab,c} \\tag{9} \n",
    "\\end{equation}\n",
    "$$"
   ]
  },
  {
   "cell_type": "markdown",
   "id": "e8d1bd9b",
   "metadata": {
    "editable": true
   },
   "source": [
    "<!-- Equation labels as ordinary links -->\n",
    "<div id=\"eq:a,bc\"></div>\n",
    "\n",
    "$$\n",
    "\\begin{equation} \n",
    "[A,BC] = [A,B]C + B[A,C], \\label{eq:a,bc} \\tag{10}\n",
    "\\end{equation}\n",
    "$$"
   ]
  },
  {
   "cell_type": "markdown",
   "id": "01335596",
   "metadata": {
    "editable": true
   },
   "source": [
    "we obtain"
   ]
  },
  {
   "cell_type": "markdown",
   "id": "99670bec",
   "metadata": {
    "editable": true
   },
   "source": [
    "$$\n",
    "[J^2, J_\\pm] =\n",
    "J_+ [J_-,J_\\pm] + [J_+,J_\\pm] J_- + J_z [J_z,J_\\pm] + [J_z,J_\\pm] J_z - [J_z,J_\\pm].\n",
    "$$"
   ]
  },
  {
   "cell_type": "markdown",
   "id": "0bd58089",
   "metadata": {
    "editable": true
   },
   "source": [
    "## Angular momentum magics VIII\n",
    "\n",
    "Finally, from the above it follows that"
   ]
  },
  {
   "cell_type": "markdown",
   "id": "d12e25f7",
   "metadata": {
    "editable": true
   },
   "source": [
    "$$\n",
    "\\begin{align*}\n",
    "[J^2, J_+] &= -2J_+ J_z + J_z [J_z,J_+] + [J_z,J_+] J_z - [J_z,J_+] \\\\\n",
    "&= -2J_+ J_z + J_z J_+ + J_+ J_z - J_+ \\\\\n",
    "&= -2J_+ J_z + J_+ + J_+ J_z + J_+ J_z - J_+ = 0,\n",
    "\\end{align*}\n",
    "$$"
   ]
  },
  {
   "cell_type": "markdown",
   "id": "cfb27f99",
   "metadata": {
    "editable": true
   },
   "source": [
    "and"
   ]
  },
  {
   "cell_type": "markdown",
   "id": "137af7a2",
   "metadata": {
    "editable": true
   },
   "source": [
    "$$\n",
    "\\begin{align*}\n",
    "[J^2, J_-] &= 2J_z J_- + J_z [J_z,J_-] + [J_z,J_-] J_z - [J_z,J_-] \\\\\n",
    "&= 2J_z J_- - J_z J_- - J_- J_z + J_- \\\\\n",
    "&= J_z J_- - (J_z J_- + J_-) + J_- = 0.\n",
    "\\end{align*}\n",
    "$$"
   ]
  },
  {
   "cell_type": "markdown",
   "id": "c5809430",
   "metadata": {
    "editable": true
   },
   "source": [
    "## Angular momentum magics IX\n",
    "\n",
    "Our last commutator is given by"
   ]
  },
  {
   "cell_type": "markdown",
   "id": "8f9f57db",
   "metadata": {
    "editable": true
   },
   "source": [
    "$$\n",
    "\\begin{align*}\n",
    "[J^2,J_z] &= [J_+ J_- + J_z^2 - J_z, J_z] \\\\\n",
    "&= [J_+ J_-, J_z] + [J_z^2, J_z] - [J_z, J_z] \\\\\n",
    "&= J_+ [J_-, J_z] + [J_+,J_z] J_- \\\\\n",
    "&= J_+ J_- - J_+ J_- = 0\n",
    "\\end{align*}\n",
    "$$"
   ]
  },
  {
   "cell_type": "markdown",
   "id": "1f32392b",
   "metadata": {
    "editable": true
   },
   "source": [
    "## Angular momentum magics X\n",
    "\n",
    "Summing up we have"
   ]
  },
  {
   "cell_type": "markdown",
   "id": "bbaa51cf",
   "metadata": {
    "editable": true
   },
   "source": [
    "<!-- Equation labels as ordinary links -->\n",
    "<div id=\"eq:kJzJpm\"></div>\n",
    "\n",
    "$$\n",
    "\\begin{equation}\n",
    "[J_z, J_\\pm] = \\pm J_\\pm, \\label{eq:kJzJpm} \\tag{11} \n",
    "\\end{equation}\n",
    "$$"
   ]
  },
  {
   "cell_type": "markdown",
   "id": "5df605e1",
   "metadata": {
    "editable": true
   },
   "source": [
    "<!-- Equation labels as ordinary links -->\n",
    "<div id=\"eq:kJpJm\"></div>\n",
    "\n",
    "$$\n",
    "\\begin{equation} \n",
    "[J_+, J_-] = 2J_z, \\label{eq:kJpJm} \\tag{12} \n",
    "\\end{equation}\n",
    "$$"
   ]
  },
  {
   "cell_type": "markdown",
   "id": "15f27d31",
   "metadata": {
    "editable": true
   },
   "source": [
    "<!-- Equation labels as ordinary links -->\n",
    "<div id=\"eq:kJ2Jpm\"></div>\n",
    "\n",
    "$$\n",
    "\\begin{equation} \n",
    "[J^2, J_\\pm] = 0, \\label{eq:kJ2Jpm} \\tag{13} \n",
    "\\end{equation}\n",
    "$$"
   ]
  },
  {
   "cell_type": "markdown",
   "id": "db879f55",
   "metadata": {
    "editable": true
   },
   "source": [
    "<!-- Equation labels as ordinary links -->\n",
    "<div id=\"eq:kJ2Jz\"></div>\n",
    "\n",
    "$$\n",
    "\\begin{equation} \n",
    "[J^2,J_z] = 0, \\label{eq:kJ2Jz} \\tag{14}\n",
    "\\end{equation}\n",
    "$$"
   ]
  },
  {
   "cell_type": "markdown",
   "id": "bece541e",
   "metadata": {
    "editable": true
   },
   "source": [
    "which are the standard commutation relations for angular (or orbital) momentum $L_\\pm$, $L_z$ og $L^2$."
   ]
  },
  {
   "cell_type": "markdown",
   "id": "e1737641",
   "metadata": {
    "editable": true
   },
   "source": [
    "## Rewriting the Hamiltonian\n",
    "\n",
    "We wrote the above Hamiltonian as"
   ]
  },
  {
   "cell_type": "markdown",
   "id": "dd67846e",
   "metadata": {
    "editable": true
   },
   "source": [
    "$$\n",
    "H = H_0 + H_1 +H_2,\n",
    "$$"
   ]
  },
  {
   "cell_type": "markdown",
   "id": "2cbb3661",
   "metadata": {
    "editable": true
   },
   "source": [
    "with"
   ]
  },
  {
   "cell_type": "markdown",
   "id": "0ed4920e",
   "metadata": {
    "editable": true
   },
   "source": [
    "$$\n",
    "H_0 = \\frac{1}{2} \\varepsilon \\sum_{p\\sigma}\\sigma a_{p\\sigma}^{\\dagger}a_{p\\sigma},\n",
    "$$"
   ]
  },
  {
   "cell_type": "markdown",
   "id": "b91891b9",
   "metadata": {
    "editable": true
   },
   "source": [
    "and"
   ]
  },
  {
   "cell_type": "markdown",
   "id": "e92ba30e",
   "metadata": {
    "editable": true
   },
   "source": [
    "$$\n",
    "H_1 = \\frac{1}{2} V \\sum_{p,p',\\sigma} a_{p\\sigma}^\\dagger a_{p'\\sigma}^\\dagger a_{p'-\\sigma} a_{p-\\sigma},\n",
    "$$"
   ]
  },
  {
   "cell_type": "markdown",
   "id": "7a9fbf89",
   "metadata": {
    "editable": true
   },
   "source": [
    "and"
   ]
  },
  {
   "cell_type": "markdown",
   "id": "5516b095",
   "metadata": {
    "editable": true
   },
   "source": [
    "$$\n",
    "H_{2} = \\frac{1}{2} W \\sum_{p,p',\\sigma}a_{p\\sigma}^\\dagger a_{p'-\\sigma}^\\dagger a_{p'\\sigma}a_{p-\\sigma}.\n",
    "$$"
   ]
  },
  {
   "cell_type": "markdown",
   "id": "2f4adbf0",
   "metadata": {
    "editable": true
   },
   "source": [
    "## Hamiltonian and angular momentum  magics I\n",
    "\n",
    "We will now rewrite the Hamiltonian in terms of the above quasi-spin operators and the number operator"
   ]
  },
  {
   "cell_type": "markdown",
   "id": "b47c796e",
   "metadata": {
    "editable": true
   },
   "source": [
    "<!-- Equation labels as ordinary links -->\n",
    "<div id=\"eq:N\"></div>\n",
    "\n",
    "$$\n",
    "\\begin{equation}\n",
    "N = \\sum_{p,\\sigma} a_{p\\sigma}^\\dagger a_{p\\sigma}.\n",
    "\\label{eq:N} \\tag{15}\n",
    "\\end{equation}\n",
    "$$"
   ]
  },
  {
   "cell_type": "markdown",
   "id": "095e6b8c",
   "metadata": {
    "editable": true
   },
   "source": [
    "Going through each term of the Hamiltonian and using the expressions for the quasi-spin operators we obtain"
   ]
  },
  {
   "cell_type": "markdown",
   "id": "51defd22",
   "metadata": {
    "editable": true
   },
   "source": [
    "<!-- Equation labels as ordinary links -->\n",
    "<div id=\"eq:H0ny\"></div>\n",
    "\n",
    "$$\n",
    "\\begin{equation}\n",
    "H_0 = \\varepsilon J_z.\n",
    "\\label{eq:H0ny} \\tag{16}\n",
    "\\end{equation}\n",
    "$$"
   ]
  },
  {
   "cell_type": "markdown",
   "id": "5f80942c",
   "metadata": {
    "editable": true
   },
   "source": [
    "## Hamiltonian and angular momentum  magics II\n",
    "\n",
    "Moving over to $H_1$ and using the anti-commutation relations ([6](#eq:al,ak)) through ([8](#eq:ald,ak)) we obtain"
   ]
  },
  {
   "cell_type": "markdown",
   "id": "727b88a0",
   "metadata": {
    "editable": true
   },
   "source": [
    "$$\n",
    "\\begin{align*}\n",
    "H_1 &= \\frac{1}{2} V \\sum_{p,p',\\sigma}\n",
    "a_{p\\sigma}^\\dagger a_{p'\\sigma}^\\dagger a_{p'-\\sigma} a_{p-\\sigma} \\\\\n",
    "&= \\frac{1}{2} V \\sum_{p,p',\\sigma}\n",
    "-a_{p\\sigma}^\\dagger a_{p'\\sigma}^\\dagger a_{p-\\sigma} a_{p'-\\sigma} \\\\\n",
    "&= \\frac{1}{2} V \\sum_{p,p',\\sigma}\n",
    "-a_{p\\sigma}^\\dagger \\left( \\delta_{pp'} \\delta_{\\sigma -\\sigma} - a_{p-\\sigma} a_{p'\\sigma}^\\dagger \\right) a_{p'-\\sigma} \\\\\n",
    "&= \\frac{1}{2} V \\sum_{p,p',\\sigma}\n",
    "a_{p\\sigma}^\\dagger a_{p-\\sigma} a_{p'\\sigma}^\\dagger a_{p'-\\sigma} \\\\\n",
    "\\end{align*}\n",
    "$$"
   ]
  },
  {
   "cell_type": "markdown",
   "id": "766fca86",
   "metadata": {
    "editable": true
   },
   "source": [
    "## Hamiltonian and angular momentum  magics III\n",
    "\n",
    "Rewriting the sum  over $\\sigma$ we arrive at"
   ]
  },
  {
   "cell_type": "markdown",
   "id": "d5e23098",
   "metadata": {
    "editable": true
   },
   "source": [
    "$$\n",
    "\\begin{align*}\n",
    "H_1 &= \\frac{1}{2} V\\sum_{p,p'}\n",
    "a_{p+}^\\dagger a_{p-} a_{p'+}^\\dagger a_{p'-} +\n",
    "a_{p-}^\\dagger a_{p+} a_{p'-}^\\dagger a_{p'+} \\\\\n",
    "&= \\frac{1}{2} V \\left[ \\sum_p \\left( a_{p+}^\\dagger a_{p-} \\right)\n",
    "\\sum_{p'} \\left( a_{p'+}^\\dagger a_{p'-} \\right) +\n",
    "\\sum_p \\left( a_{p-}^\\dagger a_{p+} \\right)\n",
    "\\sum_{p'} \\left( a_{p'-}^\\dagger a_{p'+} \\right) \\right] \\\\\n",
    "&= \\frac{1}{2} V \\left[ J_+ J_+ + J_- J_- \\right] = \\frac{1}{2} V \\left[ J_+^2 + J_-^2 \\right] ,\n",
    "\\end{align*}\n",
    "$$"
   ]
  },
  {
   "cell_type": "markdown",
   "id": "d911102a",
   "metadata": {
    "editable": true
   },
   "source": [
    "which leads to"
   ]
  },
  {
   "cell_type": "markdown",
   "id": "f37dd8fc",
   "metadata": {
    "editable": true
   },
   "source": [
    "<!-- Equation labels as ordinary links -->\n",
    "<div id=\"eq:H1ny\"></div>\n",
    "\n",
    "$$\n",
    "\\begin{equation}\n",
    "H_1 = \\frac{1}{2} V \\left( J_+^2 + J_-^2 \\right).\n",
    "\\label{eq:H1ny} \\tag{17}\n",
    "\\end{equation}\n",
    "$$"
   ]
  },
  {
   "cell_type": "markdown",
   "id": "ec443cac",
   "metadata": {
    "editable": true
   },
   "source": [
    "## Hamiltonian and angular momentum  magics IV\n",
    "\n",
    "Finally, we rewrite the last term"
   ]
  },
  {
   "cell_type": "markdown",
   "id": "7ef1271f",
   "metadata": {
    "editable": true
   },
   "source": [
    "$$\n",
    "\\begin{align*}\n",
    "H_2 &= \\frac{1}{2} W \\sum_{p,p',\\sigma}\n",
    "a_{p\\sigma}^\\dagger a_{p'-\\sigma}^\\dagger a_{p'\\sigma} a_{p-\\sigma} \\\\\n",
    "&= \\frac{1}{2} W \\sum_{p,p',\\sigma}\n",
    "-a_{p\\sigma}^\\dagger a_{p'-\\sigma}^\\dagger a_{p-\\sigma} a_{p'\\sigma} \\\\\n",
    "&= \\frac{1}{2} W \\sum_{p,p',\\sigma}\n",
    "-a_{p\\sigma}^\\dagger \\left( \\delta_{pp'} \\delta_{-\\sigma -\\sigma} -\n",
    "a_{p-\\sigma} a_{p'-\\sigma}^\\dagger \\right) a_{p'\\sigma} \\\\\n",
    "&= \\frac{1}{2} W \\sum_{p,p',\\sigma}\n",
    "-a_{p\\sigma}^\\dagger \\delta_{pp'} a_{p'\\sigma} +\n",
    "a_{p\\sigma}^\\dagger a_{p-\\sigma} a_{p'-\\sigma}^\\dagger a_{p'\\sigma} \\\\\n",
    "&= \\frac{1}{2} W \\left( -\\sum_{p,\\sigma}\n",
    "a_{p\\sigma}^\\dagger a_{p\\sigma} +\n",
    "\\sum_{p,p',\\sigma} a_{p\\sigma}^\\dagger a_{p-\\sigma} a_{p'-\\sigma}^\\dagger a_{p'\\sigma} \\right) \\\\\n",
    "\\end{align*}\n",
    "$$"
   ]
  },
  {
   "cell_type": "markdown",
   "id": "42e51839",
   "metadata": {
    "editable": true
   },
   "source": [
    "## Hamiltonian and angular momentum  magics V\n",
    "\n",
    "Using the expression for the number operator we obtain"
   ]
  },
  {
   "cell_type": "markdown",
   "id": "ddc7ed35",
   "metadata": {
    "editable": true
   },
   "source": [
    "$$\n",
    "\\begin{align*}\n",
    "\\sum_{p,p',\\sigma} a_{p\\sigma}^\\dagger a_{p-\\sigma} a_{p'-\\sigma}^\\dagger a_{p'\\sigma}\n",
    "&= \\sum_{p,p'} a_{p+}^\\dagger a_{p-} a_{p'-}^\\dagger a_{p'+} +\n",
    "a_{p-}^\\dagger a_{p+} a_{p'+}^\\dagger a_{p'-} \\\\\n",
    "&= \\sum_p \\left( a_{p+}^\\dagger a_{p-} \\right)\n",
    "\\sum_{p'} \\left( a_{p'-}^\\dagger a_{p'+} \\right) +\n",
    "\\sum_p \\left( a_{p-}^\\dagger a_{p+} \\right)\n",
    "\\sum_{p'} \\left( a_{p'+}^\\dagger a_{p'-} \\right) \\\\\n",
    "&= J_+ J_- + J_- J_+,\n",
    "\\end{align*}\n",
    "$$"
   ]
  },
  {
   "cell_type": "markdown",
   "id": "5c697d61",
   "metadata": {
    "editable": true
   },
   "source": [
    "resulting in"
   ]
  },
  {
   "cell_type": "markdown",
   "id": "9a8a9b29",
   "metadata": {
    "editable": true
   },
   "source": [
    "<!-- Equation labels as ordinary links -->\n",
    "<div id=\"eq:H2ny\"></div>\n",
    "\n",
    "$$\n",
    "\\begin{equation}\n",
    "H_2 = \\frac{1}{2} W \\left( -N + J_+ J_- + J_- J_+ \\right).\n",
    "\\label{eq:H2ny} \\tag{18}\n",
    "\\end{equation}\n",
    "$$"
   ]
  },
  {
   "cell_type": "markdown",
   "id": "04887e7b",
   "metadata": {
    "editable": true
   },
   "source": [
    "We have thus expressed the Hamiltonian in term of the quasi-spin operators.\n",
    "Below, we will show how we can rewrite these expressions in terms of Pauli $X$, $Y$ and $Z$ matrices."
   ]
  },
  {
   "cell_type": "markdown",
   "id": "49d1ef19",
   "metadata": {
    "editable": true
   },
   "source": [
    "## Commutation relations for the Hamiltonian\n",
    "\n",
    "The above expressions can in turn be used to show that the Hamiltonian\n",
    "commutes with the various quasi-spin operators. This leads to quantum\n",
    "numbers which are conserved.  Let us first show that $[H,J^2]=0$,\n",
    "which means that $J$ is a so-called *good* quantum number and that the\n",
    "total spin is a conserved quantum number.\n",
    "\n",
    "We have"
   ]
  },
  {
   "cell_type": "markdown",
   "id": "9f1bca3c",
   "metadata": {
    "editable": true
   },
   "source": [
    "$$\n",
    "\\begin{align*}\n",
    "[H,J^2] &= [H_0 + H_1 + H_2,J^2] \\\\\n",
    "&= [H_0,J^2] + [H_1,J^2] + [H_2,J^2] \\\\\n",
    "&= \\varepsilon [J_z,J^2] + \\frac{1}{2} V [J_+^2 + J_-^2,J^2] +\n",
    "\\frac{1}{2} W [-N + J_+ J_- + J_- J_+,J^2]. \\\\\n",
    "\\end{align*}\n",
    "$$"
   ]
  },
  {
   "cell_type": "markdown",
   "id": "a3790d9d",
   "metadata": {
    "editable": true
   },
   "source": [
    "## Hamiltonian and commutators\n",
    "\n",
    "We have previously shown that"
   ]
  },
  {
   "cell_type": "markdown",
   "id": "e443ce81",
   "metadata": {
    "editable": true
   },
   "source": [
    "$$\n",
    "[H,J^2] = \\frac{1}{2} V \\left( [J_+^2,J^2] + [J_-^2,J^2] \\right) +\n",
    "\\frac{1}{2} W \\left( -[N,J^2] + [J_+ J_-,J^2] + [J_- J_+, J^2] \\right)\n",
    "$$"
   ]
  },
  {
   "cell_type": "markdown",
   "id": "af949ebe",
   "metadata": {
    "editable": true
   },
   "source": [
    "Using that $[J_\\pm,J^2] = 0$, it follows that $[J_\\pm^2,J^2] = 0$. We can then see that $[J_+ J_-,J^2] = 0$ and $[J_- J_+, J^2] = 0$ which leads to"
   ]
  },
  {
   "cell_type": "markdown",
   "id": "35ecaeb5",
   "metadata": {
    "editable": true
   },
   "source": [
    "$$\n",
    "\\begin{align*}\n",
    "[H,J^2] &= -\\frac{1}{2} W [N,J^2] \\\\\n",
    "&= \\frac{1}{2} W \\left( -[N,J_+ J_-] - [N,J_z^2] + [N,J_z] \\right) \\\\\n",
    "&= \\frac{1}{2} W \\left( -[N,J_+]J_- - J_+[N,J_-] - [N,J_z]J_z - J_z[N,J_z] + [N,J_z] \\right).\n",
    "\\end{align*}\n",
    "$$"
   ]
  },
  {
   "cell_type": "markdown",
   "id": "8a877a15",
   "metadata": {
    "editable": true
   },
   "source": [
    "## Including the number operator\n",
    "\n",
    "Combining with the number operator we have"
   ]
  },
  {
   "cell_type": "markdown",
   "id": "e3bddeaf",
   "metadata": {
    "editable": true
   },
   "source": [
    "$$\n",
    "\\begin{align*}\n",
    "[N,J_\\pm] &= N J_\\pm - J_\\pm N \\\\\n",
    "&= \\left( \\sum_{p,\\sigma} a_{p\\sigma}^\\dagger a_{p\\sigma} \\right)\n",
    "\\left( \\sum_{p'} a_{p'\\pm}^\\dagger a_{p'\\mp} \\right) -\n",
    "\\left( \\sum_{p'} a_{p'\\pm}^\\dagger a_{p'\\mp} \\right)\n",
    "\\left( \\sum_{p,\\sigma} a_{p\\sigma}^\\dagger a_{p\\sigma} \\right) \\\\\n",
    "&= \\sum_{p,p',\\sigma}\n",
    "a_{p\\sigma}^\\dagger a_{p\\sigma} a_{p'\\pm}^\\dagger a_{p'\\mp} -\n",
    "a_{p'\\pm}^\\dagger a_{p'\\mp} a_{p\\sigma}^\\dagger a_{p\\sigma} \\\\\n",
    "&= \\sum_{p,p',\\sigma}\n",
    "a_{p\\sigma}^\\dagger a_{p\\sigma} a_{p'\\pm}^\\dagger a_{p'\\mp} -\n",
    "a_{p'\\pm}^\\dagger \\left( \\delta_{\\mp \\sigma} \\delta_{pp'} - a_{p\\sigma}^\\dagger a_{p'\\mp} \\right) a_{p\\sigma} \\\\\n",
    "&= \\sum_{p,p',\\sigma}\n",
    "a_{p\\sigma}^\\dagger a_{p\\sigma} a_{p'\\pm}^\\dagger a_{p'\\mp} -\n",
    "a_{p'\\pm}^\\dagger \\delta_{\\mp \\sigma} \\delta_{pp'} a_{p\\sigma} +\n",
    "a_{p'\\pm}^\\dagger a_{p\\sigma}^\\dagger a_{p'\\mp} a_{p\\sigma} \\\\\n",
    "&= \\sum_{p,p',\\sigma}\n",
    "a_{p\\sigma}^\\dagger a_{p\\sigma} a_{p'\\pm}^\\dagger a_{p'\\mp} +\n",
    "a_{p\\sigma}^\\dagger a_{p'\\pm}^\\dagger a_{p\\sigma} a_{p'\\mp} -\n",
    "\\sum_{p} a_{p\\pm}^\\dagger  a_{p\\mp} \\\\\n",
    "&= \\sum_{p,p',\\sigma}\n",
    "a_{p\\sigma}^\\dagger a_{p\\sigma} a_{p'\\pm}^\\dagger a_{p'\\mp} +\n",
    "a_{p\\sigma}^\\dagger \\left( \\delta_{pp'} \\delta_{\\pm \\sigma} -\n",
    "a_{p\\sigma} a_{p'\\pm}^\\dagger \\right) a_{p'\\mp} -\n",
    "\\sum_{p} a_{p\\pm}^\\dagger  a_{p\\mp} \\\\\n",
    "&= \\sum_p a_{p\\pm}^\\dagger a_{p\\mp} -\n",
    "\\sum_{p} a_{p\\pm}^\\dagger  a_{p\\mp} = 0. \\\\\n",
    "\\end{align*}\n",
    "$$"
   ]
  },
  {
   "cell_type": "markdown",
   "id": "39d317d1",
   "metadata": {
    "editable": true
   },
   "source": [
    "## Hamiltonian and angular momentum commutators\n",
    "\n",
    "We obtain then"
   ]
  },
  {
   "cell_type": "markdown",
   "id": "930842ba",
   "metadata": {
    "editable": true
   },
   "source": [
    "$$\n",
    "\\begin{align*}\n",
    "[N,J_z] &= N J_z - J_z N \\\\\n",
    "&= \\left( \\sum_{p,\\sigma} a_{p\\sigma}^\\dagger a_{p\\sigma} \\right)\n",
    "\\left( \\frac{1}{2}\\sum_{p',\\sigma} \\sigma a_{p'\\sigma}^\\dagger a_{p'\\sigma} \\right) -\n",
    "\\left( \\frac{1}{2}\\sum_{p',\\sigma} \\sigma a_{p'\\sigma}^\\dagger a_{p'\\sigma} \\right)\n",
    "\\left( \\sum_{p,\\sigma} a_{p\\sigma}^\\dagger a_{p\\sigma} \\right) \\\\\n",
    "&= \\sum_{p,p',\\sigma} \n",
    "\\sigma a_{p\\sigma}^\\dagger a_{p\\sigma} a_{p'\\sigma}^\\dagger a_{p'\\sigma} -\n",
    "\\sigma a_{p'\\sigma}^\\dagger a_{p'\\sigma} a_{p\\sigma}^\\dagger a_{p\\sigma} = 0,\n",
    "\\end{align*}\n",
    "$$"
   ]
  },
  {
   "cell_type": "markdown",
   "id": "025351be",
   "metadata": {
    "editable": true
   },
   "source": [
    "which leads to"
   ]
  },
  {
   "cell_type": "markdown",
   "id": "99c04731",
   "metadata": {
    "editable": true
   },
   "source": [
    "<!-- Equation labels as ordinary links -->\n",
    "<div id=\"eq:kHJ2\"></div>\n",
    "\n",
    "$$\n",
    "\\begin{equation}\n",
    "[H,J^2] = 0,\n",
    "\\label{eq:kHJ2} \\tag{19}\n",
    "\\end{equation}\n",
    "$$"
   ]
  },
  {
   "cell_type": "markdown",
   "id": "56b1e917",
   "metadata": {
    "editable": true
   },
   "source": [
    "and $J$ is a good quantum number."
   ]
  },
  {
   "cell_type": "markdown",
   "id": "c713c1f9",
   "metadata": {
    "editable": true
   },
   "source": [
    "## Constructing the Hamiltonian matrix for $J=2$\n",
    "\n",
    "We start with the state (unique) where all spins point down"
   ]
  },
  {
   "cell_type": "markdown",
   "id": "d76286f4",
   "metadata": {
    "editable": true
   },
   "source": [
    "<!-- Equation labels as ordinary links -->\n",
    "<div id=\"eq:2,-2\"></div>\n",
    "\n",
    "$$\n",
    "\\begin{equation}\n",
    "\\vert 2,-2\\rangle = a_{1-}^{\\dagger} a_{2-}^{\\dagger}\n",
    "a_{3-}^{\\dagger} a_{4-}^{\\dagger} \\vert 0\\rangle\n",
    "\\label{eq:2,-2} \\tag{20}\n",
    "\\end{equation}\n",
    "$$"
   ]
  },
  {
   "cell_type": "markdown",
   "id": "91b9d612",
   "metadata": {
    "editable": true
   },
   "source": [
    "which is a state with  $J_z = -2$ and $J = 2$. (we label the states as $\\vert J,J_z\\rangle$). For $J = 2$ we have the spin projections $J_z = -2,-1,0,1,2$.\n",
    "We can use the lowering and raising operators for spin in order to define the other states"
   ]
  },
  {
   "cell_type": "markdown",
   "id": "59b06460",
   "metadata": {
    "editable": true
   },
   "source": [
    "<!-- Equation labels as ordinary links -->\n",
    "<div id=\"eq:J+ket\"></div>\n",
    "\n",
    "$$\n",
    "\\begin{equation}\n",
    "J_+ \\vert J,J_z\\rangle = \\sqrt{J(J+1) - J_z(J_z + 1)} \\vert J,J_z + 1\\rangle,\n",
    "\\label{eq:J+ket} \\tag{21} \n",
    "\\end{equation}\n",
    "$$"
   ]
  },
  {
   "cell_type": "markdown",
   "id": "8808aa49",
   "metadata": {
    "editable": true
   },
   "source": [
    "<!-- Equation labels as ordinary links -->\n",
    "<div id=\"eq:J-ket\"></div>\n",
    "\n",
    "$$\n",
    "\\begin{equation} \n",
    "J_- \\vert J,J_z\\rangle = \\sqrt{J(J+1) - J_z(J_z - 1)} \\vert J,J_z - 1\\rangle.\n",
    "\\label{eq:J-ket} \\tag{22}\n",
    "\\end{equation}\n",
    "$$"
   ]
  },
  {
   "cell_type": "markdown",
   "id": "35cd66d4",
   "metadata": {
    "editable": true
   },
   "source": [
    "## Constructing the Hamiltonian matrix for the other states\n",
    "\n",
    "We can then construct all other states with $J=2$ using the raising operator\n",
    "$J_+$ on $\\vert 2,-2\\rangle$"
   ]
  },
  {
   "cell_type": "markdown",
   "id": "c4b251c0",
   "metadata": {
    "editable": true
   },
   "source": [
    "$$\n",
    "J_+ \\vert 2,-2\\rangle = \\sqrt{2(2+1) - (-2)(-2+1)} \\vert 2,-2+1\\rangle =\\sqrt{6 - 2} \\vert 2,-1\\rangle = 2\\vert 2,-1\\rangle,\n",
    "$$"
   ]
  },
  {
   "cell_type": "markdown",
   "id": "6165a5f3",
   "metadata": {
    "editable": true
   },
   "source": [
    "which gives"
   ]
  },
  {
   "cell_type": "markdown",
   "id": "2f55260f",
   "metadata": {
    "editable": true
   },
   "source": [
    "<!-- Equation labels as ordinary links -->\n",
    "<div id=\"_auto3\"></div>\n",
    "\n",
    "$$\n",
    "\\begin{equation}\n",
    "\\vert 2,-1\\rangle = \\frac{1}{2} J_+ \\vert 2,-2\\rangle \\notag \n",
    "\\label{_auto3} \\tag{23}\n",
    "\\end{equation}\n",
    "$$"
   ]
  },
  {
   "cell_type": "markdown",
   "id": "bd9567e0",
   "metadata": {
    "editable": true
   },
   "source": [
    "<!-- Equation labels as ordinary links -->\n",
    "<div id=\"_auto4\"></div>\n",
    "\n",
    "$$\n",
    "\\begin{equation} \n",
    "= \\frac{1}{2} \\sum_p a_{p+}^\\dagger a_{p-} a_{1-}^{\\dagger} a_{2-}^{\\dagger}\n",
    "a_{3-}^{\\dagger} a_{4-}^{\\dagger} \\vert 0\\rangle \\notag \n",
    "\\label{_auto4} \\tag{24}\n",
    "\\end{equation}\n",
    "$$"
   ]
  },
  {
   "cell_type": "markdown",
   "id": "cc090e9f",
   "metadata": {
    "editable": true
   },
   "source": [
    "<!-- Equation labels as ordinary links -->\n",
    "<div id=\"eq:2,-1\"></div>\n",
    "\n",
    "$$\n",
    "\\begin{equation} \n",
    "= \\frac{1}{2} \\left(\n",
    "a_{1+}^{\\dagger} a_{2-}^{\\dagger} a_{3-}^{\\dagger} a_{4-}^{\\dagger} +\n",
    "a_{1-}^{\\dagger} a_{2+}^{\\dagger} a_{3-}^{\\dagger} a_{4-}^{\\dagger} +\n",
    "a_{1-}^{\\dagger} a_{2-}^{\\dagger} a_{3+}^{\\dagger} a_{4-}^{\\dagger} +\n",
    "a_{1-}^{\\dagger} a_{2-}^{\\dagger} a_{3-}^{\\dagger} a_{4+}^{\\dagger}\n",
    "\\right) \\vert 0\\rangle. \\label{eq:2,-1} \\tag{25}\n",
    "\\end{equation}\n",
    "$$"
   ]
  },
  {
   "cell_type": "markdown",
   "id": "8ddf8ee3",
   "metadata": {
    "editable": true
   },
   "source": [
    "## Constructing the Hamiltonian matrix\n",
    "\n",
    "We can construct all the other states in the same way. That is"
   ]
  },
  {
   "cell_type": "markdown",
   "id": "31367322",
   "metadata": {
    "editable": true
   },
   "source": [
    "$$\n",
    "J_+ \\vert 2,-1\\rangle = \\sqrt{2(2+1) - (-1)(-1+1)} \\vert 2,-1+1\\rangle = \\sqrt{6} \\vert 2,0\\rangle,\n",
    "$$"
   ]
  },
  {
   "cell_type": "markdown",
   "id": "4dd8a80a",
   "metadata": {
    "editable": true
   },
   "source": [
    "which results in"
   ]
  },
  {
   "cell_type": "markdown",
   "id": "cb9ec5cd",
   "metadata": {
    "editable": true
   },
   "source": [
    "<!-- Equation labels as ordinary links -->\n",
    "<div id=\"eq:2,0\"></div>\n",
    "\n",
    "$$\n",
    "\\begin{equation}\n",
    "\\begin{aligned}\n",
    "\\vert 2,0\\rangle &= \\frac{1}{\\sqrt{6}} \\left(\n",
    "a_{1+}^{\\dagger} a_{2+}^{\\dagger} a_{3-}^{\\dagger} a_{4-}^{\\dagger} +\n",
    "a_{1+}^{\\dagger} a_{2-}^{\\dagger} a_{3+}^{\\dagger} a_{4-}^{\\dagger} +\n",
    "a_{1+}^{\\dagger} a_{2-}^{\\dagger} a_{3-}^{\\dagger} a_{4+}^{\\dagger} +\n",
    "a_{1-}^{\\dagger} a_{2+}^{\\dagger} a_{3+}^{\\dagger} a_{4-}^{\\dagger} + \\right. \\\\\n",
    "&\\quad\\,\\, \\left.\n",
    "a_{1-}^{\\dagger} a_{2+}^{\\dagger} a_{3-}^{\\dagger} a_{4+}^{\\dagger} +\n",
    "a_{1-}^{\\dagger} a_{2-}^{\\dagger} a_{3+}^{\\dagger} a_{4+}^{\\dagger} \\right) \\vert 0\\rangle\n",
    "\\end{aligned}\n",
    "\\label{eq:2,0} \\tag{26}\n",
    "\\end{equation}\n",
    "$$"
   ]
  },
  {
   "cell_type": "markdown",
   "id": "671c6e70",
   "metadata": {
    "editable": true
   },
   "source": [
    "## Constructing the Hamiltonian matrix, last two states\n",
    "\n",
    "The two remaining states are"
   ]
  },
  {
   "cell_type": "markdown",
   "id": "f3277a9e",
   "metadata": {
    "editable": true
   },
   "source": [
    "<!-- Equation labels as ordinary links -->\n",
    "<div id=\"eq:2,1\"></div>\n",
    "\n",
    "$$\n",
    "\\begin{equation}\n",
    "\\vert2,1\\rangle  = \\frac{1}{2} \\left(\n",
    "a_{1+}^{\\dagger} a_{2+}^{\\dagger} a_{3+}^{\\dagger} a_{4-}^{\\dagger} +\n",
    "a_{1+}^{\\dagger} a_{2+}^{\\dagger} a_{3-}^{\\dagger} a_{4+}^{\\dagger} +\n",
    "a_{1+}^{\\dagger} a_{2-}^{\\dagger} a_{3+}^{\\dagger} a_{4+}^{\\dagger} +\n",
    "a_{1-}^{\\dagger} a_{2+}^{\\dagger} a_{3+}^{\\dagger} a_{4+}^{\\dagger}\n",
    " \\right).\n",
    "\\label{eq:2,1} \\tag{27}\n",
    "\\end{equation}\n",
    "$$"
   ]
  },
  {
   "cell_type": "markdown",
   "id": "27b3a123",
   "metadata": {
    "editable": true
   },
   "source": [
    "and"
   ]
  },
  {
   "cell_type": "markdown",
   "id": "0ef2da30",
   "metadata": {
    "editable": true
   },
   "source": [
    "<!-- Equation labels as ordinary links -->\n",
    "<div id=\"eq:2,2\"></div>\n",
    "\n",
    "$$\n",
    "\\begin{equation}\n",
    "\\vert 2,2\\rangle  = a_{1+}^{\\dagger} a_{2+}^{\\dagger} a_{3+}^{\\dagger} a_{4+}^{\\dagger} \\vert 0\\rangle.\n",
    "\\label{eq:2,2} \\tag{28}\n",
    "\\end{equation}\n",
    "$$"
   ]
  },
  {
   "cell_type": "markdown",
   "id": "eb0ae760",
   "metadata": {
    "editable": true
   },
   "source": [
    "## Final Hamiltonian matrix\n",
    "These five states can in turn be used as computational basis states in\n",
    "order to define the Hamiltonian matrix to be diagonalized.\n",
    "The matrix elements are given by $\\langle J,J_z \\vert H \\vert J',J_z' \\rangle$.\n",
    "The\n",
    "Hamiltonian is hermitian and we obtain after all this labor of ours"
   ]
  },
  {
   "cell_type": "markdown",
   "id": "ed30dc8f",
   "metadata": {
    "editable": true
   },
   "source": [
    "<!-- Equation labels as ordinary links -->\n",
    "<div id=\"eq:HJ=2\"></div>\n",
    "\n",
    "$$\n",
    "\\begin{equation}\n",
    "H_{J = 2} =\n",
    "\\begin{bmatrix}\n",
    "-2\\varepsilon & 0 & \\sqrt{6}V & 0 & 0 \\\\\n",
    "0 & -\\varepsilon + 3W & 0 & 3V & 0 \\\\\n",
    "\\sqrt{6}V & 0 & 4W & 0 & \\sqrt{6}V \\\\\n",
    "0 & 3V & 0 & \\varepsilon + 3W & 0 \\\\\n",
    "0 & 0 & \\sqrt{6}V & 0 & 2\\varepsilon\n",
    "\\end{bmatrix}\n",
    "\\label{eq:HJ=2} \\tag{29}\n",
    "\\end{equation}\n",
    "$$"
   ]
  },
  {
   "cell_type": "markdown",
   "id": "90bf4056",
   "metadata": {
    "editable": true
   },
   "source": [
    "## Comparing with standard diagonalization\n",
    "We can now select a set of parameters and diagonalize the above matrix. We select $\\epsilon = 2$, $V = -1/3$, $W = -1/4$ and our matrix becoes"
   ]
  },
  {
   "cell_type": "markdown",
   "id": "6d0be515",
   "metadata": {
    "editable": true
   },
   "source": [
    "$$\n",
    "H_{J=2}^{(1)} =\n",
    "\\begin{bmatrix}\n",
    "-4 & 0 & -\\sqrt{6}/3 & 0 & 0 \\\\\n",
    "0 & -2 - 3/4 & 0 & -1 & 0 \\\\\n",
    "-\\sqrt{6}/3 & 0 & -1 & 0 & -\\sqrt{6}/3 \\\\\n",
    "0 & -1 & 0 & 2 + -3/4 & 0 \\\\\n",
    "0 & 0 & -\\sqrt{6}/3 & 0 & 4\n",
    "\\end{bmatrix},\n",
    "$$"
   ]
  },
  {
   "cell_type": "markdown",
   "id": "3310b66f",
   "metadata": {
    "editable": true
   },
   "source": [
    "which gives the eigenvalue"
   ]
  },
  {
   "cell_type": "markdown",
   "id": "0d426a38",
   "metadata": {
    "editable": true
   },
   "source": [
    "$$\n",
    "D = \\begin{bmatrix}\n",
    "-4.21288 &  0 &  0 &  0 &  0 \\\\\n",
    "0 & -2.98607  & 0  & 0  & 0 \\\\\n",
    "0 &  0 & -0.91914  & 0  & 0 \\\\\n",
    "0 &  0 & 0   & 1.48607  & 0 \\\\\n",
    "0 &  0  & 0  & 0  & 4.13201\n",
    "\\end{bmatrix}.\n",
    "$$"
   ]
  },
  {
   "cell_type": "markdown",
   "id": "b3cff6cd",
   "metadata": {
    "editable": true
   },
   "source": [
    "The lowest state has an admixture of basis states given by"
   ]
  },
  {
   "cell_type": "markdown",
   "id": "26f9752d",
   "metadata": {
    "editable": true
   },
   "source": [
    "$$\n",
    "\\vert \\psi_0\\rangle = 0.96735\\vert2,-2\\rangle + 0.25221\\vert 2,0\\rangle + 0.02507\\vert 2,2\\rangle,\n",
    "$$"
   ]
  },
  {
   "cell_type": "markdown",
   "id": "ac639804",
   "metadata": {
    "editable": true
   },
   "source": [
    "with energy $E_0 = -4.21288$."
   ]
  },
  {
   "cell_type": "markdown",
   "id": "64b9eecb",
   "metadata": {
    "editable": true
   },
   "source": [
    "## Comparing with standard diagonalization, other parameters\n",
    "\n",
    "We can now change the parameters to\n",
    "$\\varepsilon = 2$, $V = -4/3$, $W = -1$. Our matrix reads then"
   ]
  },
  {
   "cell_type": "markdown",
   "id": "5e17449c",
   "metadata": {
    "editable": true
   },
   "source": [
    "$$\n",
    "H_{J=2}^{(2)} =\n",
    "\\begin{bmatrix}\n",
    "-4 & 0 & -4\\sqrt{6}/3 & 0 & 0 \\\\\n",
    "0 & -5 & 0 & -4 & 0 \\\\\n",
    "-4\\sqrt{6}/3 & 0 & -4 & 0 & -4\\sqrt{6}/3 \\\\\n",
    "0 & -4 & 0 & -1 & 0 \\\\\n",
    "0 & 0 & -4\\sqrt{6}/3 & 0 & 4\n",
    "\\end{bmatrix},\n",
    "$$"
   ]
  },
  {
   "cell_type": "markdown",
   "id": "f799bb75",
   "metadata": {
    "editable": true
   },
   "source": [
    "with the following eigenvalues"
   ]
  },
  {
   "cell_type": "markdown",
   "id": "4e0a9182",
   "metadata": {
    "editable": true
   },
   "source": [
    "$$\n",
    "D = \\begin{bmatrix}\n",
    "-7.75122 &  0 &  0 &  0  & 0 \\\\\n",
    "0 & -7.47214  & 0  & 0  & 0 \\\\\n",
    "0 &  0  & -1.55581 &  0  & 0 \\\\\n",
    "0 &  0  & 0  & 1.47214  & 0 \\\\\n",
    "0 &  0  & 0  & 0  & 5.30704\n",
    "\\end{bmatrix}.\n",
    "$$"
   ]
  },
  {
   "cell_type": "markdown",
   "id": "adea02a8",
   "metadata": {
    "editable": true
   },
   "source": [
    "The new ground state (lowest state) has the following admixture of computational basis states"
   ]
  },
  {
   "cell_type": "markdown",
   "id": "85ef9f40",
   "metadata": {
    "editable": true
   },
   "source": [
    "$$\n",
    "\\vert \\psi_0\\rangle = 0.64268\\vert 2,-2\\rangle + 0.73816\\vert 2,0\\rangle + 0.20515 \\vert 2,2\\rangle,\n",
    "$$"
   ]
  },
  {
   "cell_type": "markdown",
   "id": "9f0c6019",
   "metadata": {
    "editable": true
   },
   "source": [
    "with energy $E_0 = -7.75122$."
   ]
  },
  {
   "cell_type": "markdown",
   "id": "b03d61ab",
   "metadata": {
    "editable": true
   },
   "source": [
    "## Analysis\n",
    "For the first set of parameters, the likelihood for observing the\n",
    "system in the computational basis state $\\vert 2,-2 \\rangle$ is rather\n",
    "large. This is expected since the interaction matrix elements are\n",
    "smaller than the single-particle energies.  For the second case, with\n",
    "larger matrix elements, we see a much stronger mixing of the other\n",
    "states, again as expected due to the ratio of the interaction matrix\n",
    "elements and the single-particle energies."
   ]
  },
  {
   "cell_type": "markdown",
   "id": "026e9564",
   "metadata": {
    "editable": true
   },
   "source": [
    "## More details\n",
    "\n",
    "Here we give some additional details behind the rewriting of the Lipkin Hamiltonian in term of Pauli matrices and the identity matrix.\n",
    "For the one-body term we have"
   ]
  },
  {
   "cell_type": "markdown",
   "id": "9bb6cf96",
   "metadata": {
    "editable": true
   },
   "source": [
    "$$\n",
    "\\begin{align*}\n",
    "    H_0 = \\epsilon J_z = \\epsilon \\sum_{p} j_{z}^{p} = \\frac{\\epsilon}{2} \\sum_p Z_p \n",
    "\\end{align*}\n",
    "$$"
   ]
  },
  {
   "cell_type": "markdown",
   "id": "6aeafa5a",
   "metadata": {
    "editable": true
   },
   "source": [
    "Moving on to the $H_1$ term, we need to expand the square of the $J_\\pm$ operators. Starting with $J_+$ we find"
   ]
  },
  {
   "cell_type": "markdown",
   "id": "f133c6c0",
   "metadata": {
    "editable": true
   },
   "source": [
    "$$\n",
    "\\begin{align*}\n",
    "    J_+^2 &= (\\sum_p j_{x}^{p} + \\imath j_{y}^{p})^2 = \\sum_{pq}(j_{x}^{p} + \\imath j_{y}^{p})(j_{x}^{q} + \\imath j_{y}^{q}) \\\\\n",
    "    &= \\sum_{pq} \\left(j_{x}^{p}j_{x}^{q} - j_{y}^{p}j_{y}^{q} + \\imath j_{y}^{p}j_{x}^{q} + \\imath j_{x}^{p}j_{y}^{q}\\right).\n",
    "\\end{align*}\n",
    "$$"
   ]
  },
  {
   "cell_type": "markdown",
   "id": "34417952",
   "metadata": {
    "editable": true
   },
   "source": [
    "## Other manipulations\n",
    "\n",
    "Similarly, the $J_-^2$ term yields"
   ]
  },
  {
   "cell_type": "markdown",
   "id": "5ec1ebf1",
   "metadata": {
    "editable": true
   },
   "source": [
    "$$\n",
    "\\begin{align*}\n",
    "    J_-^2 = \\sum_{pq} (j_{x}^{p}j_{x}^{q} - j_{y}^{p}j_{y}^{q} - \\imath j_{y}^{p}j_{x}^{q} - \\imath j_{x}^{p}j_{y}^{q}).\n",
    "\\end{align*}\n",
    "$$"
   ]
  },
  {
   "cell_type": "markdown",
   "id": "684eb1a9",
   "metadata": {
    "editable": true
   },
   "source": [
    "Rewriting we get"
   ]
  },
  {
   "cell_type": "markdown",
   "id": "036dc68e",
   "metadata": {
    "editable": true
   },
   "source": [
    "$$\n",
    "\\begin{align*}\n",
    "    J_+^2 + J_-^2 &= 2\\sum_{pq} j_{x}^{p}j_{x}^{q} - j_{z}^{p}j_{z}^{q} \\\\\n",
    "    &= 2 \\sum_p (j_{x}^{p})^2 - (j_{y}^{p})^2 + 4\\sum_{p > q}( j_{x}^{p}j_{x}^{q} - j_{y}^{p}j_{y}^{q}) \\\\\n",
    "    &= \\frac{1}{2} \\sum_p (X_p^2 - Y_p^2) + \\sum_{p > q} (X_p X_q - Y_p Y_q)\n",
    "\\end{align*}\n",
    "$$"
   ]
  },
  {
   "cell_type": "markdown",
   "id": "01f36f03",
   "metadata": {
    "editable": true
   },
   "source": [
    "## Final expression for $H_1$ and $H_2$\n",
    "\n",
    "The diagonal term will cancel out, since the Pauli matrices are involutory, resulting in"
   ]
  },
  {
   "cell_type": "markdown",
   "id": "e0dd0747",
   "metadata": {
    "editable": true
   },
   "source": [
    "$$\n",
    "H_1 = \\frac{1}{2}V \\sum_{p > q}( X_p X_q - Y_p Y_q).\n",
    "$$"
   ]
  },
  {
   "cell_type": "markdown",
   "id": "141ff9e6",
   "metadata": {
    "editable": true
   },
   "source": [
    "Following the same procedure as above, we have finally"
   ]
  },
  {
   "cell_type": "markdown",
   "id": "16bbd19a",
   "metadata": {
    "editable": true
   },
   "source": [
    "$$\n",
    "H_2 = \\frac{1}{2}W \\sum_{p < q} (X_p X_q + Y_p Y_q).\n",
    "$$"
   ]
  },
  {
   "cell_type": "markdown",
   "id": "38faccc9",
   "metadata": {
    "editable": true
   },
   "source": [
    "## Quantum computing and solving  the eigenvalue problem for the Lipkin model\n",
    "\n",
    "We will study a simpler variant of the Lipkin model without the $W$-term and a total spin of $J=1$ only as maximum value of the spin.\n",
    "This corresponds to a system with $N=2$ particles (fermions in our case).\n",
    "Our Hamiltonian is given by the quasispin operators (see below)"
   ]
  },
  {
   "cell_type": "markdown",
   "id": "9efb4a20",
   "metadata": {
    "editable": true
   },
   "source": [
    "$$\n",
    "\\hat{H} = \\epsilon\\hat{J}_z -\\frac{1}{2}V(\\hat{J}_+\\hat{J}_++\\hat{J}_-\\hat{J}_-).\n",
    "$$"
   ]
  },
  {
   "cell_type": "markdown",
   "id": "39b15b5f",
   "metadata": {
    "editable": true
   },
   "source": [
    "As discussed earlier\n",
    "the quasispin operators act like lowering and raising angular momentum\n",
    "operators.\n",
    "\n",
    "With these properties we can calculate the Hamiltonian\n",
    "matrix for the Lipkin model by computing the various matrix elements"
   ]
  },
  {
   "cell_type": "markdown",
   "id": "10b19166",
   "metadata": {
    "editable": true
   },
   "source": [
    "<!-- Equation labels as ordinary links -->\n",
    "<div id=\"_auto5\"></div>\n",
    "\n",
    "$$\n",
    "\\begin{equation}\n",
    "\\langle JJ_z|H|JJ_z'\\rangle,\n",
    "\\label{_auto5} \\tag{30}\n",
    "\\end{equation}\n",
    "$$"
   ]
  },
  {
   "cell_type": "markdown",
   "id": "43c14cd6",
   "metadata": {
    "editable": true
   },
   "source": [
    "where the non-zero elements are given by"
   ]
  },
  {
   "cell_type": "markdown",
   "id": "a52550a0",
   "metadata": {
    "editable": true
   },
   "source": [
    "$$\n",
    "\\begin{split}\n",
    "\\langle JJ_z|H|JJ_z'\\rangle & = \\epsilon J_z\\\\\n",
    "\\langle JJ_z|H|JJ_z'\\pm 2\\rangle & = \\langle JJ_z\\pm 2|H|JJ_z'\\rangle \\\\ &= -\\frac{1}{2}VC,\n",
    "\\end{split}\n",
    "$$"
   ]
  },
  {
   "cell_type": "markdown",
   "id": "57b2fe7e",
   "metadata": {
    "editable": true
   },
   "source": [
    "where $C$ is the Clebsch-Gordan coefficients (from the raising and lowering operators) one gets when\n",
    "$J_{\\pm}^2$ operates on the state $|JJ_z\\rangle$.  Using the above\n",
    "definitions we can calculate the exact solution to the Lipkin model.\n",
    "\n",
    "With the $V$-interaction terms, we obtain the following Hamiltonian matrix"
   ]
  },
  {
   "cell_type": "markdown",
   "id": "0d25a152",
   "metadata": {
    "editable": true
   },
   "source": [
    "<!-- Equation labels as ordinary links -->\n",
    "<div id=\"_auto6\"></div>\n",
    "\n",
    "$$\n",
    "\\begin{equation}\n",
    "\\begin{pmatrix}-\\epsilon & 0 & -V\\\\\n",
    " 0&0&0\\\\\n",
    " -V&0&\\epsilon\n",
    "\\end{pmatrix}\n",
    "\\label{_auto6} \\tag{31}\n",
    "\\end{equation}\n",
    "$$"
   ]
  },
  {
   "cell_type": "markdown",
   "id": "135928f7",
   "metadata": {
    "editable": true
   },
   "source": [
    "## Quantum Circuit, rewriting the Lipkin model in terms of Pauli matrices\n",
    "\n",
    "Before we proceed however, we need to rewrite the quasispin operators in terms of Pauli spin matrices/operators.\n",
    "\n",
    "We take the liberty here of reminding you of some of the derivations done previously.\n",
    "\n",
    "We defined the number operator as"
   ]
  },
  {
   "cell_type": "markdown",
   "id": "d4a64555",
   "metadata": {
    "editable": true
   },
   "source": [
    "$$\n",
    "N=\\sum_{n\\sigma}a^\\dagger_{n\\sigma}a_{n\\sigma},\n",
    "$$"
   ]
  },
  {
   "cell_type": "markdown",
   "id": "7556fa7f",
   "metadata": {
    "editable": true
   },
   "source": [
    "which commutes with the Lipkin Hamiltonian. This can be seen by\n",
    "examining the Lipkin model Hamiltonian and noticing that the one-body\n",
    "part simply counts particles while the two-body term moves particles\n",
    "in pairs. Thus, the Hamiltonian conserves particle number. To find\n",
    "more symmetries we rewrote the Lipkin Hamiltonian in terms of $SU(2)$ quasispin\n",
    "operators"
   ]
  },
  {
   "cell_type": "markdown",
   "id": "c40a4fc5",
   "metadata": {
    "editable": true
   },
   "source": [
    "<!-- Equation labels as ordinary links -->\n",
    "<div id=\"_auto7\"></div>\n",
    "\n",
    "$$\n",
    "\\begin{equation}\n",
    "H = \\epsilon J_z + \\frac{1}{2}V(J^2_++J^2_-),\n",
    "\\label{_auto7} \\tag{32}\n",
    "\\end{equation}\n",
    "$$"
   ]
  },
  {
   "cell_type": "markdown",
   "id": "7977cecc",
   "metadata": {
    "editable": true
   },
   "source": [
    "via the mappings"
   ]
  },
  {
   "cell_type": "markdown",
   "id": "3fef3a3a",
   "metadata": {
    "editable": true
   },
   "source": [
    "$$\n",
    "J_z=\\sum_{n}j_z^{(n)},\n",
    "$$"
   ]
  },
  {
   "cell_type": "markdown",
   "id": "e1d4d89b",
   "metadata": {
    "editable": true
   },
   "source": [
    "and"
   ]
  },
  {
   "cell_type": "markdown",
   "id": "68616229",
   "metadata": {
    "editable": true
   },
   "source": [
    "$$\n",
    "J_\\pm=\\sum_nj^{(n)}_{\\pm},\n",
    "$$"
   ]
  },
  {
   "cell_type": "markdown",
   "id": "e81443ee",
   "metadata": {
    "editable": true
   },
   "source": [
    "where we have the onebody operators"
   ]
  },
  {
   "cell_type": "markdown",
   "id": "66a9a7e1",
   "metadata": {
    "editable": true
   },
   "source": [
    "$$\n",
    "j_z^{(n)}=\\frac{1}{2}\\sum_{\\sigma}\\sigma a^\\dagger_{n\\sigma}a_{n\\sigma},\n",
    "$$"
   ]
  },
  {
   "cell_type": "markdown",
   "id": "c2377b76",
   "metadata": {
    "editable": true
   },
   "source": [
    "and"
   ]
  },
  {
   "cell_type": "markdown",
   "id": "a5a6f6c3",
   "metadata": {
    "editable": true
   },
   "source": [
    "$$\n",
    "j^{(n)}_{\\pm}=a^\\dagger_{n\\pm}a_{n\\mp}.\n",
    "$$"
   ]
  },
  {
   "cell_type": "markdown",
   "id": "c0b73c4e",
   "metadata": {
    "editable": true
   },
   "source": [
    "These operators obey the $SU(2)$ commutation relations"
   ]
  },
  {
   "cell_type": "markdown",
   "id": "4423b0f1",
   "metadata": {
    "editable": true
   },
   "source": [
    "$$\n",
    "[J_+,J_-]=2J_z,\n",
    "$$"
   ]
  },
  {
   "cell_type": "markdown",
   "id": "fa01d9cc",
   "metadata": {
    "editable": true
   },
   "source": [
    "and"
   ]
  },
  {
   "cell_type": "markdown",
   "id": "1739931d",
   "metadata": {
    "editable": true
   },
   "source": [
    "$$\n",
    "[J_z,J_\\pm]=\\pm J_\\pm.\n",
    "$$"
   ]
  },
  {
   "cell_type": "markdown",
   "id": "14204b49",
   "metadata": {
    "editable": true
   },
   "source": [
    "Here the ladder operators are defined as $J_{\\pm}= J_x\\pm iJ_y$. With this rewriting, we can see that the total spin operator $J^2$, which is defined as"
   ]
  },
  {
   "cell_type": "markdown",
   "id": "27c59cd4",
   "metadata": {
    "editable": true
   },
   "source": [
    "$$\n",
    "J^2= J^2_x+J^2_y+J^2_z =\n",
    "\\frac{1}{2}\\{J_+,J_-\\}+J_z^2,\n",
    "$$"
   ]
  },
  {
   "cell_type": "markdown",
   "id": "0580288f",
   "metadata": {
    "editable": true
   },
   "source": [
    "commutes with the Hamiltonian since the Hamiltonian.\n",
    "We note also that the rotation operator"
   ]
  },
  {
   "cell_type": "markdown",
   "id": "4c0a48bc",
   "metadata": {
    "editable": true
   },
   "source": [
    "$$\n",
    "R=e^{i\\phi J_z},\n",
    "$$"
   ]
  },
  {
   "cell_type": "markdown",
   "id": "4d5c67e1",
   "metadata": {
    "editable": true
   },
   "source": [
    "commutes with the Hamiltonian, which can be explained as follows. Writing $J_z$ as"
   ]
  },
  {
   "cell_type": "markdown",
   "id": "361389c5",
   "metadata": {
    "editable": true
   },
   "source": [
    "$$\n",
    "J_z=\\frac{1}{2}(N_+-N_-),\n",
    "$$"
   ]
  },
  {
   "cell_type": "markdown",
   "id": "a8855654",
   "metadata": {
    "editable": true
   },
   "source": [
    "where $N_\\pm=\\sum_{n\\pm}a^\\dagger_{n\\pm}a_{n\\pm}$, allows us to see that it measures half the difference between the number of particles in the upper and lower levels. Thus, the possible eigenvalues $r$ of the signature operator are"
   ]
  },
  {
   "cell_type": "markdown",
   "id": "f9057010",
   "metadata": {
    "editable": true
   },
   "source": [
    "<!-- Equation labels as ordinary links -->\n",
    "<div id=\"_auto8\"></div>\n",
    "\n",
    "$$\n",
    "\\begin{equation}\n",
    "r=+1,  j_z=2n \n",
    "\\label{_auto8} \\tag{33}\n",
    "\\end{equation}\n",
    "$$"
   ]
  },
  {
   "cell_type": "markdown",
   "id": "53e71776",
   "metadata": {
    "editable": true
   },
   "source": [
    "<!-- Equation labels as ordinary links -->\n",
    "<div id=\"_auto9\"></div>\n",
    "\n",
    "$$\n",
    "\\begin{equation} \n",
    "r=+i,  j_z=2n+\\frac{1}{2} \n",
    "\\label{_auto9} \\tag{34}\n",
    "\\end{equation}\n",
    "$$"
   ]
  },
  {
   "cell_type": "markdown",
   "id": "b263daed",
   "metadata": {
    "editable": true
   },
   "source": [
    "<!-- Equation labels as ordinary links -->\n",
    "<div id=\"_auto10\"></div>\n",
    "\n",
    "$$\n",
    "\\begin{equation} \n",
    "r=-1,  j_z=2n+1 \n",
    "\\label{_auto10} \\tag{35}\n",
    "\\end{equation}\n",
    "$$"
   ]
  },
  {
   "cell_type": "markdown",
   "id": "767cbdd6",
   "metadata": {
    "editable": true
   },
   "source": [
    "<!-- Equation labels as ordinary links -->\n",
    "<div id=\"_auto11\"></div>\n",
    "\n",
    "$$\n",
    "\\begin{equation} \n",
    "r=-i,  j_z=2n+\\frac{3}{2} \n",
    "\\label{_auto11} \\tag{36}\n",
    "\\end{equation}\n",
    "$$"
   ]
  },
  {
   "cell_type": "markdown",
   "id": "a71f8af2",
   "metadata": {
    "editable": true
   },
   "source": [
    "<!-- Equation labels as ordinary links -->\n",
    "<div id=\"_auto12\"></div>\n",
    "\n",
    "$$\n",
    "\\begin{equation} \n",
    "\\label{_auto12} \\tag{37}\n",
    "\\end{equation}\n",
    "$$"
   ]
  },
  {
   "cell_type": "markdown",
   "id": "39c931d8",
   "metadata": {
    "editable": true
   },
   "source": [
    "for $n\\in\\mathbb{Z}$. Note that $r$ is real or imaginary if the number\n",
    "of particles $N$ is even or odd, respectively. Since, as discussed\n",
    "above, the Lipkin Hamiltonian conserves $N$, $r$ cannot jump between\n",
    "being real and imaginary. Additionally, because particles must be\n",
    "moved in pairs, and $J_z$ measures half the difference between\n",
    "particles in the upper and lower levels, $j_z$ can only change by as"
   ]
  },
  {
   "cell_type": "markdown",
   "id": "b845a21a",
   "metadata": {
    "editable": true
   },
   "source": [
    "$$\n",
    "j_z\\rightarrow \\frac{1}{2}[(N_+\\pm 2n)-(N_-\\mp 2n)]\n",
    "$$"
   ]
  },
  {
   "cell_type": "markdown",
   "id": "f00d9fdb",
   "metadata": {
    "editable": true
   },
   "source": [
    "or $j_z\\rightarrow J_z\\pm2n$.\n",
    "\n",
    "To solve the Lipkin model with a quantum computer, the first step is\n",
    "to map the system to a set of qubits. We will restrict ourselves here\n",
    "to the half-filled case where the number of particles $N$ equals the\n",
    "degeneracy of the states $\\Omega$. One could assign each possible\n",
    "state $(n,\\sigma)$ a qubit such that the qubit being in the state\n",
    "$\\vert 1\\rangle$ or $\\vert 0\\rangle$ would imply that the state\n",
    "$(n,\\sigma)$ is occupied or unoccupied, respectively. This mapping\n",
    "scheme (which we will call occupation mapping) requires 2$\\Omega$\n",
    "qubits.\n",
    "\n",
    "However, because there are only two energy levels in the Lipkin model,\n",
    "any other natural mapping is possible. In this mapping scheme (which\n",
    "we will call level mapping) each doublet ($(n,+1)$, $(n,-1)$) would be\n",
    "assigned a qubit such that the qubit being in the state $\\vert 0\\rangle$ or\n",
    "$\\vert 1\\rangle$ would imply that the particle is in the $(n,+1)$ or $(n,-1)$\n",
    "state, respectively. Note that these are the only two possible\n",
    "configurations of the doublet as we are restricting ourselves to the\n",
    "half-filled case and the Lipkin Hamiltonian only moves particles\n",
    "between energy levels, not degenerate states. Thus the level mapping\n",
    "only requires $\\Omega$ qubits which is half that of the occupation\n",
    "mapping.\n",
    "\n",
    "The Hamiltonian takes the form"
   ]
  },
  {
   "cell_type": "markdown",
   "id": "459845b4",
   "metadata": {
    "editable": true
   },
   "source": [
    "<!-- Equation labels as ordinary links -->\n",
    "<div id=\"_auto13\"></div>\n",
    "\n",
    "$$\n",
    "\\begin{equation}\n",
    "H=\\epsilon J_z + \\frac{1}{2}V(J^2_++J^2_-).\n",
    "\\label{_auto13} \\tag{38}\n",
    "\\end{equation}\n",
    "$$"
   ]
  },
  {
   "cell_type": "markdown",
   "id": "cf1181ca",
   "metadata": {
    "editable": true
   },
   "source": [
    "Plugging the mapping from the total $J$ operators to the individual one-body $j$ operators yields"
   ]
  },
  {
   "cell_type": "markdown",
   "id": "81f6a40c",
   "metadata": {
    "editable": true
   },
   "source": [
    "<!-- Equation labels as ordinary links -->\n",
    "<div id=\"_auto14\"></div>\n",
    "\n",
    "$$\n",
    "\\begin{equation}\n",
    "H = \\epsilon\\sum_{n}j_z^{(n)} + \\frac{1}{2}V\\left[\\left(\\sum_nj^{(n)}_{+}\\right)^2+\\left(\\sum_nj^{(n)}_{-}\\right)^2\\right]\n",
    "\\label{_auto14} \\tag{39}\n",
    "\\end{equation}\n",
    "$$"
   ]
  },
  {
   "cell_type": "markdown",
   "id": "29cb307e",
   "metadata": {
    "editable": true
   },
   "source": [
    "<!-- Equation labels as ordinary links -->\n",
    "<div id=\"_auto15\"></div>\n",
    "\n",
    "$$\n",
    "\\begin{equation} \n",
    "= \\epsilon\\sum_{n}j_z^{(n)} + \\frac{1}{2}V\\sum_{n,m}\\left(j^{(n)}_+j^{(m)}_++j^{(n)}_-j^{(m)}_-\\right)\n",
    "\\label{_auto15} \\tag{40}\n",
    "\\end{equation}\n",
    "$$"
   ]
  },
  {
   "cell_type": "markdown",
   "id": "e461f3c2",
   "metadata": {
    "editable": true
   },
   "source": [
    "<!-- Equation labels as ordinary links -->\n",
    "<div id=\"_auto16\"></div>\n",
    "\n",
    "$$\n",
    "\\begin{equation} \n",
    "= \\epsilon\\sum_{n}j_z^{(n)} + 2V\\sum_{n<m}\\left(j^{(n)}_xj^{(m)}_x-j^{(n)}_yj^{(m)}_y\\right),\n",
    "\\label{_auto16} \\tag{41}\n",
    "\\end{equation}\n",
    "$$"
   ]
  },
  {
   "cell_type": "markdown",
   "id": "c48444cd",
   "metadata": {
    "editable": true
   },
   "source": [
    "where we have used the definitions"
   ]
  },
  {
   "cell_type": "markdown",
   "id": "8d0d9a37",
   "metadata": {
    "editable": true
   },
   "source": [
    "$$\n",
    "j_{\\pm}^{(n)}=j_x^{(n)}\\pm ij_y^{(n)}.\n",
    "$$"
   ]
  },
  {
   "cell_type": "markdown",
   "id": "62f5b9aa",
   "metadata": {
    "editable": true
   },
   "source": [
    "To convert to Pauli matrices, we make the transformations"
   ]
  },
  {
   "cell_type": "markdown",
   "id": "ebfc2574",
   "metadata": {
    "editable": true
   },
   "source": [
    "$$\n",
    "j_x^{(n)} \\rightarrow X_n/2,\n",
    "$$"
   ]
  },
  {
   "cell_type": "markdown",
   "id": "493542a2",
   "metadata": {
    "editable": true
   },
   "source": [
    "and"
   ]
  },
  {
   "cell_type": "markdown",
   "id": "2c688e6f",
   "metadata": {
    "editable": true
   },
   "source": [
    "$$\n",
    "j_y^{(n)} \\rightarrow Y_n/2,\n",
    "$$"
   ]
  },
  {
   "cell_type": "markdown",
   "id": "811d1d1c",
   "metadata": {
    "editable": true
   },
   "source": [
    "and finally"
   ]
  },
  {
   "cell_type": "markdown",
   "id": "7dd11960",
   "metadata": {
    "editable": true
   },
   "source": [
    "$$\n",
    "j_z^{(n)} \\rightarrow Z_n/2,\n",
    "$$"
   ]
  },
  {
   "cell_type": "markdown",
   "id": "06eb9ecb",
   "metadata": {
    "editable": true
   },
   "source": [
    "which preserve the above $SU(2)$  commutation relations.\n",
    "The factor of $1/2$\n",
    "is due to the eigenvalues of the Pauli matrices being $\\pm 1$\n",
    "while we are dealing with spin $1/2$ particles.\n",
    "\n",
    "This transforms our Hamiltonian into"
   ]
  },
  {
   "cell_type": "markdown",
   "id": "6d0e6b62",
   "metadata": {
    "editable": true
   },
   "source": [
    "$$\n",
    "H=\\frac{1}{2}\\epsilon\\sum_{k=1}^nZ_k+\\frac{1}{2}V\\sum_{n\\neq j=1}^N(X_kX_j-Y_kY_j).\n",
    "$$"
   ]
  },
  {
   "cell_type": "markdown",
   "id": "7414e171",
   "metadata": {
    "editable": true
   },
   "source": [
    "With this form, we can clearly see that the first (one-body) term in\n",
    "the Hamiltonian returns the energy $-\\epsilon/2$ or $+\\epsilon/2$ if\n",
    "the qubit representing the particle of a doublet is in the ground\n",
    "($\\vert 1\\rangle$) or excited ($\\vert 0\\rangle$) state,\n",
    "respectively. The action of the second (two-body) term in the\n",
    "Hamiltonian can be determined by noting that"
   ]
  },
  {
   "cell_type": "markdown",
   "id": "40ba3a97",
   "metadata": {
    "editable": true
   },
   "source": [
    "<!-- Equation labels as ordinary links -->\n",
    "<div id=\"_auto17\"></div>\n",
    "\n",
    "$$\n",
    "\\begin{equation}\n",
    "\\frac{1}{2}(XX-YY)\\vert 00\\rangle = \\vert 11\\rangle,\n",
    "\\label{_auto17} \\tag{42}\n",
    "\\end{equation}\n",
    "$$"
   ]
  },
  {
   "cell_type": "markdown",
   "id": "4cce77f5",
   "metadata": {
    "editable": true
   },
   "source": [
    "<!-- Equation labels as ordinary links -->\n",
    "<div id=\"_auto18\"></div>\n",
    "\n",
    "$$\n",
    "\\begin{equation} \n",
    "\\frac{1}{2}(XX-YY)\\vert 01\\rangle = 0,\n",
    "\\label{_auto18} \\tag{43}\n",
    "\\end{equation}\n",
    "$$"
   ]
  },
  {
   "cell_type": "markdown",
   "id": "798b973d",
   "metadata": {
    "editable": true
   },
   "source": [
    "<!-- Equation labels as ordinary links -->\n",
    "<div id=\"_auto19\"></div>\n",
    "\n",
    "$$\n",
    "\\begin{equation} \n",
    "\\frac{1}{2}(XX-YY)\\vert 10\\rangle = 0,\n",
    "\\label{_auto19} \\tag{44}\n",
    "\\end{equation}\n",
    "$$"
   ]
  },
  {
   "cell_type": "markdown",
   "id": "a5d05b59",
   "metadata": {
    "editable": true
   },
   "source": [
    "<!-- Equation labels as ordinary links -->\n",
    "<div id=\"_auto20\"></div>\n",
    "\n",
    "$$\n",
    "\\begin{equation} \n",
    "\\frac{1}{2}(XX-YY)\\vert 11\\rangle = \\vert 00\\rangle.\n",
    "\\label{_auto20} \\tag{45}\n",
    "\\end{equation}\n",
    "$$"
   ]
  },
  {
   "cell_type": "markdown",
   "id": "2d93dccf",
   "metadata": {
    "editable": true
   },
   "source": [
    "That is, the two-body term moves a pair of particles between the\n",
    "ground states $\\vert 00\\rangle$ and the excited states $\\vert\n",
    "11\\rangle$ of their respective doublets."
   ]
  },
  {
   "cell_type": "markdown",
   "id": "26aab05d",
   "metadata": {
    "editable": true
   },
   "source": [
    "## Summarizing the Lipkin model\n",
    "\n",
    "The Lipkin model is  rewritten in terms of the quasipin operators as"
   ]
  },
  {
   "cell_type": "markdown",
   "id": "c1b98bbc",
   "metadata": {
    "editable": true
   },
   "source": [
    "$$\n",
    "\\begin{align*}\n",
    "    \\begin{split}\n",
    "        H_0 &= \\epsilon J_z, \\\\\n",
    "        H_1 &= \\frac{1}{2}V (J_+^2 + J_-^2), \\\\\n",
    "        H_2 & = \\frac{1}{2}W ( J_+J_- +J_{-}J_+ - N ),\n",
    "    \\end{split}\n",
    "\\end{align*}\n",
    "$$"
   ]
  },
  {
   "cell_type": "markdown",
   "id": "d6b52177",
   "metadata": {
    "editable": true
   },
   "source": [
    "## Quasispin operators\n",
    "\n",
    "These quasi spin operators obey the normal spin commutator relations"
   ]
  },
  {
   "cell_type": "markdown",
   "id": "e887f3f0",
   "metadata": {
    "editable": true
   },
   "source": [
    "$$\n",
    "\\begin{align*}\n",
    "    &[J_z,J_{\\pm}] = \\pm J_\\pm, \n",
    "    &[J_+,J_-] = 2 J_z, \\\\\n",
    "    &[J^2,J_{\\pm}] = 0,\n",
    "    &[J^2,J_z] = 0,\n",
    "\\end{align*}\n",
    "$$"
   ]
  },
  {
   "cell_type": "markdown",
   "id": "66ece12a",
   "metadata": {
    "editable": true
   },
   "source": [
    "in addition to commuting with the number operator"
   ]
  },
  {
   "cell_type": "markdown",
   "id": "00ff1ce5",
   "metadata": {
    "editable": true
   },
   "source": [
    "$$\n",
    "\\begin{align*}\n",
    "    [N,J_z] = [N,J_{\\pm}] = [N,J^2] = 0.\n",
    "\\end{align*}\n",
    "$$"
   ]
  },
  {
   "cell_type": "markdown",
   "id": "88ba7388",
   "metadata": {
    "editable": true
   },
   "source": [
    "Using these relations we can show that the Hamiltonian (a product of\n",
    "quasi spin operators and the number operator) also commutes with\n",
    "$J^2$, that is $[H,J^2]=0$. This means that $H$ and $J^2$ have a shared\n",
    "eigenbasis, with $J$ being a so-called **good** quantum number."
   ]
  },
  {
   "cell_type": "markdown",
   "id": "94f79357",
   "metadata": {
    "editable": true
   },
   "source": [
    "## System to diagonalize by traditional methods\n",
    "\n",
    "Using spin-eigenstates as the Hamiltonian basis, we define states\n",
    "through the normal approach $\\vert J,J_z\\rangle$ with $J$ and $ J_z$ as spin\n",
    "and spin-projections, respectively. The states $J_z = \\pm J$ are the\n",
    "easiest to construct, corresponding to a single level being completely\n",
    "filled. States in between can then be found using the quasi-spin\n",
    "ladder operators following"
   ]
  },
  {
   "cell_type": "markdown",
   "id": "7f21407f",
   "metadata": {
    "editable": true
   },
   "source": [
    "$$\n",
    "J_\\pm \\vert J,J_z\\rangle = \\sqrt{J(J+1)-J_z (J_z \\pm 1)} \\vert J,J_z \\pm 1\\rangle.\n",
    "$$"
   ]
  },
  {
   "cell_type": "markdown",
   "id": "a9480073",
   "metadata": {
    "editable": true
   },
   "source": [
    "Using this basis for the quasi-spin Hamiltonian, we can rewrite the explicit matrix $H_{J_z,J'_z} = \\langle J,J_z\\vert  H \\vert J,J_z'\\rangle$ can be constructed."
   ]
  },
  {
   "cell_type": "markdown",
   "id": "597a07a9",
   "metadata": {
    "editable": true
   },
   "source": [
    "## The $J=1$ case\n",
    "\n",
    "For $N=2$ particles, we have the triplet $J=1$, with three possible projection $J_z = 0, \\pm 1$. This gives the following matrix"
   ]
  },
  {
   "cell_type": "markdown",
   "id": "8a7a78d8",
   "metadata": {
    "editable": true
   },
   "source": [
    "$$\n",
    "H = \\begin{bmatrix}\n",
    "        -\\epsilon & 0 & V \\\\\n",
    "        0 & W & 0 \\\\\n",
    "        V & 0 & \\epsilon\n",
    "    \\end{bmatrix}.\n",
    "$$"
   ]
  },
  {
   "cell_type": "markdown",
   "id": "1e11cecf",
   "metadata": {
    "editable": true
   },
   "source": [
    "By solving the eigenvalue problem, the ground state energy can be exactly found."
   ]
  },
  {
   "cell_type": "markdown",
   "id": "79d85f6c",
   "metadata": {
    "editable": true
   },
   "source": [
    "## The $J=2$ case\n",
    "\n",
    "Similarly, for the $N=4$ particles case we have $J = 2$ with five possible projections $J_z = 0,\\pm1,\\pm2$. This gives us the Hamiltonian matrix"
   ]
  },
  {
   "cell_type": "markdown",
   "id": "b25a3cfe",
   "metadata": {
    "editable": true
   },
   "source": [
    "$$\n",
    "H = \\begin{bmatrix}\n",
    "        -2\\epsilon & 0  & \\sqrt{6}V &0 &0 \\\\\n",
    "        0 & -\\epsilon + 3W & 0 & 3V & 0 \\\\\n",
    "        \\sqrt{6}V & 0 & 4W & 0 & \\sqrt{6}V \\\\\n",
    "        0 & 3V & 0 & \\epsilon + 3W & 0 \\\\\n",
    "        0 & 0 & \\sqrt{6}V & 0 & 2\\epsilon\n",
    "    \\end{bmatrix}.\n",
    "$$"
   ]
  },
  {
   "cell_type": "markdown",
   "id": "8359a811",
   "metadata": {
    "editable": true
   },
   "source": [
    "## More rewriting\n",
    "\n",
    "Following the work of LaRose and collaborators, see\n",
    "<https://journals.aps.org/prc/abstract/10.1103/PhysRevC.106.024319>,\n",
    "we can rewrite the Lipkin Hamiltonian for efficient adaptations to\n",
    "quantum computing.\n",
    "\n",
    "We have"
   ]
  },
  {
   "cell_type": "markdown",
   "id": "12cd2870",
   "metadata": {
    "editable": true
   },
   "source": [
    "$$\n",
    "J_z = \\sum_{i}^{N} j_{z}^{i} \\hspace{20px} J_\\pm = \\sum_i^N j_{\\pm}^{i} = \\sum_i^N (j_{x}^{i}\\pm ij_{y}^{i}),\n",
    "$$"
   ]
  },
  {
   "cell_type": "markdown",
   "id": "a620fe60",
   "metadata": {
    "editable": true
   },
   "source": [
    "with $N$ being the number of particles. Additionally, since we have spin-$1/2$ fermions, the mapping to Pauli matrices follow"
   ]
  },
  {
   "cell_type": "markdown",
   "id": "d6a92bd0",
   "metadata": {
    "editable": true
   },
   "source": [
    "$$\n",
    "j_{x}^{i} = \\frac{1}{2}X_i,\\hspace{20px}j_{y}^{i} = \\frac{1}{2}Y_i,\\hspace{20px}j_{z}^{i} = \\frac{1}{2}Z_i.\n",
    "$$"
   ]
  },
  {
   "cell_type": "markdown",
   "id": "4ee77bed",
   "metadata": {
    "editable": true
   },
   "source": [
    "This means that we require $N$ qubits to calculate properties of a $N$ particle system, if no more symmetry reductions are considred."
   ]
  },
  {
   "cell_type": "markdown",
   "id": "b05ec836",
   "metadata": {
    "editable": true
   },
   "source": [
    "## Lipkin Hamiltonian for quantum computing\n",
    "\n",
    "We rewrote our Hamiltonian as"
   ]
  },
  {
   "cell_type": "markdown",
   "id": "a93c8e7a",
   "metadata": {
    "editable": true
   },
   "source": [
    "$$\n",
    "\\begin{align*}\n",
    "    \\begin{split}\n",
    "        H_0 &= \\frac{\\epsilon}{2}\\sum_{p}Z_p,  \\\\\n",
    "        H_1 &= \\frac{1}{2}V \\sum_{p < q}( X_p X_q - Y_p Y_q), \\\\\n",
    "        H_2 &= \\frac{1}{2}W \\sum_{p < q} \\left( X_p X_q + Y_p Y_q \\right). \n",
    "    \\end{split}\n",
    "\\end{align*}\n",
    "$$"
   ]
  },
  {
   "cell_type": "markdown",
   "id": "7f796b64",
   "metadata": {
    "editable": true
   },
   "source": [
    "For two particles coupling to spin $J=1$ we have"
   ]
  },
  {
   "cell_type": "markdown",
   "id": "eade523a",
   "metadata": {
    "editable": true
   },
   "source": [
    "$$\n",
    "H^{N=2} = \\frac{\\epsilon}{2}\\left(Z_1 + Z_2\\right) + \\frac{W+V}{2} X_1 X_2 - \\frac{W-V}{2} Y_1 Y_2.\n",
    "$$"
   ]
  },
  {
   "cell_type": "markdown",
   "id": "d47ee6ab",
   "metadata": {
    "editable": true
   },
   "source": [
    "## For four fermions\n",
    "Our Hamiltonian for $N=4$ is"
   ]
  },
  {
   "cell_type": "markdown",
   "id": "fcd612b0",
   "metadata": {
    "editable": true
   },
   "source": [
    "$$\n",
    "\\begin{align*}\n",
    "    \\begin{split}\n",
    "        H^{N=4} =& \\frac{\\epsilon}{2}\\left(Z_1 + Z_2 + Z_3 + Z_4\\right) + \\frac{W-V}{2}\\Big( X_1 X_2 +\\\\ \n",
    "        & X_1 X_3 + X_1 X_4 + X_2 X_3 + X_3 X_4 + X_3 X_4\n",
    "        \\Big) \\\\\n",
    "        &+ \\frac{W+V}{2}\\Big( Y_1 Y_2 + Y_1 Y_3 + Y_1 Y_4 + Y_2 Y_3 \\\\\n",
    "        & + Y_3 Y_4 + Y_3 Y_4\\Big).\n",
    "    \\end{split}\n",
    "\\end{align*}\n",
    "$$"
   ]
  },
  {
   "cell_type": "markdown",
   "id": "98dff854",
   "metadata": {
    "editable": true
   },
   "source": [
    "Note that well that a term like $Z_1$ reads $Z_1\\otimes I_2 \\otimes I_3 \\otimes I_4$ where the subscript points to qubit $i$ and all matrices are $2\\times 2$ matrices."
   ]
  },
  {
   "cell_type": "markdown",
   "id": "5cbc6e70",
   "metadata": {
    "editable": true
   },
   "source": [
    "## Leaving out the $W$ term\n",
    "\n",
    "If we set $W = 0$ we can simplify the Hamiltonian. For this we  note that if we only include the $H_0$ and $H_1$ terms,  spins differing by $\\pm2$ are the only possible non-diagonal couplings. Since $H_0$ is diagonal and single particle energies are degenerate, it does not break any symmetry.\n",
    "Instead of the $2J+1$ spin projections, we simply have $J+1$ relevant states. From <https://journals.aps.org/prc/abstract/10.1103/PhysRevC.106.024319>,\n",
    "the two-qubit Hamiltonian for $N=4$ can be written as"
   ]
  },
  {
   "cell_type": "markdown",
   "id": "1ecc4266",
   "metadata": {
    "editable": true
   },
   "source": [
    "$$\n",
    "H_{W=0}^{N=4} = \\epsilon(Z_1 + Z_2) + \\frac{\\sqrt{6}}{2}V (X_1 + X_2 + Z_1 X_0 - X_1 Z_0).\n",
    "$$"
   ]
  },
  {
   "cell_type": "markdown",
   "id": "b22c0427",
   "metadata": {
    "editable": true
   },
   "source": [
    "This is computationally more efficient since we only need half of the qubits."
   ]
  }
 ],
 "metadata": {
  "kernelspec": {
   "display_name": "Python 3 (ipykernel)",
   "language": "python",
   "name": "python3"
  },
  "language_info": {
   "codemirror_mode": {
    "name": "ipython",
    "version": 3
   },
   "file_extension": ".py",
   "mimetype": "text/x-python",
   "name": "python",
   "nbconvert_exporter": "python",
   "pygments_lexer": "ipython3",
   "version": "3.9.15"
  }
 },
 "nbformat": 4,
 "nbformat_minor": 5
}
